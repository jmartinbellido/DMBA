{
  "nbformat": 4,
  "nbformat_minor": 0,
  "metadata": {
    "colab": {
      "name": "DMBA3_Python_Notebook3.ipynb",
      "provenance": [],
      "collapsed_sections": [],
      "toc_visible": true,
      "authorship_tag": "ABX9TyPVOthjVr652vQxcmovkvma",
      "include_colab_link": true
    },
    "kernelspec": {
      "name": "python3",
      "display_name": "Python 3"
    }
  },
  "cells": [
    {
      "cell_type": "markdown",
      "metadata": {
        "id": "view-in-github",
        "colab_type": "text"
      },
      "source": [
        "<a href=\"https://colab.research.google.com/github/jmartinbellido/DMBA/blob/main/DMBA3_Python_Notebook3.ipynb\" target=\"_parent\"><img src=\"https://colab.research.google.com/assets/colab-badge.svg\" alt=\"Open In Colab\"/></a>"
      ]
    },
    {
      "cell_type": "markdown",
      "metadata": {
        "id": "Iq0dLzFr2tux"
      },
      "source": [
        "# **ISDI DMBA**\n",
        "# Introduction to Python for Data Analysis\n",
        "## *Notebook 3: Data Cleaning & Exploratory Data Analysis (EDA)*\n",
        "---\n",
        "\n",
        "### TABLE OF CONTENTS\n",
        "1. DATA CLEANING\n",
        "2. EDA: FREQUENCY\n",
        "3. EDA: CORRELATION\n",
        "4. EDA: DISTRIBUTION\n",
        "5. EDA: TIME SERIES\n",
        "6. EXERCISES\n",
        "\n",
        "### Lecturer: Juan Martin Bellido (jmbelldo@isdi.education)\n",
        "\n"
      ]
    },
    {
      "cell_type": "code",
      "metadata": {
        "id": "5eqClCOoPuPC"
      },
      "source": [
        "# importing libraries\n",
        "import pandas as pd\n",
        "import matplotlib.pyplot as plt\n",
        "import seaborn as sn\n",
        "from matplotlib.pyplot import figure\n",
        "from scipy import stats\n",
        "import scipy\n",
        "from datetime import datetime"
      ],
      "execution_count": null,
      "outputs": []
    },
    {
      "cell_type": "markdown",
      "metadata": {
        "id": "6EMZLXKAxgOu"
      },
      "source": [
        "# DATA CLEANING\n",
        "In this section, we will review three basic data cleaning operations,\n",
        "*   handling null values\n",
        "*   removing duplicates\n",
        "*   identifying outliers\n"
      ]
    },
    {
      "cell_type": "code",
      "metadata": {
        "id": "IEAZPwOs_oDP"
      },
      "source": [
        "# Import dataframe\n",
        "df_jamesbond = pd.read_csv(\"https://data-wizards.s3.amazonaws.com/datasets/jamesbond.csv\",index_col=\"Film\")"
      ],
      "execution_count": null,
      "outputs": []
    },
    {
      "cell_type": "markdown",
      "metadata": {
        "id": "xH5M7lBjA8_u"
      },
      "source": [
        "### Handling null values\n",
        "---"
      ]
    },
    {
      "cell_type": "markdown",
      "metadata": {
        "id": "GCT9M535ABjf"
      },
      "source": [
        "#### *Identify null values in a DataFrame*\n",
        "\n",
        "The first step is to check if there are indeed null values in the DataFrame and identify on which field.\n",
        "\n",
        "There are two functions that will help us with this,\n",
        "\n",
        "```\n",
        "isna(object)\n",
        "```\n",
        "> *The isna() method test if values are NaN (True) or not (False)*\n",
        "\n",
        "```\n",
        "any(boolean object)\n",
        "```\n",
        "> *The any() method test if at least one of the boolean elements is True*\n",
        "\n",
        "\n",
        "\n",
        "\n",
        "\n"
      ]
    },
    {
      "cell_type": "code",
      "metadata": {
        "id": "AZHgPheMHoem",
        "colab": {
          "base_uri": "https://localhost:8080/",
          "height": 858
        },
        "outputId": "c9feaa9a-ed5e-4bfc-e5b2-e971021bfc9c"
      },
      "source": [
        "# Step 1: apply isna() method to the whole DataFrame to test for NaN values\n",
        "nan_values = df_jamesbond.isna() # we store the result in a new object\n",
        "nan_values # let us visualize the object to see what we are doing"
      ],
      "execution_count": null,
      "outputs": [
        {
          "output_type": "execute_result",
          "data": {
            "text/html": [
              "<div>\n",
              "<style scoped>\n",
              "    .dataframe tbody tr th:only-of-type {\n",
              "        vertical-align: middle;\n",
              "    }\n",
              "\n",
              "    .dataframe tbody tr th {\n",
              "        vertical-align: top;\n",
              "    }\n",
              "\n",
              "    .dataframe thead th {\n",
              "        text-align: right;\n",
              "    }\n",
              "</style>\n",
              "<table border=\"1\" class=\"dataframe\">\n",
              "  <thead>\n",
              "    <tr style=\"text-align: right;\">\n",
              "      <th></th>\n",
              "      <th>Year</th>\n",
              "      <th>Actor</th>\n",
              "      <th>Director</th>\n",
              "      <th>Box Office</th>\n",
              "      <th>Budget</th>\n",
              "      <th>Bond Actor Salary</th>\n",
              "    </tr>\n",
              "    <tr>\n",
              "      <th>Film</th>\n",
              "      <th></th>\n",
              "      <th></th>\n",
              "      <th></th>\n",
              "      <th></th>\n",
              "      <th></th>\n",
              "      <th></th>\n",
              "    </tr>\n",
              "  </thead>\n",
              "  <tbody>\n",
              "    <tr>\n",
              "      <th>Dr. No</th>\n",
              "      <td>False</td>\n",
              "      <td>False</td>\n",
              "      <td>False</td>\n",
              "      <td>False</td>\n",
              "      <td>False</td>\n",
              "      <td>False</td>\n",
              "    </tr>\n",
              "    <tr>\n",
              "      <th>From Russia with Love</th>\n",
              "      <td>False</td>\n",
              "      <td>False</td>\n",
              "      <td>False</td>\n",
              "      <td>False</td>\n",
              "      <td>False</td>\n",
              "      <td>False</td>\n",
              "    </tr>\n",
              "    <tr>\n",
              "      <th>Goldfinger</th>\n",
              "      <td>False</td>\n",
              "      <td>False</td>\n",
              "      <td>False</td>\n",
              "      <td>False</td>\n",
              "      <td>False</td>\n",
              "      <td>False</td>\n",
              "    </tr>\n",
              "    <tr>\n",
              "      <th>Thunderball</th>\n",
              "      <td>False</td>\n",
              "      <td>False</td>\n",
              "      <td>False</td>\n",
              "      <td>False</td>\n",
              "      <td>False</td>\n",
              "      <td>False</td>\n",
              "    </tr>\n",
              "    <tr>\n",
              "      <th>Casino Royale</th>\n",
              "      <td>False</td>\n",
              "      <td>False</td>\n",
              "      <td>False</td>\n",
              "      <td>False</td>\n",
              "      <td>False</td>\n",
              "      <td>True</td>\n",
              "    </tr>\n",
              "    <tr>\n",
              "      <th>You Only Live Twice</th>\n",
              "      <td>False</td>\n",
              "      <td>False</td>\n",
              "      <td>False</td>\n",
              "      <td>False</td>\n",
              "      <td>False</td>\n",
              "      <td>False</td>\n",
              "    </tr>\n",
              "    <tr>\n",
              "      <th>On Her Majesty's Secret Service</th>\n",
              "      <td>False</td>\n",
              "      <td>False</td>\n",
              "      <td>False</td>\n",
              "      <td>False</td>\n",
              "      <td>False</td>\n",
              "      <td>False</td>\n",
              "    </tr>\n",
              "    <tr>\n",
              "      <th>Diamonds Are Forever</th>\n",
              "      <td>False</td>\n",
              "      <td>False</td>\n",
              "      <td>False</td>\n",
              "      <td>False</td>\n",
              "      <td>False</td>\n",
              "      <td>False</td>\n",
              "    </tr>\n",
              "    <tr>\n",
              "      <th>Live and Let Die</th>\n",
              "      <td>False</td>\n",
              "      <td>False</td>\n",
              "      <td>False</td>\n",
              "      <td>False</td>\n",
              "      <td>False</td>\n",
              "      <td>True</td>\n",
              "    </tr>\n",
              "    <tr>\n",
              "      <th>The Man with the Golden Gun</th>\n",
              "      <td>False</td>\n",
              "      <td>False</td>\n",
              "      <td>False</td>\n",
              "      <td>False</td>\n",
              "      <td>False</td>\n",
              "      <td>True</td>\n",
              "    </tr>\n",
              "    <tr>\n",
              "      <th>The Spy Who Loved Me</th>\n",
              "      <td>False</td>\n",
              "      <td>False</td>\n",
              "      <td>False</td>\n",
              "      <td>False</td>\n",
              "      <td>False</td>\n",
              "      <td>True</td>\n",
              "    </tr>\n",
              "    <tr>\n",
              "      <th>Moonraker</th>\n",
              "      <td>False</td>\n",
              "      <td>False</td>\n",
              "      <td>False</td>\n",
              "      <td>False</td>\n",
              "      <td>False</td>\n",
              "      <td>True</td>\n",
              "    </tr>\n",
              "    <tr>\n",
              "      <th>For Your Eyes Only</th>\n",
              "      <td>False</td>\n",
              "      <td>False</td>\n",
              "      <td>False</td>\n",
              "      <td>False</td>\n",
              "      <td>False</td>\n",
              "      <td>True</td>\n",
              "    </tr>\n",
              "    <tr>\n",
              "      <th>Never Say Never Again</th>\n",
              "      <td>False</td>\n",
              "      <td>False</td>\n",
              "      <td>False</td>\n",
              "      <td>False</td>\n",
              "      <td>False</td>\n",
              "      <td>True</td>\n",
              "    </tr>\n",
              "    <tr>\n",
              "      <th>Octopussy</th>\n",
              "      <td>False</td>\n",
              "      <td>False</td>\n",
              "      <td>False</td>\n",
              "      <td>False</td>\n",
              "      <td>False</td>\n",
              "      <td>False</td>\n",
              "    </tr>\n",
              "    <tr>\n",
              "      <th>A View to a Kill</th>\n",
              "      <td>False</td>\n",
              "      <td>False</td>\n",
              "      <td>False</td>\n",
              "      <td>False</td>\n",
              "      <td>False</td>\n",
              "      <td>False</td>\n",
              "    </tr>\n",
              "    <tr>\n",
              "      <th>The Living Daylights</th>\n",
              "      <td>False</td>\n",
              "      <td>False</td>\n",
              "      <td>False</td>\n",
              "      <td>False</td>\n",
              "      <td>False</td>\n",
              "      <td>False</td>\n",
              "    </tr>\n",
              "    <tr>\n",
              "      <th>Licence to Kill</th>\n",
              "      <td>False</td>\n",
              "      <td>False</td>\n",
              "      <td>False</td>\n",
              "      <td>False</td>\n",
              "      <td>False</td>\n",
              "      <td>False</td>\n",
              "    </tr>\n",
              "    <tr>\n",
              "      <th>GoldenEye</th>\n",
              "      <td>False</td>\n",
              "      <td>False</td>\n",
              "      <td>False</td>\n",
              "      <td>False</td>\n",
              "      <td>False</td>\n",
              "      <td>False</td>\n",
              "    </tr>\n",
              "    <tr>\n",
              "      <th>Tomorrow Never Dies</th>\n",
              "      <td>False</td>\n",
              "      <td>False</td>\n",
              "      <td>False</td>\n",
              "      <td>False</td>\n",
              "      <td>False</td>\n",
              "      <td>False</td>\n",
              "    </tr>\n",
              "    <tr>\n",
              "      <th>The World Is Not Enough</th>\n",
              "      <td>False</td>\n",
              "      <td>False</td>\n",
              "      <td>False</td>\n",
              "      <td>False</td>\n",
              "      <td>False</td>\n",
              "      <td>False</td>\n",
              "    </tr>\n",
              "    <tr>\n",
              "      <th>Die Another Day</th>\n",
              "      <td>False</td>\n",
              "      <td>False</td>\n",
              "      <td>False</td>\n",
              "      <td>False</td>\n",
              "      <td>False</td>\n",
              "      <td>False</td>\n",
              "    </tr>\n",
              "    <tr>\n",
              "      <th>Casino Royale</th>\n",
              "      <td>False</td>\n",
              "      <td>False</td>\n",
              "      <td>False</td>\n",
              "      <td>False</td>\n",
              "      <td>False</td>\n",
              "      <td>False</td>\n",
              "    </tr>\n",
              "    <tr>\n",
              "      <th>Quantum of Solace</th>\n",
              "      <td>False</td>\n",
              "      <td>False</td>\n",
              "      <td>False</td>\n",
              "      <td>False</td>\n",
              "      <td>False</td>\n",
              "      <td>False</td>\n",
              "    </tr>\n",
              "    <tr>\n",
              "      <th>Skyfall</th>\n",
              "      <td>False</td>\n",
              "      <td>False</td>\n",
              "      <td>False</td>\n",
              "      <td>False</td>\n",
              "      <td>False</td>\n",
              "      <td>False</td>\n",
              "    </tr>\n",
              "    <tr>\n",
              "      <th>Spectre</th>\n",
              "      <td>False</td>\n",
              "      <td>False</td>\n",
              "      <td>False</td>\n",
              "      <td>False</td>\n",
              "      <td>False</td>\n",
              "      <td>True</td>\n",
              "    </tr>\n",
              "  </tbody>\n",
              "</table>\n",
              "</div>"
            ],
            "text/plain": [
              "                                  Year  Actor  ...  Budget  Bond Actor Salary\n",
              "Film                                           ...                           \n",
              "Dr. No                           False  False  ...   False              False\n",
              "From Russia with Love            False  False  ...   False              False\n",
              "Goldfinger                       False  False  ...   False              False\n",
              "Thunderball                      False  False  ...   False              False\n",
              "Casino Royale                    False  False  ...   False               True\n",
              "You Only Live Twice              False  False  ...   False              False\n",
              "On Her Majesty's Secret Service  False  False  ...   False              False\n",
              "Diamonds Are Forever             False  False  ...   False              False\n",
              "Live and Let Die                 False  False  ...   False               True\n",
              "The Man with the Golden Gun      False  False  ...   False               True\n",
              "The Spy Who Loved Me             False  False  ...   False               True\n",
              "Moonraker                        False  False  ...   False               True\n",
              "For Your Eyes Only               False  False  ...   False               True\n",
              "Never Say Never Again            False  False  ...   False               True\n",
              "Octopussy                        False  False  ...   False              False\n",
              "A View to a Kill                 False  False  ...   False              False\n",
              "The Living Daylights             False  False  ...   False              False\n",
              "Licence to Kill                  False  False  ...   False              False\n",
              "GoldenEye                        False  False  ...   False              False\n",
              "Tomorrow Never Dies              False  False  ...   False              False\n",
              "The World Is Not Enough          False  False  ...   False              False\n",
              "Die Another Day                  False  False  ...   False              False\n",
              "Casino Royale                    False  False  ...   False              False\n",
              "Quantum of Solace                False  False  ...   False              False\n",
              "Skyfall                          False  False  ...   False              False\n",
              "Spectre                          False  False  ...   False               True\n",
              "\n",
              "[26 rows x 6 columns]"
            ]
          },
          "metadata": {
            "tags": []
          },
          "execution_count": 3
        }
      ]
    },
    {
      "cell_type": "code",
      "metadata": {
        "colab": {
          "base_uri": "https://localhost:8080/"
        },
        "id": "jq9Nf1NiCm8w",
        "outputId": "1682c0cf-5855-468b-cf92-930f2931b333"
      },
      "source": [
        "# Step 2: test if at least one value for each column is True (null)\n",
        "nan_columns = nan_values.any() # we apply any() to nan_values and store that in a new object\n",
        "nan_columns # let us visualize what we built\n",
        "# note: once visualizing the result, we observe that there are NaN values for field \"Bond Actor Salary\""
      ],
      "execution_count": null,
      "outputs": [
        {
          "output_type": "execute_result",
          "data": {
            "text/plain": [
              "Year                 False\n",
              "Actor                False\n",
              "Director             False\n",
              "Box Office           False\n",
              "Budget               False\n",
              "Bond Actor Salary     True\n",
              "dtype: bool"
            ]
          },
          "metadata": {
            "tags": []
          },
          "execution_count": 4
        }
      ]
    },
    {
      "cell_type": "markdown",
      "metadata": {
        "id": "nJF-N6xhEC7_"
      },
      "source": [
        "#### *Operate null values in DataFrame*\n",
        "Once identifying null values, we can decide whether to, \n",
        "*   remove full rows with at least one missing value; or \n",
        "*   fill null values \n",
        "\n"
      ]
    },
    {
      "cell_type": "code",
      "metadata": {
        "id": "5w2AIbjLJ__P",
        "colab": {
          "base_uri": "https://localhost:8080/",
          "height": 618
        },
        "outputId": "ca44c4a4-9e32-4bb1-974d-b9d0d0abebb7"
      },
      "source": [
        "# We identified NA values in column \"Bond Actor Salary\", we will now proceed to omit those rows\n",
        "cond = df_jamesbond[\"Bond Actor Salary\"].isnull()\n",
        "df_jamesbond[-cond] # we negate condition to omit those rows that are NA for column \"Bond Actor Salary\""
      ],
      "execution_count": null,
      "outputs": [
        {
          "output_type": "execute_result",
          "data": {
            "text/html": [
              "<div>\n",
              "<style scoped>\n",
              "    .dataframe tbody tr th:only-of-type {\n",
              "        vertical-align: middle;\n",
              "    }\n",
              "\n",
              "    .dataframe tbody tr th {\n",
              "        vertical-align: top;\n",
              "    }\n",
              "\n",
              "    .dataframe thead th {\n",
              "        text-align: right;\n",
              "    }\n",
              "</style>\n",
              "<table border=\"1\" class=\"dataframe\">\n",
              "  <thead>\n",
              "    <tr style=\"text-align: right;\">\n",
              "      <th></th>\n",
              "      <th>Year</th>\n",
              "      <th>Actor</th>\n",
              "      <th>Director</th>\n",
              "      <th>Box Office</th>\n",
              "      <th>Budget</th>\n",
              "      <th>Bond Actor Salary</th>\n",
              "    </tr>\n",
              "    <tr>\n",
              "      <th>Film</th>\n",
              "      <th></th>\n",
              "      <th></th>\n",
              "      <th></th>\n",
              "      <th></th>\n",
              "      <th></th>\n",
              "      <th></th>\n",
              "    </tr>\n",
              "  </thead>\n",
              "  <tbody>\n",
              "    <tr>\n",
              "      <th>Dr. No</th>\n",
              "      <td>1962</td>\n",
              "      <td>Sean Connery</td>\n",
              "      <td>Terence Young</td>\n",
              "      <td>448.8</td>\n",
              "      <td>7.0</td>\n",
              "      <td>0.6</td>\n",
              "    </tr>\n",
              "    <tr>\n",
              "      <th>From Russia with Love</th>\n",
              "      <td>1963</td>\n",
              "      <td>Sean Connery</td>\n",
              "      <td>Terence Young</td>\n",
              "      <td>543.8</td>\n",
              "      <td>12.6</td>\n",
              "      <td>1.6</td>\n",
              "    </tr>\n",
              "    <tr>\n",
              "      <th>Goldfinger</th>\n",
              "      <td>1964</td>\n",
              "      <td>Sean Connery</td>\n",
              "      <td>Guy Hamilton</td>\n",
              "      <td>820.4</td>\n",
              "      <td>18.6</td>\n",
              "      <td>3.2</td>\n",
              "    </tr>\n",
              "    <tr>\n",
              "      <th>Thunderball</th>\n",
              "      <td>1965</td>\n",
              "      <td>Sean Connery</td>\n",
              "      <td>Terence Young</td>\n",
              "      <td>848.1</td>\n",
              "      <td>41.9</td>\n",
              "      <td>4.7</td>\n",
              "    </tr>\n",
              "    <tr>\n",
              "      <th>You Only Live Twice</th>\n",
              "      <td>1967</td>\n",
              "      <td>Sean Connery</td>\n",
              "      <td>Lewis Gilbert</td>\n",
              "      <td>514.2</td>\n",
              "      <td>59.9</td>\n",
              "      <td>4.4</td>\n",
              "    </tr>\n",
              "    <tr>\n",
              "      <th>On Her Majesty's Secret Service</th>\n",
              "      <td>1969</td>\n",
              "      <td>George Lazenby</td>\n",
              "      <td>Peter R. Hunt</td>\n",
              "      <td>291.5</td>\n",
              "      <td>37.3</td>\n",
              "      <td>0.6</td>\n",
              "    </tr>\n",
              "    <tr>\n",
              "      <th>Diamonds Are Forever</th>\n",
              "      <td>1971</td>\n",
              "      <td>Sean Connery</td>\n",
              "      <td>Guy Hamilton</td>\n",
              "      <td>442.5</td>\n",
              "      <td>34.7</td>\n",
              "      <td>5.8</td>\n",
              "    </tr>\n",
              "    <tr>\n",
              "      <th>Octopussy</th>\n",
              "      <td>1983</td>\n",
              "      <td>Roger Moore</td>\n",
              "      <td>John Glen</td>\n",
              "      <td>373.8</td>\n",
              "      <td>53.9</td>\n",
              "      <td>7.8</td>\n",
              "    </tr>\n",
              "    <tr>\n",
              "      <th>A View to a Kill</th>\n",
              "      <td>1985</td>\n",
              "      <td>Roger Moore</td>\n",
              "      <td>John Glen</td>\n",
              "      <td>275.2</td>\n",
              "      <td>54.5</td>\n",
              "      <td>9.1</td>\n",
              "    </tr>\n",
              "    <tr>\n",
              "      <th>The Living Daylights</th>\n",
              "      <td>1987</td>\n",
              "      <td>Timothy Dalton</td>\n",
              "      <td>John Glen</td>\n",
              "      <td>313.5</td>\n",
              "      <td>68.8</td>\n",
              "      <td>5.2</td>\n",
              "    </tr>\n",
              "    <tr>\n",
              "      <th>Licence to Kill</th>\n",
              "      <td>1989</td>\n",
              "      <td>Timothy Dalton</td>\n",
              "      <td>John Glen</td>\n",
              "      <td>250.9</td>\n",
              "      <td>56.7</td>\n",
              "      <td>7.9</td>\n",
              "    </tr>\n",
              "    <tr>\n",
              "      <th>GoldenEye</th>\n",
              "      <td>1995</td>\n",
              "      <td>Pierce Brosnan</td>\n",
              "      <td>Martin Campbell</td>\n",
              "      <td>518.5</td>\n",
              "      <td>76.9</td>\n",
              "      <td>5.1</td>\n",
              "    </tr>\n",
              "    <tr>\n",
              "      <th>Tomorrow Never Dies</th>\n",
              "      <td>1997</td>\n",
              "      <td>Pierce Brosnan</td>\n",
              "      <td>Roger Spottiswoode</td>\n",
              "      <td>463.2</td>\n",
              "      <td>133.9</td>\n",
              "      <td>10.0</td>\n",
              "    </tr>\n",
              "    <tr>\n",
              "      <th>The World Is Not Enough</th>\n",
              "      <td>1999</td>\n",
              "      <td>Pierce Brosnan</td>\n",
              "      <td>Michael Apted</td>\n",
              "      <td>439.5</td>\n",
              "      <td>158.3</td>\n",
              "      <td>13.5</td>\n",
              "    </tr>\n",
              "    <tr>\n",
              "      <th>Die Another Day</th>\n",
              "      <td>2002</td>\n",
              "      <td>Pierce Brosnan</td>\n",
              "      <td>Lee Tamahori</td>\n",
              "      <td>465.4</td>\n",
              "      <td>154.2</td>\n",
              "      <td>17.9</td>\n",
              "    </tr>\n",
              "    <tr>\n",
              "      <th>Casino Royale</th>\n",
              "      <td>2006</td>\n",
              "      <td>Daniel Craig</td>\n",
              "      <td>Martin Campbell</td>\n",
              "      <td>581.5</td>\n",
              "      <td>145.3</td>\n",
              "      <td>3.3</td>\n",
              "    </tr>\n",
              "    <tr>\n",
              "      <th>Quantum of Solace</th>\n",
              "      <td>2008</td>\n",
              "      <td>Daniel Craig</td>\n",
              "      <td>Marc Forster</td>\n",
              "      <td>514.2</td>\n",
              "      <td>181.4</td>\n",
              "      <td>8.1</td>\n",
              "    </tr>\n",
              "    <tr>\n",
              "      <th>Skyfall</th>\n",
              "      <td>2012</td>\n",
              "      <td>Daniel Craig</td>\n",
              "      <td>Sam Mendes</td>\n",
              "      <td>943.5</td>\n",
              "      <td>170.2</td>\n",
              "      <td>14.5</td>\n",
              "    </tr>\n",
              "  </tbody>\n",
              "</table>\n",
              "</div>"
            ],
            "text/plain": [
              "                                 Year  ... Bond Actor Salary\n",
              "Film                                   ...                  \n",
              "Dr. No                           1962  ...               0.6\n",
              "From Russia with Love            1963  ...               1.6\n",
              "Goldfinger                       1964  ...               3.2\n",
              "Thunderball                      1965  ...               4.7\n",
              "You Only Live Twice              1967  ...               4.4\n",
              "On Her Majesty's Secret Service  1969  ...               0.6\n",
              "Diamonds Are Forever             1971  ...               5.8\n",
              "Octopussy                        1983  ...               7.8\n",
              "A View to a Kill                 1985  ...               9.1\n",
              "The Living Daylights             1987  ...               5.2\n",
              "Licence to Kill                  1989  ...               7.9\n",
              "GoldenEye                        1995  ...               5.1\n",
              "Tomorrow Never Dies              1997  ...              10.0\n",
              "The World Is Not Enough          1999  ...              13.5\n",
              "Die Another Day                  2002  ...              17.9\n",
              "Casino Royale                    2006  ...               3.3\n",
              "Quantum of Solace                2008  ...               8.1\n",
              "Skyfall                          2012  ...              14.5\n",
              "\n",
              "[18 rows x 6 columns]"
            ]
          },
          "metadata": {
            "tags": []
          },
          "execution_count": 5
        }
      ]
    },
    {
      "cell_type": "code",
      "metadata": {
        "id": "rlOzIUezCx2P"
      },
      "source": [
        "# Alternatively, we can opt to fill NAs\n",
        "# we will proceed to fill NAs with the mean value for the variable\n",
        "median_bond_salary = df_jamesbond[\"Bond Actor Salary\"].mean() # we calculate the mean\n",
        "df_jamesbond[\"Bond Actor Salary\"]=df_jamesbond[\"Bond Actor Salary\"].fillna(median_bond_salary) # we replace null values\n",
        "\n",
        "# Note: in some other cases, we might just want to replace null values by 0 -> .fillna(0)"
      ],
      "execution_count": null,
      "outputs": []
    },
    {
      "cell_type": "markdown",
      "metadata": {
        "id": "Z0CHb5QkBvP_"
      },
      "source": [
        "### Removing duplicates\n",
        "---"
      ]
    },
    {
      "cell_type": "code",
      "metadata": {
        "id": "EYW7X5sUJO6a"
      },
      "source": [
        "# Import dataframe\n",
        "df_duplicates = pd.read_csv(\"https://data-wizards.s3.amazonaws.com/datasets/renfe_estaciones_duplicates.csv\")"
      ],
      "execution_count": null,
      "outputs": []
    },
    {
      "cell_type": "markdown",
      "metadata": {
        "id": "Yxd8kJwl_ziY"
      },
      "source": [
        "#### *Identify duplicated values*\n",
        "\n",
        "Key functions in this section,\n",
        "```\n",
        "object.duplicated()\n",
        "```\n",
        "> *The duplicated() method test if a row is an exact duplicate*\n",
        "\n"
      ]
    },
    {
      "cell_type": "code",
      "metadata": {
        "colab": {
          "base_uri": "https://localhost:8080/"
        },
        "id": "RTjhBsgA-oXj",
        "outputId": "e30e37e0-8cb2-4f1c-e9fe-cdf8fcaefac5"
      },
      "source": [
        "len(df_duplicates) # check number of rows"
      ],
      "execution_count": null,
      "outputs": [
        {
          "output_type": "execute_result",
          "data": {
            "text/plain": [
              "630"
            ]
          },
          "metadata": {
            "tags": []
          },
          "execution_count": 8
        }
      ]
    },
    {
      "cell_type": "code",
      "metadata": {
        "colab": {
          "base_uri": "https://localhost:8080/",
          "height": 573
        },
        "id": "R6Cv2FdY_OQ-",
        "outputId": "9f932004-0474-49ce-da96-43e51c9eefd6"
      },
      "source": [
        "# identify duplicated rows\n",
        "cond = df_duplicates.duplicated()\n",
        "df_duplicates[cond]"
      ],
      "execution_count": null,
      "outputs": [
        {
          "output_type": "execute_result",
          "data": {
            "text/html": [
              "<div>\n",
              "<style scoped>\n",
              "    .dataframe tbody tr th:only-of-type {\n",
              "        vertical-align: middle;\n",
              "    }\n",
              "\n",
              "    .dataframe tbody tr th {\n",
              "        vertical-align: top;\n",
              "    }\n",
              "\n",
              "    .dataframe thead th {\n",
              "        text-align: right;\n",
              "    }\n",
              "</style>\n",
              "<table border=\"1\" class=\"dataframe\">\n",
              "  <thead>\n",
              "    <tr style=\"text-align: right;\">\n",
              "      <th></th>\n",
              "      <th>CODIGO</th>\n",
              "      <th>DESCRIPCION</th>\n",
              "      <th>LATITUD</th>\n",
              "      <th>LONGITUD</th>\n",
              "      <th>DIRECCION</th>\n",
              "      <th>C.P.</th>\n",
              "      <th>POBLACION</th>\n",
              "      <th>PROVINCIA</th>\n",
              "      <th>PAIS</th>\n",
              "    </tr>\n",
              "  </thead>\n",
              "  <tbody>\n",
              "    <tr>\n",
              "      <th>16</th>\n",
              "      <td>5000</td>\n",
              "      <td>GRANADA</td>\n",
              "      <td>37.184036</td>\n",
              "      <td>-3.609036</td>\n",
              "      <td>AVENIDA DE LOS ANDALUCES. S/N</td>\n",
              "      <td>18014.0</td>\n",
              "      <td>Granada</td>\n",
              "      <td>Granada</td>\n",
              "      <td>España</td>\n",
              "    </tr>\n",
              "    <tr>\n",
              "      <th>24</th>\n",
              "      <td>10204</td>\n",
              "      <td>ZARZALEJO</td>\n",
              "      <td>40.538817</td>\n",
              "      <td>-4.158073</td>\n",
              "      <td>CALLE DEL FERROCARRIL. S/N</td>\n",
              "      <td>28293.0</td>\n",
              "      <td>Zarzalejo</td>\n",
              "      <td>Madrid</td>\n",
              "      <td>España</td>\n",
              "    </tr>\n",
              "    <tr>\n",
              "      <th>57</th>\n",
              "      <td>11208</td>\n",
              "      <td>VITORIA/GASTEIZ</td>\n",
              "      <td>42.841528</td>\n",
              "      <td>-2.672665</td>\n",
              "      <td>PLAZUELA DE LA ESTACION. 1</td>\n",
              "      <td>1005.0</td>\n",
              "      <td>Vitoria-Gasteiz</td>\n",
              "      <td>Araba/Álava</td>\n",
              "      <td>España</td>\n",
              "    </tr>\n",
              "    <tr>\n",
              "      <th>74</th>\n",
              "      <td>11203</td>\n",
              "      <td>MANZANOS</td>\n",
              "      <td>42.742875</td>\n",
              "      <td>-2.867530</td>\n",
              "      <td>RIO ZADORRA KALEA. S/N</td>\n",
              "      <td>1220.0</td>\n",
              "      <td>Ribera Baja/Erribera Beitia</td>\n",
              "      <td>Araba/Álava</td>\n",
              "      <td>España</td>\n",
              "    </tr>\n",
              "    <tr>\n",
              "      <th>90</th>\n",
              "      <td>15006</td>\n",
              "      <td>CISNEROS</td>\n",
              "      <td>42.191068</td>\n",
              "      <td>-4.850206</td>\n",
              "      <td>CARRETERA P-932 - ESTACION FERROCARRIL. S/N</td>\n",
              "      <td>34320.0</td>\n",
              "      <td>Cisneros</td>\n",
              "      <td>Palencia</td>\n",
              "      <td>España</td>\n",
              "    </tr>\n",
              "    <tr>\n",
              "      <th>181</th>\n",
              "      <td>23004</td>\n",
              "      <td>PONTEVEDRA</td>\n",
              "      <td>42.421640</td>\n",
              "      <td>-8.635830</td>\n",
              "      <td>AVENIDA DE LA ESTACION. S/N</td>\n",
              "      <td>36003.0</td>\n",
              "      <td>Pontevedra</td>\n",
              "      <td>Pontevedra</td>\n",
              "      <td>España</td>\n",
              "    </tr>\n",
              "    <tr>\n",
              "      <th>222</th>\n",
              "      <td>31205</td>\n",
              "      <td>A GUDIÑA</td>\n",
              "      <td>42.060690</td>\n",
              "      <td>-7.132436</td>\n",
              "      <td>CARRETERA N-525 - BEATO SEBASTIAN APARICIO. S/N</td>\n",
              "      <td>32540.0</td>\n",
              "      <td>Gudiña. A</td>\n",
              "      <td>Ourense</td>\n",
              "      <td>España</td>\n",
              "    </tr>\n",
              "    <tr>\n",
              "      <th>227</th>\n",
              "      <td>34005</td>\n",
              "      <td>SAN PEDRO DEL ARROYO</td>\n",
              "      <td>40.803838</td>\n",
              "      <td>-4.871408</td>\n",
              "      <td>CALLE ESTACION FERROCARRIL. S/N</td>\n",
              "      <td>5350.0</td>\n",
              "      <td>San Pedro del Arroyo</td>\n",
              "      <td>Ávila</td>\n",
              "      <td>España</td>\n",
              "    </tr>\n",
              "    <tr>\n",
              "      <th>242</th>\n",
              "      <td>35206</td>\n",
              "      <td>NAVALMORAL DE LA MATA</td>\n",
              "      <td>39.894854</td>\n",
              "      <td>-5.545566</td>\n",
              "      <td>PLAZA ESTACION FERROCARRIL. 1</td>\n",
              "      <td>10300.0</td>\n",
              "      <td>Navalmoral de la Mata</td>\n",
              "      <td>Cáceres</td>\n",
              "      <td>España</td>\n",
              "    </tr>\n",
              "    <tr>\n",
              "      <th>253</th>\n",
              "      <td>37300</td>\n",
              "      <td>PUERTOLLANO</td>\n",
              "      <td>38.691411</td>\n",
              "      <td>-4.111611</td>\n",
              "      <td>CALLE MUELLE. S/N</td>\n",
              "      <td>13500.0</td>\n",
              "      <td>Puertollano</td>\n",
              "      <td>Ciudad Real</td>\n",
              "      <td>España</td>\n",
              "    </tr>\n",
              "  </tbody>\n",
              "</table>\n",
              "</div>"
            ],
            "text/plain": [
              "     CODIGO            DESCRIPCION  ...    PROVINCIA    PAIS\n",
              "16     5000                GRANADA  ...      Granada  España\n",
              "24    10204              ZARZALEJO  ...       Madrid  España\n",
              "57    11208        VITORIA/GASTEIZ  ...  Araba/Álava  España\n",
              "74    11203               MANZANOS  ...  Araba/Álava  España\n",
              "90    15006               CISNEROS  ...     Palencia  España\n",
              "181   23004             PONTEVEDRA  ...   Pontevedra  España\n",
              "222   31205               A GUDIÑA  ...      Ourense  España\n",
              "227   34005   SAN PEDRO DEL ARROYO  ...        Ávila  España\n",
              "242   35206  NAVALMORAL DE LA MATA  ...      Cáceres  España\n",
              "253   37300            PUERTOLLANO  ...  Ciudad Real  España\n",
              "\n",
              "[10 rows x 9 columns]"
            ]
          },
          "metadata": {
            "tags": []
          },
          "execution_count": 9
        }
      ]
    },
    {
      "cell_type": "markdown",
      "metadata": {
        "id": "DECye02wBr-Y"
      },
      "source": [
        "#### *Remove duplicated values*\n",
        "\n",
        "Key functions in this section,\n",
        "```\n",
        "object.drop_duplicates()\n",
        "```\n",
        "> *The drop_duplicates() method removes duplicated rows*"
      ]
    },
    {
      "cell_type": "code",
      "metadata": {
        "id": "sgWTvOHz_c58"
      },
      "source": [
        "df_clean = df_duplicates.drop_duplicates() # we remove duplicates and store the output in a new object"
      ],
      "execution_count": null,
      "outputs": []
    },
    {
      "cell_type": "code",
      "metadata": {
        "colab": {
          "base_uri": "https://localhost:8080/"
        },
        "id": "_nYpC4Ou_nxR",
        "outputId": "8d525ea1-d12b-4605-89dc-a440cf45e529"
      },
      "source": [
        "len(df_clean) # we check again number of rows to confirm new number"
      ],
      "execution_count": null,
      "outputs": [
        {
          "output_type": "execute_result",
          "data": {
            "text/plain": [
              "620"
            ]
          },
          "metadata": {
            "tags": []
          },
          "execution_count": 11
        }
      ]
    },
    {
      "cell_type": "markdown",
      "metadata": {
        "id": "CuT7GRFk_E_t"
      },
      "source": [
        "### Identifying outliers\n"
      ]
    },
    {
      "cell_type": "code",
      "metadata": {
        "id": "gZw0ecGzJ_5H"
      },
      "source": [
        "# Import dataframe\n",
        "df_jamesbond = pd.read_csv(\"https://data-wizards.s3.amazonaws.com/datasets/jamesbond.csv\",index_col=\"Film\")"
      ],
      "execution_count": null,
      "outputs": []
    },
    {
      "cell_type": "markdown",
      "metadata": {
        "id": "Zgxb4aOmqgU9"
      },
      "source": [
        "It is important to identify outliers in numerical fields. Depending on the case, we might only want to check for possible data entry errors or to remove outliers (even when those are not errors).\n",
        "\n",
        "There are different way to identify outliers in a DataFrame, in this course we will introduce one of the simplest: *normalizing the variable to Z*. For this method, we will assume that the variable is normally distributed. A z score higher than 3 or lower than -3 would indicate that the value is an outlier.\n",
        "\n",
        "\n",
        "Key functions in this section,\n",
        "\n",
        "```\n",
        "stats.zscore(column, nan_policy='omit')\n",
        "```\n",
        "> *The szcore() method normalizes (converts) a numerical variable into Z (normal distribution)*\n",
        "\n",
        "\n",
        "\n"
      ]
    },
    {
      "cell_type": "code",
      "metadata": {
        "id": "WCGTGpL7pZy2"
      },
      "source": [
        "# We normalize variable Box Office to check outliers\n",
        "df_jamesbond[\"z_Box Office\"] = stats.zscore(df_jamesbond[\"Box Office\"],nan_policy='omit').round(2)"
      ],
      "execution_count": null,
      "outputs": []
    },
    {
      "cell_type": "code",
      "metadata": {
        "colab": {
          "base_uri": "https://localhost:8080/",
          "height": 858
        },
        "id": "ToC8YXo4J-Fz",
        "outputId": "4acf39d9-cae4-4ebd-eded-f4bb82ca8572"
      },
      "source": [
        "# We select variable and its normalized version and sort\n",
        "df_jamesbond[[\"Box Office\",\"z_Box Office\"]].sort_values(\"z_Box Office\",ascending=False)\n",
        "# Note: we do not find any outliers, as there are not Z score values higher than 3 or lower than -3"
      ],
      "execution_count": null,
      "outputs": [
        {
          "output_type": "execute_result",
          "data": {
            "text/html": [
              "<div>\n",
              "<style scoped>\n",
              "    .dataframe tbody tr th:only-of-type {\n",
              "        vertical-align: middle;\n",
              "    }\n",
              "\n",
              "    .dataframe tbody tr th {\n",
              "        vertical-align: top;\n",
              "    }\n",
              "\n",
              "    .dataframe thead th {\n",
              "        text-align: right;\n",
              "    }\n",
              "</style>\n",
              "<table border=\"1\" class=\"dataframe\">\n",
              "  <thead>\n",
              "    <tr style=\"text-align: right;\">\n",
              "      <th></th>\n",
              "      <th>Box Office</th>\n",
              "      <th>z_Box Office</th>\n",
              "    </tr>\n",
              "    <tr>\n",
              "      <th>Film</th>\n",
              "      <th></th>\n",
              "      <th></th>\n",
              "    </tr>\n",
              "  </thead>\n",
              "  <tbody>\n",
              "    <tr>\n",
              "      <th>Skyfall</th>\n",
              "      <td>943.5</td>\n",
              "      <td>2.61</td>\n",
              "    </tr>\n",
              "    <tr>\n",
              "      <th>Thunderball</th>\n",
              "      <td>848.1</td>\n",
              "      <td>2.06</td>\n",
              "    </tr>\n",
              "    <tr>\n",
              "      <th>Goldfinger</th>\n",
              "      <td>820.4</td>\n",
              "      <td>1.90</td>\n",
              "    </tr>\n",
              "    <tr>\n",
              "      <th>Spectre</th>\n",
              "      <td>726.7</td>\n",
              "      <td>1.36</td>\n",
              "    </tr>\n",
              "    <tr>\n",
              "      <th>Casino Royale</th>\n",
              "      <td>581.5</td>\n",
              "      <td>0.52</td>\n",
              "    </tr>\n",
              "    <tr>\n",
              "      <th>From Russia with Love</th>\n",
              "      <td>543.8</td>\n",
              "      <td>0.30</td>\n",
              "    </tr>\n",
              "    <tr>\n",
              "      <th>Moonraker</th>\n",
              "      <td>535.0</td>\n",
              "      <td>0.25</td>\n",
              "    </tr>\n",
              "    <tr>\n",
              "      <th>The Spy Who Loved Me</th>\n",
              "      <td>533.0</td>\n",
              "      <td>0.24</td>\n",
              "    </tr>\n",
              "    <tr>\n",
              "      <th>GoldenEye</th>\n",
              "      <td>518.5</td>\n",
              "      <td>0.16</td>\n",
              "    </tr>\n",
              "    <tr>\n",
              "      <th>You Only Live Twice</th>\n",
              "      <td>514.2</td>\n",
              "      <td>0.13</td>\n",
              "    </tr>\n",
              "    <tr>\n",
              "      <th>Quantum of Solace</th>\n",
              "      <td>514.2</td>\n",
              "      <td>0.13</td>\n",
              "    </tr>\n",
              "    <tr>\n",
              "      <th>Die Another Day</th>\n",
              "      <td>465.4</td>\n",
              "      <td>-0.15</td>\n",
              "    </tr>\n",
              "    <tr>\n",
              "      <th>Tomorrow Never Dies</th>\n",
              "      <td>463.2</td>\n",
              "      <td>-0.16</td>\n",
              "    </tr>\n",
              "    <tr>\n",
              "      <th>Live and Let Die</th>\n",
              "      <td>460.3</td>\n",
              "      <td>-0.18</td>\n",
              "    </tr>\n",
              "    <tr>\n",
              "      <th>For Your Eyes Only</th>\n",
              "      <td>449.4</td>\n",
              "      <td>-0.24</td>\n",
              "    </tr>\n",
              "    <tr>\n",
              "      <th>Dr. No</th>\n",
              "      <td>448.8</td>\n",
              "      <td>-0.25</td>\n",
              "    </tr>\n",
              "    <tr>\n",
              "      <th>Diamonds Are Forever</th>\n",
              "      <td>442.5</td>\n",
              "      <td>-0.28</td>\n",
              "    </tr>\n",
              "    <tr>\n",
              "      <th>The World Is Not Enough</th>\n",
              "      <td>439.5</td>\n",
              "      <td>-0.30</td>\n",
              "    </tr>\n",
              "    <tr>\n",
              "      <th>Never Say Never Again</th>\n",
              "      <td>380.0</td>\n",
              "      <td>-0.64</td>\n",
              "    </tr>\n",
              "    <tr>\n",
              "      <th>Octopussy</th>\n",
              "      <td>373.8</td>\n",
              "      <td>-0.68</td>\n",
              "    </tr>\n",
              "    <tr>\n",
              "      <th>The Man with the Golden Gun</th>\n",
              "      <td>334.0</td>\n",
              "      <td>-0.91</td>\n",
              "    </tr>\n",
              "    <tr>\n",
              "      <th>Casino Royale</th>\n",
              "      <td>315.0</td>\n",
              "      <td>-1.02</td>\n",
              "    </tr>\n",
              "    <tr>\n",
              "      <th>The Living Daylights</th>\n",
              "      <td>313.5</td>\n",
              "      <td>-1.03</td>\n",
              "    </tr>\n",
              "    <tr>\n",
              "      <th>On Her Majesty's Secret Service</th>\n",
              "      <td>291.5</td>\n",
              "      <td>-1.15</td>\n",
              "    </tr>\n",
              "    <tr>\n",
              "      <th>A View to a Kill</th>\n",
              "      <td>275.2</td>\n",
              "      <td>-1.25</td>\n",
              "    </tr>\n",
              "    <tr>\n",
              "      <th>Licence to Kill</th>\n",
              "      <td>250.9</td>\n",
              "      <td>-1.39</td>\n",
              "    </tr>\n",
              "  </tbody>\n",
              "</table>\n",
              "</div>"
            ],
            "text/plain": [
              "                                 Box Office  z_Box Office\n",
              "Film                                                     \n",
              "Skyfall                               943.5          2.61\n",
              "Thunderball                           848.1          2.06\n",
              "Goldfinger                            820.4          1.90\n",
              "Spectre                               726.7          1.36\n",
              "Casino Royale                         581.5          0.52\n",
              "From Russia with Love                 543.8          0.30\n",
              "Moonraker                             535.0          0.25\n",
              "The Spy Who Loved Me                  533.0          0.24\n",
              "GoldenEye                             518.5          0.16\n",
              "You Only Live Twice                   514.2          0.13\n",
              "Quantum of Solace                     514.2          0.13\n",
              "Die Another Day                       465.4         -0.15\n",
              "Tomorrow Never Dies                   463.2         -0.16\n",
              "Live and Let Die                      460.3         -0.18\n",
              "For Your Eyes Only                    449.4         -0.24\n",
              "Dr. No                                448.8         -0.25\n",
              "Diamonds Are Forever                  442.5         -0.28\n",
              "The World Is Not Enough               439.5         -0.30\n",
              "Never Say Never Again                 380.0         -0.64\n",
              "Octopussy                             373.8         -0.68\n",
              "The Man with the Golden Gun           334.0         -0.91\n",
              "Casino Royale                         315.0         -1.02\n",
              "The Living Daylights                  313.5         -1.03\n",
              "On Her Majesty's Secret Service       291.5         -1.15\n",
              "A View to a Kill                      275.2         -1.25\n",
              "Licence to Kill                       250.9         -1.39"
            ]
          },
          "metadata": {
            "tags": []
          },
          "execution_count": 14
        }
      ]
    },
    {
      "cell_type": "markdown",
      "metadata": {
        "id": "oG56cZr6Cl7r"
      },
      "source": [
        "# EDA: FREQUENCY\n",
        "When exploring frequency, we try to understand the number occurrences of a repeating event.\n",
        "\n",
        "*New functions introduced in this section,*\n",
        "```\n",
        "describe()\n",
        "```\n",
        "> *When applied to a categorical variable, describe() provides basic information about frequency*\n",
        "\n",
        "```\n",
        "value_counts(normalize=False)\n",
        "```\n",
        "> *This method provides frequency for each unique value. By default, provides frequency in absolute values; we can edit parameter \"normalize\" to obtain relative frequency*\n",
        "\n",
        "```\n",
        "plot(kind='bar'/'barh')\n",
        "```\n",
        "> *The plot() method builds different type of visualizations. In this section, we plot bar charts by editing the \"kind\" parameter*\n",
        "\n",
        "\n",
        "\n",
        "\n"
      ]
    },
    {
      "cell_type": "code",
      "metadata": {
        "id": "xDXEQy-PnVYn"
      },
      "source": [
        "# Import dataframe\n",
        "df_jamesbond = pd.read_csv(\"https://data-wizards.s3.amazonaws.com/datasets/jamesbond.csv\",index_col=\"Film\")"
      ],
      "execution_count": null,
      "outputs": []
    },
    {
      "cell_type": "code",
      "metadata": {
        "colab": {
          "base_uri": "https://localhost:8080/"
        },
        "id": "cufsPHjmYrtO",
        "outputId": "ee01d9b6-971e-4046-acac-5838fe8ec28e"
      },
      "source": [
        "# We explore frequency on a single categorical variable\n",
        "df_jamesbond[\"Director\"].describe()"
      ],
      "execution_count": null,
      "outputs": [
        {
          "output_type": "execute_result",
          "data": {
            "text/plain": [
              "count            26\n",
              "unique           13\n",
              "top       John Glen\n",
              "freq              5\n",
              "Name: Director, dtype: object"
            ]
          },
          "metadata": {
            "tags": []
          },
          "execution_count": 16
        }
      ]
    },
    {
      "cell_type": "code",
      "metadata": {
        "colab": {
          "base_uri": "https://localhost:8080/"
        },
        "id": "0BfUTwsmD2Oc",
        "outputId": "8f2e0915-02c4-49fc-e0b7-e06203336e35"
      },
      "source": [
        "# We obtain full frequency in absolute values\n",
        "df_jamesbond[\"Director\"].value_counts()"
      ],
      "execution_count": null,
      "outputs": [
        {
          "output_type": "execute_result",
          "data": {
            "text/plain": [
              "John Glen             5\n",
              "Guy Hamilton          4\n",
              "Terence Young         3\n",
              "Lewis Gilbert         3\n",
              "Martin Campbell       2\n",
              "Sam Mendes            2\n",
              "Marc Forster          1\n",
              "Ken Hughes            1\n",
              "Michael Apted         1\n",
              "Roger Spottiswoode    1\n",
              "Lee Tamahori          1\n",
              "Peter R. Hunt         1\n",
              "Irvin Kershner        1\n",
              "Name: Director, dtype: int64"
            ]
          },
          "metadata": {
            "tags": []
          },
          "execution_count": 17
        }
      ]
    },
    {
      "cell_type": "code",
      "metadata": {
        "id": "cJcz1uovoEK0",
        "colab": {
          "base_uri": "https://localhost:8080/"
        },
        "outputId": "dcbd4939-988e-4ebc-d636-4a5b12268495"
      },
      "source": [
        "# We obtain full frequency in relative values\n",
        "df_jamesbond[\"Director\"].value_counts(normalize=True)"
      ],
      "execution_count": null,
      "outputs": [
        {
          "output_type": "execute_result",
          "data": {
            "text/plain": [
              "John Glen             0.192308\n",
              "Guy Hamilton          0.153846\n",
              "Terence Young         0.115385\n",
              "Lewis Gilbert         0.115385\n",
              "Martin Campbell       0.076923\n",
              "Sam Mendes            0.076923\n",
              "Marc Forster          0.038462\n",
              "Ken Hughes            0.038462\n",
              "Michael Apted         0.038462\n",
              "Roger Spottiswoode    0.038462\n",
              "Lee Tamahori          0.038462\n",
              "Peter R. Hunt         0.038462\n",
              "Irvin Kershner        0.038462\n",
              "Name: Director, dtype: float64"
            ]
          },
          "metadata": {
            "tags": []
          },
          "execution_count": 18
        }
      ]
    },
    {
      "cell_type": "code",
      "metadata": {
        "colab": {
          "base_uri": "https://localhost:8080/"
        },
        "id": "1YIH--ZMMBfm",
        "outputId": "e6f66ef0-ffb5-4fef-d0c5-f82005868800"
      },
      "source": [
        "# We can explore frecuency on the combination of more than one categorical variable\n",
        "df_jamesbond[[\"Director\",\"Actor\"]].value_counts()"
      ],
      "execution_count": null,
      "outputs": [
        {
          "output_type": "execute_result",
          "data": {
            "text/plain": [
              "Director            Actor         \n",
              "Terence Young       Sean Connery      3\n",
              "John Glen           Roger Moore       3\n",
              "Sam Mendes          Daniel Craig      2\n",
              "Guy Hamilton        Sean Connery      2\n",
              "John Glen           Timothy Dalton    2\n",
              "Lewis Gilbert       Roger Moore       2\n",
              "Guy Hamilton        Roger Moore       2\n",
              "Marc Forster        Daniel Craig      1\n",
              "Martin Campbell     Daniel Craig      1\n",
              "                    Pierce Brosnan    1\n",
              "Lee Tamahori        Pierce Brosnan    1\n",
              "Ken Hughes          David Niven       1\n",
              "Michael Apted       Pierce Brosnan    1\n",
              "Peter R. Hunt       George Lazenby    1\n",
              "Irvin Kershner      Sean Connery      1\n",
              "Roger Spottiswoode  Pierce Brosnan    1\n",
              "Lewis Gilbert       Sean Connery      1\n",
              "dtype: int64"
            ]
          },
          "metadata": {
            "tags": []
          },
          "execution_count": 19
        }
      ]
    },
    {
      "cell_type": "code",
      "metadata": {
        "colab": {
          "base_uri": "https://localhost:8080/",
          "height": 354
        },
        "id": "qQp6w9KHOkC3",
        "outputId": "b2d9c7a6-9a1d-446d-80bf-df9d0fa19122"
      },
      "source": [
        "# Next, we will plot a bar chart to explore frecuency visually\n",
        "df_jamesbond[\"Actor\"].value_counts().plot(kind = 'bar')"
      ],
      "execution_count": null,
      "outputs": [
        {
          "output_type": "execute_result",
          "data": {
            "text/plain": [
              "<matplotlib.axes._subplots.AxesSubplot at 0x7ff5ceed6c10>"
            ]
          },
          "metadata": {
            "tags": []
          },
          "execution_count": 20
        },
        {
          "output_type": "display_data",
          "data": {
            "image/png": "[encoded data removed]",
            "text/plain": [
              "<Figure size 432x288 with 1 Axes>"
            ]
          },
          "metadata": {
            "tags": [],
            "needs_background": "light"
          }
        }
      ]
    },
    {
      "cell_type": "code",
      "metadata": {
        "colab": {
          "base_uri": "https://localhost:8080/",
          "height": 282
        },
        "id": "Gkc1I2OlNL2P",
        "outputId": "d23d0762-0023-4f59-d30e-d887670f309a"
      },
      "source": [
        "# Alternatively, we plot a horizontal bar chart\n",
        "df_jamesbond[\"Actor\"].value_counts().sort_values().plot(kind = 'barh')"
      ],
      "execution_count": null,
      "outputs": [
        {
          "output_type": "execute_result",
          "data": {
            "text/plain": [
              "<matplotlib.axes._subplots.AxesSubplot at 0x7ff5cedb4e10>"
            ]
          },
          "metadata": {
            "tags": []
          },
          "execution_count": 21
        },
        {
          "output_type": "display_data",
          "data": {
            "image/png": "[encoded data removed]",
            "text/plain": [
              "<Figure size 432x288 with 1 Axes>"
            ]
          },
          "metadata": {
            "tags": [],
            "needs_background": "light"
          }
        }
      ]
    },
    {
      "cell_type": "markdown",
      "metadata": {
        "id": "mSkeaIDvCqnN"
      },
      "source": [
        "# EDA: CORRELATION\n",
        "When exploring correlation, we look to test and measure the association between two continuous variables.\n",
        "\n",
        "*New functions introduced in this section,*\n",
        "\n",
        "```\n",
        "scipy.stats.pearsonr(x,y)\n",
        "```\n",
        "> *This function displays Pearson correlation between two variables. It also provides p-value for testing no correlation (H0: r=0%)*\n",
        "\n",
        "```\n",
        "corr()\n",
        "```\n",
        "> *This method builds a correlation matrix using all numerical variables*\n",
        "\n",
        "```\n",
        "plot(x,y,kind=\"scatter\")\n",
        "```\n",
        "> *In this section, we will use the plot() method to visualize scatter plots*\n",
        "\n",
        "```\n",
        "sn.heatmap(object, annot=True)\n",
        "```\n",
        "> *This method displays heatmap charts. The \"annot\" paramater allows to incorporate annotations to the chart*\n"
      ]
    },
    {
      "cell_type": "code",
      "metadata": {
        "id": "9KHshy0WqlZc"
      },
      "source": [
        "# Import dataframe\n",
        "df_jamesbond = pd.read_csv(\"https://data-wizards.s3.amazonaws.com/datasets/jamesbond.csv\",index_col=\"Film\")"
      ],
      "execution_count": null,
      "outputs": []
    },
    {
      "cell_type": "code",
      "metadata": {
        "colab": {
          "base_uri": "https://localhost:8080/"
        },
        "id": "M7P1xJ2pSHdp",
        "outputId": "cd7c4dd0-73dc-44ff-dc31-eded9b1a6fb6"
      },
      "source": [
        "# We obtain Pearson's correlation rate (r) between two variables\n",
        "scipy.stats.pearsonr(df_jamesbond[\"Box Office\"],df_jamesbond[\"Budget\"])\n",
        "## Interpretation of the result: correlation rate is positive and low (28%); p-value shows no correlation"
      ],
      "execution_count": null,
      "outputs": [
        {
          "output_type": "execute_result",
          "data": {
            "text/plain": [
              "(0.28318466575203255, 0.1609638785608065)"
            ]
          },
          "metadata": {
            "tags": []
          },
          "execution_count": 23
        }
      ]
    },
    {
      "cell_type": "code",
      "metadata": {
        "colab": {
          "base_uri": "https://localhost:8080/",
          "height": 138
        },
        "id": "W9ZJI-asRbYc",
        "outputId": "3306f0d2-bea2-4d83-8d39-d1a26fad1fb4"
      },
      "source": [
        "# Next, we will build a correlation matrix to evaluate all relevant variables\n",
        "df_jamesbond[[\"Box Office\",\"Budget\",\"Bond Actor Salary\"]].corr()\n",
        "## Interpretation of the result: \"Budget\" and \"Bond Actor Salary\" are the two highest correlated variables"
      ],
      "execution_count": null,
      "outputs": [
        {
          "output_type": "execute_result",
          "data": {
            "text/html": [
              "<div>\n",
              "<style scoped>\n",
              "    .dataframe tbody tr th:only-of-type {\n",
              "        vertical-align: middle;\n",
              "    }\n",
              "\n",
              "    .dataframe tbody tr th {\n",
              "        vertical-align: top;\n",
              "    }\n",
              "\n",
              "    .dataframe thead th {\n",
              "        text-align: right;\n",
              "    }\n",
              "</style>\n",
              "<table border=\"1\" class=\"dataframe\">\n",
              "  <thead>\n",
              "    <tr style=\"text-align: right;\">\n",
              "      <th></th>\n",
              "      <th>Box Office</th>\n",
              "      <th>Budget</th>\n",
              "      <th>Bond Actor Salary</th>\n",
              "    </tr>\n",
              "  </thead>\n",
              "  <tbody>\n",
              "    <tr>\n",
              "      <th>Box Office</th>\n",
              "      <td>1.000000</td>\n",
              "      <td>0.283185</td>\n",
              "      <td>0.069542</td>\n",
              "    </tr>\n",
              "    <tr>\n",
              "      <th>Budget</th>\n",
              "      <td>0.283185</td>\n",
              "      <td>1.000000</td>\n",
              "      <td>0.728390</td>\n",
              "    </tr>\n",
              "    <tr>\n",
              "      <th>Bond Actor Salary</th>\n",
              "      <td>0.069542</td>\n",
              "      <td>0.728390</td>\n",
              "      <td>1.000000</td>\n",
              "    </tr>\n",
              "  </tbody>\n",
              "</table>\n",
              "</div>"
            ],
            "text/plain": [
              "                   Box Office    Budget  Bond Actor Salary\n",
              "Box Office           1.000000  0.283185           0.069542\n",
              "Budget               0.283185  1.000000           0.728390\n",
              "Bond Actor Salary    0.069542  0.728390           1.000000"
            ]
          },
          "metadata": {
            "tags": []
          },
          "execution_count": 24
        }
      ]
    },
    {
      "cell_type": "code",
      "metadata": {
        "colab": {
          "base_uri": "https://localhost:8080/",
          "height": 296
        },
        "id": "_vKMN33uRCNk",
        "outputId": "f6dbd87b-7c0c-43a7-a59d-597928884436"
      },
      "source": [
        "# We use the plot() method to generate a scatter plot\n",
        "df_jamesbond.plot(\"Budget\",\"Bond Actor Salary\",kind=\"scatter\")"
      ],
      "execution_count": null,
      "outputs": [
        {
          "output_type": "execute_result",
          "data": {
            "text/plain": [
              "<matplotlib.axes._subplots.AxesSubplot at 0x7ff5ce8b1110>"
            ]
          },
          "metadata": {
            "tags": []
          },
          "execution_count": 25
        },
        {
          "output_type": "display_data",
          "data": {
            "image/png": "[encoded data removed]",
            "text/plain": [
              "<Figure size 432x288 with 1 Axes>"
            ]
          },
          "metadata": {
            "tags": [],
            "needs_background": "light"
          }
        }
      ]
    },
    {
      "cell_type": "code",
      "metadata": {
        "colab": {
          "base_uri": "https://localhost:8080/",
          "height": 405
        },
        "id": "aEsS7_QRRHWZ",
        "outputId": "50518485-c1b6-4dee-a792-635a10114cad"
      },
      "source": [
        "# We can edit the \"figsize\" parameter to change the chart size\n",
        "df_jamesbond.plot(\"Budget\",\"Bond Actor Salary\",kind=\"scatter\",figsize=(10,6))"
      ],
      "execution_count": null,
      "outputs": [
        {
          "output_type": "execute_result",
          "data": {
            "text/plain": [
              "<matplotlib.axes._subplots.AxesSubplot at 0x7ff5ce821cd0>"
            ]
          },
          "metadata": {
            "tags": []
          },
          "execution_count": 26
        },
        {
          "output_type": "display_data",
          "data": {
            "image/png": "[encoded data removed]",
            "text/plain": [
              "<Figure size 720x432 with 1 Axes>"
            ]
          },
          "metadata": {
            "tags": [],
            "needs_background": "light"
          }
        }
      ]
    },
    {
      "cell_type": "code",
      "metadata": {
        "colab": {
          "base_uri": "https://localhost:8080/",
          "height": 319
        },
        "id": "vEF45-ZBRHy4",
        "outputId": "08cb914d-49ed-44c2-f1c7-73ec15a85741"
      },
      "source": [
        "# To visualize the correlation matrix, we can plot a heatmap\n",
        "corrMatrix= df_jamesbond[[\"Box Office\",\"Budget\",\"Bond Actor Salary\"]].corr()\n",
        "sn.heatmap(corrMatrix, annot=True)"
      ],
      "execution_count": null,
      "outputs": [
        {
          "output_type": "execute_result",
          "data": {
            "text/plain": [
              "<matplotlib.axes._subplots.AxesSubplot at 0x7ff5ce7a2950>"
            ]
          },
          "metadata": {
            "tags": []
          },
          "execution_count": 27
        },
        {
          "output_type": "display_data",
          "data": {
            "image/png": "[encoded data removed]",
            "text/plain": [
              "<Figure size 432x288 with 2 Axes>"
            ]
          },
          "metadata": {
            "tags": [],
            "needs_background": "light"
          }
        }
      ]
    },
    {
      "cell_type": "code",
      "metadata": {
        "colab": {
          "base_uri": "https://localhost:8080/",
          "height": 419
        },
        "id": "uJOaCasPjnh-",
        "outputId": "dbfff675-908c-4d0c-acdb-dff6e7ec7b60"
      },
      "source": [
        "# The following line changes Seaborn charts size globally\n",
        "sn.set(rc={'figure.figsize':(10,6)}) # we change size of all Seaborn package (sn) charts\n",
        "\n",
        "# We repeat the exercise\n",
        "corrMatrix= df_jamesbond[[\"Box Office\",\"Budget\",\"Bond Actor Salary\"]].corr()\n",
        "sn.heatmap(corrMatrix, annot=True)"
      ],
      "execution_count": null,
      "outputs": [
        {
          "output_type": "execute_result",
          "data": {
            "text/plain": [
              "<matplotlib.axes._subplots.AxesSubplot at 0x7ff5c5930d90>"
            ]
          },
          "metadata": {
            "tags": []
          },
          "execution_count": 51
        },
        {
          "output_type": "display_data",
          "data": {
            "image/png": "[encoded data removed]",
            "text/plain": [
              "<Figure size 720x432 with 2 Axes>"
            ]
          },
          "metadata": {
            "tags": []
          }
        }
      ]
    },
    {
      "cell_type": "markdown",
      "metadata": {
        "id": "36Mm5XgoCqqA"
      },
      "source": [
        "# EDA: DISTRIBUTION\n",
        "When exploring distribution, we aim to understand how dispersed or gather are the observations on a continuous variable.\n",
        "\n",
        "*New functions introduced in this section,*\n",
        "\n",
        "```\n",
        "describe(object,percentiles=[...])\n",
        "```\n",
        "> *The describe() method, when applied to a numerical variable, displays its distribution. By default it provides quantiles, we can edit this using the \"percentiles\" parameter*\n",
        "\n",
        "```\n",
        "quantile()\n",
        "```\n",
        "> *This function return values at the given quantile*\n",
        "\n",
        "```\n",
        "hist(bins=x)\n",
        "```\n",
        "> *The hist() method plots histograms. We can edit the numerical ranges in X axis using the \"bins\" parameter*\n",
        "\n",
        "```\n",
        "sn.boxplot(x, y, data=object)\n",
        "```\n",
        "> *This method builds boxplots*\n",
        "\n"
      ]
    },
    {
      "cell_type": "code",
      "metadata": {
        "id": "mTZNAaopqjGd"
      },
      "source": [
        "# Import datafrane\n",
        "df_jamesbond = pd.read_csv(\"https://data-wizards.s3.amazonaws.com/datasets/jamesbond.csv\",index_col=\"Film\")"
      ],
      "execution_count": null,
      "outputs": []
    },
    {
      "cell_type": "code",
      "metadata": {
        "id": "h6DE7b1moUNZ",
        "colab": {
          "base_uri": "https://localhost:8080/",
          "height": 288
        },
        "outputId": "11d074b9-e7c6-47e9-94d3-1d78479673b7"
      },
      "source": [
        "# We select relevant variables and get distribution\n",
        "df_jamesbond[[\"Box Office\",\"Budget\",\"Bond Actor Salary\"]].describe()"
      ],
      "execution_count": null,
      "outputs": [
        {
          "output_type": "execute_result",
          "data": {
            "text/html": [
              "<div>\n",
              "<style scoped>\n",
              "    .dataframe tbody tr th:only-of-type {\n",
              "        vertical-align: middle;\n",
              "    }\n",
              "\n",
              "    .dataframe tbody tr th {\n",
              "        vertical-align: top;\n",
              "    }\n",
              "\n",
              "    .dataframe thead th {\n",
              "        text-align: right;\n",
              "    }\n",
              "</style>\n",
              "<table border=\"1\" class=\"dataframe\">\n",
              "  <thead>\n",
              "    <tr style=\"text-align: right;\">\n",
              "      <th></th>\n",
              "      <th>Box Office</th>\n",
              "      <th>Budget</th>\n",
              "      <th>Bond Actor Salary</th>\n",
              "    </tr>\n",
              "  </thead>\n",
              "  <tbody>\n",
              "    <tr>\n",
              "      <th>count</th>\n",
              "      <td>26.000000</td>\n",
              "      <td>26.000000</td>\n",
              "      <td>18.000000</td>\n",
              "    </tr>\n",
              "    <tr>\n",
              "      <th>mean</th>\n",
              "      <td>491.611538</td>\n",
              "      <td>80.719231</td>\n",
              "      <td>6.850000</td>\n",
              "    </tr>\n",
              "    <tr>\n",
              "      <th>std</th>\n",
              "      <td>176.740396</td>\n",
              "      <td>57.097608</td>\n",
              "      <td>4.805175</td>\n",
              "    </tr>\n",
              "    <tr>\n",
              "      <th>min</th>\n",
              "      <td>250.900000</td>\n",
              "      <td>7.000000</td>\n",
              "      <td>0.600000</td>\n",
              "    </tr>\n",
              "    <tr>\n",
              "      <th>25%</th>\n",
              "      <td>375.350000</td>\n",
              "      <td>38.450000</td>\n",
              "      <td>3.575000</td>\n",
              "    </tr>\n",
              "    <tr>\n",
              "      <th>50%</th>\n",
              "      <td>461.750000</td>\n",
              "      <td>60.050000</td>\n",
              "      <td>5.500000</td>\n",
              "    </tr>\n",
              "    <tr>\n",
              "      <th>75%</th>\n",
              "      <td>534.500000</td>\n",
              "      <td>123.300000</td>\n",
              "      <td>8.850000</td>\n",
              "    </tr>\n",
              "    <tr>\n",
              "      <th>max</th>\n",
              "      <td>943.500000</td>\n",
              "      <td>206.300000</td>\n",
              "      <td>17.900000</td>\n",
              "    </tr>\n",
              "  </tbody>\n",
              "</table>\n",
              "</div>"
            ],
            "text/plain": [
              "       Box Office      Budget  Bond Actor Salary\n",
              "count   26.000000   26.000000          18.000000\n",
              "mean   491.611538   80.719231           6.850000\n",
              "std    176.740396   57.097608           4.805175\n",
              "min    250.900000    7.000000           0.600000\n",
              "25%    375.350000   38.450000           3.575000\n",
              "50%    461.750000   60.050000           5.500000\n",
              "75%    534.500000  123.300000           8.850000\n",
              "max    943.500000  206.300000          17.900000"
            ]
          },
          "metadata": {
            "tags": []
          },
          "execution_count": 53
        }
      ]
    },
    {
      "cell_type": "code",
      "metadata": {
        "id": "_Bkyb0R1o8Xi",
        "colab": {
          "base_uri": "https://localhost:8080/",
          "height": 210
        },
        "outputId": "4ea60fbc-b392-4ca2-c0b7-eca8c952c2b8"
      },
      "source": [
        "# Let us now edit the distribution from quantiles to deciles\n",
        "df_jamesbond[['Box Office','Budget','Bond Actor Salary']].describe(\n",
        "    percentiles=[0.1,0.2,0.3,0.4,0.5,0.6,0.7,0.8,0.9] # we edit the distribution \n",
        "    ).T # we pivot the table"
      ],
      "execution_count": null,
      "outputs": [
        {
          "output_type": "execute_result",
          "data": {
            "text/html": [
              "<div>\n",
              "<style scoped>\n",
              "    .dataframe tbody tr th:only-of-type {\n",
              "        vertical-align: middle;\n",
              "    }\n",
              "\n",
              "    .dataframe tbody tr th {\n",
              "        vertical-align: top;\n",
              "    }\n",
              "\n",
              "    .dataframe thead th {\n",
              "        text-align: right;\n",
              "    }\n",
              "</style>\n",
              "<table border=\"1\" class=\"dataframe\">\n",
              "  <thead>\n",
              "    <tr style=\"text-align: right;\">\n",
              "      <th></th>\n",
              "      <th>count</th>\n",
              "      <th>mean</th>\n",
              "      <th>std</th>\n",
              "      <th>min</th>\n",
              "      <th>10%</th>\n",
              "      <th>20%</th>\n",
              "      <th>30%</th>\n",
              "      <th>40%</th>\n",
              "      <th>50%</th>\n",
              "      <th>60%</th>\n",
              "      <th>70%</th>\n",
              "      <th>80%</th>\n",
              "      <th>90%</th>\n",
              "      <th>max</th>\n",
              "    </tr>\n",
              "  </thead>\n",
              "  <tbody>\n",
              "    <tr>\n",
              "      <th>Box Office</th>\n",
              "      <td>26.0</td>\n",
              "      <td>491.611538</td>\n",
              "      <td>176.740396</td>\n",
              "      <td>250.9</td>\n",
              "      <td>302.50</td>\n",
              "      <td>334.00</td>\n",
              "      <td>409.75</td>\n",
              "      <td>448.80</td>\n",
              "      <td>461.75</td>\n",
              "      <td>514.20</td>\n",
              "      <td>525.75</td>\n",
              "      <td>543.80</td>\n",
              "      <td>773.55</td>\n",
              "      <td>943.5</td>\n",
              "    </tr>\n",
              "    <tr>\n",
              "      <th>Budget</th>\n",
              "      <td>26.0</td>\n",
              "      <td>80.719231</td>\n",
              "      <td>57.097608</td>\n",
              "      <td>7.0</td>\n",
              "      <td>23.15</td>\n",
              "      <td>34.70</td>\n",
              "      <td>43.50</td>\n",
              "      <td>54.50</td>\n",
              "      <td>60.05</td>\n",
              "      <td>76.90</td>\n",
              "      <td>88.75</td>\n",
              "      <td>145.30</td>\n",
              "      <td>164.25</td>\n",
              "      <td>206.3</td>\n",
              "    </tr>\n",
              "    <tr>\n",
              "      <th>Bond Actor Salary</th>\n",
              "      <td>18.0</td>\n",
              "      <td>6.850000</td>\n",
              "      <td>4.805175</td>\n",
              "      <td>0.6</td>\n",
              "      <td>1.30</td>\n",
              "      <td>3.24</td>\n",
              "      <td>4.43</td>\n",
              "      <td>5.02</td>\n",
              "      <td>5.50</td>\n",
              "      <td>7.82</td>\n",
              "      <td>8.08</td>\n",
              "      <td>9.64</td>\n",
              "      <td>13.80</td>\n",
              "      <td>17.9</td>\n",
              "    </tr>\n",
              "  </tbody>\n",
              "</table>\n",
              "</div>"
            ],
            "text/plain": [
              "                   count        mean         std  ...     80%     90%    max\n",
              "Box Office          26.0  491.611538  176.740396  ...  543.80  773.55  943.5\n",
              "Budget              26.0   80.719231   57.097608  ...  145.30  164.25  206.3\n",
              "Bond Actor Salary   18.0    6.850000    4.805175  ...    9.64   13.80   17.9\n",
              "\n",
              "[3 rows x 14 columns]"
            ]
          },
          "metadata": {
            "tags": []
          },
          "execution_count": 31
        }
      ]
    },
    {
      "cell_type": "code",
      "metadata": {
        "colab": {
          "base_uri": "https://localhost:8080/"
        },
        "id": "vXiN2JnY_SHR",
        "outputId": "66dbe25d-9739-47bd-9807-4dd814f6b546"
      },
      "source": [
        "# Let us extract the value at a given quantile\n",
        "df_jamesbond['Box Office'].quantile(0.20)\n",
        "## Result interpretation: the highest 20% of movies genereated 375.35 in box office "
      ],
      "execution_count": null,
      "outputs": [
        {
          "output_type": "execute_result",
          "data": {
            "text/plain": [
              "375.35"
            ]
          },
          "metadata": {
            "tags": []
          },
          "execution_count": 63
        }
      ]
    },
    {
      "cell_type": "code",
      "metadata": {
        "colab": {
          "base_uri": "https://localhost:8080/",
          "height": 395
        },
        "id": "umsHOe1YwXWz",
        "outputId": "17983699-4c0e-4ef1-9545-dc4875569aa1"
      },
      "source": [
        "# We now plot a histogram to visualize distribution\n",
        "df_jamesbond[\"Bond Actor Salary\"].hist(bins=20) # we edit the \"bins\" parameter"
      ],
      "execution_count": null,
      "outputs": [
        {
          "output_type": "execute_result",
          "data": {
            "text/plain": [
              "<matplotlib.axes._subplots.AxesSubplot at 0x7ff5ce824990>"
            ]
          },
          "metadata": {
            "tags": []
          },
          "execution_count": 32
        },
        {
          "output_type": "display_data",
          "data": {
            "image/png": "[encoded data removed]",
            "text/plain": [
              "<Figure size 720x432 with 1 Axes>"
            ]
          },
          "metadata": {
            "tags": []
          }
        }
      ]
    },
    {
      "cell_type": "code",
      "metadata": {
        "colab": {
          "base_uri": "https://localhost:8080/",
          "height": 411
        },
        "id": "ZiOUxNYQ4qJF",
        "outputId": "3063a43f-832e-4251-e306-f215800460b2"
      },
      "source": [
        "# Next, we plot a boxplot to visualize the distribution by groups created based on a categorical variable\n",
        "\n",
        "# We will plot the distribution of salaries perceived by specific actors\n",
        "cond = df_jamesbond[\"Actor\"].isin(['Sean Connery','Daniel Craig','Roger Moore','Pierce Brosnan','Timothy Dalton'])\n",
        "# We plot the boxplot\n",
        "sn.boxplot(x=\"Actor\", y=\"Bond Actor Salary\", data=df_jamesbond[cond])"
      ],
      "execution_count": null,
      "outputs": [
        {
          "output_type": "execute_result",
          "data": {
            "text/plain": [
              "<matplotlib.axes._subplots.AxesSubplot at 0x7ff5c5e7a150>"
            ]
          },
          "metadata": {
            "tags": []
          },
          "execution_count": 33
        },
        {
          "output_type": "display_data",
          "data": {
            "image/png": "[encoded data removed]",
            "text/plain": [
              "<Figure size 720x432 with 1 Axes>"
            ]
          },
          "metadata": {
            "tags": []
          }
        }
      ]
    },
    {
      "cell_type": "markdown",
      "metadata": {
        "id": "B85Zw2gnCqsp"
      },
      "source": [
        "# EDA: TIME SERIES\n",
        "In a time series, we look to explore the evolution of a numerical variable across time.\n",
        "\n",
        "*New functions introduced in this section:*\n",
        "\n",
        "```\n",
        "plot()\n",
        "```\n",
        "> *By default, the plot() method builds time series. We only need to parse a DataFrame that is indexed by the time variable we want to use*\n",
        "\n",
        "```\n",
        "to_datetime()\n",
        "```\n",
        "> *This method allows to change variable from string (object) type to date format*\n",
        "\n",
        "```\n",
        "dt.year\n",
        "dt.month\n",
        "dt.day\n",
        "dt.isocalendar().week\n",
        "```\n",
        "> *These methods allow to extract date parts from a date format variable*\n",
        "\n"
      ]
    },
    {
      "cell_type": "markdown",
      "metadata": {
        "id": "uAeFnBhoM7wY"
      },
      "source": [
        "### Plotting time series\n",
        "---"
      ]
    },
    {
      "cell_type": "code",
      "metadata": {
        "id": "B5F4-SRDwaMQ",
        "colab": {
          "base_uri": "https://localhost:8080/",
          "height": 411
        },
        "outputId": "de09dc79-a4c1-4bb5-bfa5-c323acbfb362"
      },
      "source": [
        "# Let us build a time series chart with two variables\n",
        "df_jamesbond.set_index(\"Year\")[[\"Box Office\",\"Budget\"]].plot()"
      ],
      "execution_count": null,
      "outputs": [
        {
          "output_type": "execute_result",
          "data": {
            "text/plain": [
              "<matplotlib.axes._subplots.AxesSubplot at 0x7ff5c5d5ccd0>"
            ]
          },
          "metadata": {
            "tags": []
          },
          "execution_count": 34
        },
        {
          "output_type": "display_data",
          "data": {
            "image/png": "[encoded data removed]",
            "text/plain": [
              "<Figure size 720x432 with 1 Axes>"
            ]
          },
          "metadata": {
            "tags": []
          }
        }
      ]
    },
    {
      "cell_type": "code",
      "metadata": {
        "colab": {
          "base_uri": "https://localhost:8080/",
          "height": 524
        },
        "id": "ReP0SaRF3alF",
        "outputId": "02a7cd53-a158-4f18-c636-b5f787d9a240"
      },
      "source": [
        "# Let us now repeat the same exercise but (i) modifying the chart size and (ii) separating each variable into single charts\n",
        "df_jamesbond.set_index(\"Year\")\\\n",
        "    [[\"Box Office\",\"Budget\"]]\\\n",
        "    .plot(figsize=(12,8),subplots=True) # subplots allows to build independent charts for each variable"
      ],
      "execution_count": null,
      "outputs": [
        {
          "output_type": "execute_result",
          "data": {
            "text/plain": [
              "array([<matplotlib.axes._subplots.AxesSubplot object at 0x7ff5c5cf0110>,\n",
              "       <matplotlib.axes._subplots.AxesSubplot object at 0x7ff5c5c96f10>],\n",
              "      dtype=object)"
            ]
          },
          "metadata": {
            "tags": []
          },
          "execution_count": 35
        },
        {
          "output_type": "display_data",
          "data": {
            "image/png": "[encoded data removed]",
            "text/plain": [
              "<Figure size 864x576 with 2 Axes>"
            ]
          },
          "metadata": {
            "tags": []
          }
        }
      ]
    },
    {
      "cell_type": "markdown",
      "metadata": {
        "id": "JuZaJiZxNUb6"
      },
      "source": [
        "### Transforming date variables\n",
        "---"
      ]
    },
    {
      "cell_type": "code",
      "metadata": {
        "colab": {
          "base_uri": "https://localhost:8080/"
        },
        "id": "0tKYi4ZzGIao",
        "outputId": "5cf75761-3961-4c85-8083-70a4aa2d5d13"
      },
      "source": [
        "# Import dataframe\n",
        "df_amzn = pd.read_csv(\"https://data-wizards.s3.amazonaws.com/datasets/amzn_stocks.csv\")\n",
        "df_amzn.dtypes"
      ],
      "execution_count": null,
      "outputs": [
        {
          "output_type": "execute_result",
          "data": {
            "text/plain": [
              "Date       object\n",
              "Open      float64\n",
              "High      float64\n",
              "Low       float64\n",
              "Close     float64\n",
              "Volume      int64\n",
              "dtype: object"
            ]
          },
          "metadata": {
            "tags": []
          },
          "execution_count": 89
        }
      ]
    },
    {
      "cell_type": "code",
      "metadata": {
        "colab": {
          "base_uri": "https://localhost:8080/"
        },
        "id": "e2lT-qUkKOSE",
        "outputId": "6bac9c0e-14a5-4b3e-f250-b09b0080ca0a"
      },
      "source": [
        "# We transform the Date variable into date format and check the result\n",
        "df_amzn[\"Date\"] = pd.to_datetime(df_amzn['Date'], format='%Y-%m-%d')\n",
        "df_amzn.dtypes"
      ],
      "execution_count": null,
      "outputs": [
        {
          "output_type": "execute_result",
          "data": {
            "text/plain": [
              "Date      datetime64[ns]\n",
              "Open             float64\n",
              "High             float64\n",
              "Low              float64\n",
              "Close            float64\n",
              "Volume             int64\n",
              "dtype: object"
            ]
          },
          "metadata": {
            "tags": []
          },
          "execution_count": 91
        }
      ]
    },
    {
      "cell_type": "code",
      "metadata": {
        "id": "DnCG37ZbMnom"
      },
      "source": [
        "# We now create specific fields to capture Year, Month and Week\n",
        "df_amzn[\"Year\"] = df_amzn[\"Date\"].dt.year\n",
        "df_amzn[\"Month\"] = df_amzn[\"Date\"].dt.month\n",
        "df_amzn[\"Week\"] = df_amzn[\"Date\"].dt.isocalendar().week"
      ],
      "execution_count": null,
      "outputs": []
    },
    {
      "cell_type": "code",
      "metadata": {
        "colab": {
          "base_uri": "https://localhost:8080/",
          "height": 411
        },
        "id": "hkpESWiIOBep",
        "outputId": "aa58c42a-48b9-4a86-f6d1-24f37a080df4"
      },
      "source": [
        "# We aggregate daily data to weekly and plot the week on week evolution in 2015\n",
        "df_amzn[df_amzn[\"Year\"]==2015]\\\n",
        "    .groupby([\"Week\"])\\\n",
        "    .agg({\"High\":\"max\"})\n",
        "    .plot()"
      ],
      "execution_count": null,
      "outputs": [
        {
          "output_type": "execute_result",
          "data": {
            "text/plain": [
              "<matplotlib.axes._subplots.AxesSubplot at 0x7ff5c0256110>"
            ]
          },
          "metadata": {
            "tags": []
          },
          "execution_count": 107
        },
        {
          "output_type": "display_data",
          "data": {
            "image/png": "[encoded data removed]",
            "text/plain": [
              "<Figure size 720x432 with 1 Axes>"
            ]
          },
          "metadata": {
            "tags": []
          }
        }
      ]
    },
    {
      "cell_type": "markdown",
      "metadata": {
        "id": "UJFehThgLUq1"
      },
      "source": [
        "# EXERCISES"
      ]
    },
    {
      "cell_type": "markdown",
      "metadata": {
        "id": "hmMQVikzUfjf"
      },
      "source": [
        "##### EX 1\n",
        "> Dataset https://data-wizards.s3.amazonaws.com/datasets/dataset_star_wars.csv\n",
        "\n",
        "Identify fields with missing values. Remove observations with null values for any numerical variable\n",
        "\n",
        "---\n"
      ]
    },
    {
      "cell_type": "code",
      "metadata": {
        "id": "NsFLwIx4RR7C"
      },
      "source": [
        "# Importing libraries\n",
        "import pandas as pd\n",
        "import matplotlib.pyplot as plt\n",
        "import seaborn as sn\n",
        "from matplotlib.pyplot import figure\n",
        "from scipy import stats\n",
        "import scipy\n",
        "from datetime import datetime"
      ],
      "execution_count": null,
      "outputs": []
    },
    {
      "cell_type": "code",
      "metadata": {
        "colab": {
          "base_uri": "https://localhost:8080/"
        },
        "id": "ZY8AzIWvRS0b",
        "outputId": "80550847-ac7d-4c17-9f4b-6638c8f26ea5"
      },
      "source": [
        "# Importing df\n",
        "df_starwars = pd.read_csv(\"https://data-wizards.s3.amazonaws.com/datasets/dataset_star_wars.csv\")\n",
        "df_starwars.dtypes"
      ],
      "execution_count": null,
      "outputs": [
        {
          "output_type": "execute_result",
          "data": {
            "text/plain": [
              "name           object\n",
              "height        float64\n",
              "mass          float64\n",
              "hair_color     object\n",
              "skin_color     object\n",
              "eye_color      object\n",
              "birth_year    float64\n",
              "gender         object\n",
              "homeworld      object\n",
              "species        object\n",
              "dtype: object"
            ]
          },
          "metadata": {
            "tags": []
          },
          "execution_count": 123
        }
      ]
    },
    {
      "cell_type": "code",
      "metadata": {
        "colab": {
          "base_uri": "https://localhost:8080/"
        },
        "id": "jJ52y22wRcbd",
        "outputId": "6f4eec3f-eacf-4b20-8409-e8fa036f6778"
      },
      "source": [
        "df_starwars.isna().any()"
      ],
      "execution_count": null,
      "outputs": [
        {
          "output_type": "execute_result",
          "data": {
            "text/plain": [
              "name          False\n",
              "height         True\n",
              "mass           True\n",
              "hair_color     True\n",
              "skin_color    False\n",
              "eye_color     False\n",
              "birth_year     True\n",
              "gender         True\n",
              "homeworld      True\n",
              "species        True\n",
              "dtype: bool"
            ]
          },
          "metadata": {
            "tags": []
          },
          "execution_count": 124
        }
      ]
    },
    {
      "cell_type": "code",
      "metadata": {
        "id": "9dWhGNqqRtL7"
      },
      "source": [
        "# We now omit rows with null values for numerical variables\n",
        "cond_1 = df_starwars[\"height\"].isna()\n",
        "cond_2 = df_starwars[\"mass\"].isna()\n",
        "cond_3 = df_starwars[\"birth_year\"].isna()\n",
        "\n",
        "df_starwars_clean = df_starwars[-(cond_1 & cond_2 & cond_3)]"
      ],
      "execution_count": null,
      "outputs": []
    },
    {
      "cell_type": "markdown",
      "metadata": {
        "id": "49gwgZFxFmSs"
      },
      "source": [
        "##### EX 2\n",
        "> Dataset https://data-wizards.s3.amazonaws.com/datasets/movies.csv\n",
        "\n",
        "##### 2.1 Plot a histogram on variable *IMDB score*\n",
        "##### 2.2 How many directors are included in the dataset?\n",
        "##### 2.3 Extract top 10 variables with highest correlation to field *IMDB score*\n",
        "##### 2.4 Extract movies that are outliers (z>3) in terms of duration\n",
        "##### 2.5 Extract movies that are in the upper decile (upper 10%) in *IMDB score*\n",
        "---\n"
      ]
    },
    {
      "cell_type": "code",
      "metadata": {
        "id": "Ur1EP-znGUIF"
      },
      "source": [
        "# Importing libraries\n",
        "import pandas as pd\n",
        "import matplotlib.pyplot as plt\n",
        "import seaborn as sn\n",
        "from matplotlib.pyplot import figure\n",
        "from scipy import stats\n",
        "import scipy\n",
        "from datetime import datetime"
      ],
      "execution_count": null,
      "outputs": []
    },
    {
      "cell_type": "code",
      "metadata": {
        "id": "paaFooUrHW8I",
        "colab": {
          "base_uri": "https://localhost:8080/"
        },
        "outputId": "b94951a0-bd46-4690-c5b8-a76f9144cf7e"
      },
      "source": [
        "# Importing df\n",
        "df_movies = pd.read_csv(\"https://data-wizards.s3.amazonaws.com/datasets/movies.csv\")\n",
        "df_movies.dtypes"
      ],
      "execution_count": null,
      "outputs": [
        {
          "output_type": "execute_result",
          "data": {
            "text/plain": [
              "color                         object\n",
              "director_name                 object\n",
              "num_critic_for_reviews       float64\n",
              "duration                     float64\n",
              "director_facebook_likes      float64\n",
              "actor_3_facebook_likes       float64\n",
              "actor_2_name                  object\n",
              "actor_1_facebook_likes       float64\n",
              "gross                        float64\n",
              "genres                        object\n",
              "actor_1_name                  object\n",
              "movie_title                   object\n",
              "num_voted_users                int64\n",
              "cast_total_facebook_likes      int64\n",
              "actor_3_name                  object\n",
              "facenumber_in_poster         float64\n",
              "plot_keywords                 object\n",
              "movie_imdb_link               object\n",
              "num_user_for_reviews         float64\n",
              "language                      object\n",
              "country                       object\n",
              "content_rating                object\n",
              "budget                       float64\n",
              "title_year                   float64\n",
              "actor_2_facebook_likes       float64\n",
              "imdb_score                   float64\n",
              "aspect_ratio                 float64\n",
              "movie_facebook_likes           int64\n",
              "dtype: object"
            ]
          },
          "metadata": {
            "tags": []
          },
          "execution_count": 141
        }
      ]
    },
    {
      "cell_type": "code",
      "metadata": {
        "id": "rPmGfdiHHW-_",
        "colab": {
          "base_uri": "https://localhost:8080/",
          "height": 395
        },
        "outputId": "cd47644d-9798-40ae-e8e3-d214f28a4443"
      },
      "source": [
        "# EX 2.1\n",
        "df_movies[\"imdb_score\"].hist(bins=30)"
      ],
      "execution_count": null,
      "outputs": [
        {
          "output_type": "execute_result",
          "data": {
            "text/plain": [
              "<matplotlib.axes._subplots.AxesSubplot at 0x7ff5c577bb90>"
            ]
          },
          "metadata": {
            "tags": []
          },
          "execution_count": 142
        },
        {
          "output_type": "display_data",
          "data": {
            "image/png": "[encoded data removed]",
            "text/plain": [
              "<Figure size 720x432 with 1 Axes>"
            ]
          },
          "metadata": {
            "tags": []
          }
        }
      ]
    },
    {
      "cell_type": "code",
      "metadata": {
        "id": "QXKvd385Nd4j",
        "colab": {
          "base_uri": "https://localhost:8080/"
        },
        "outputId": "a1a515ba-5f02-46ff-beb2-f8c3971a5fce"
      },
      "source": [
        "# EX 2.2\n",
        "df_movies[\"director_name\"].describe()"
      ],
      "execution_count": null,
      "outputs": [
        {
          "output_type": "execute_result",
          "data": {
            "text/plain": [
              "count                 4814\n",
              "unique                2397\n",
              "top       Steven Spielberg\n",
              "freq                    26\n",
              "Name: director_name, dtype: object"
            ]
          },
          "metadata": {
            "tags": []
          },
          "execution_count": 47
        }
      ]
    },
    {
      "cell_type": "code",
      "metadata": {
        "colab": {
          "base_uri": "https://localhost:8080/"
        },
        "id": "J-fHdb7MOJjD",
        "outputId": "4cdfcd3e-4bef-4df2-d475-f3ef873bf339"
      },
      "source": [
        "# EX 2.3\n",
        "df_movies.corr().sort_values(\"imdb_score\",ascending=False).iloc[1:11,][\"imdb_score\"]"
      ],
      "execution_count": null,
      "outputs": [
        {
          "output_type": "execute_result",
          "data": {
            "text/plain": [
              "num_voted_users              0.412427\n",
              "num_critic_for_reviews       0.309733\n",
              "num_user_for_reviews         0.295779\n",
              "duration                     0.264440\n",
              "movie_facebook_likes         0.252496\n",
              "gross                        0.199914\n",
              "director_facebook_likes      0.173969\n",
              "cast_total_facebook_likes    0.086830\n",
              "actor_2_facebook_likes       0.083761\n",
              "actor_1_facebook_likes       0.077070\n",
              "Name: imdb_score, dtype: float64"
            ]
          },
          "metadata": {
            "tags": []
          },
          "execution_count": 48
        }
      ]
    },
    {
      "cell_type": "code",
      "metadata": {
        "colab": {
          "base_uri": "https://localhost:8080/",
          "height": 198
        },
        "id": "cOce2bfLOJtN",
        "outputId": "623217ee-e3e5-40e3-d106-991f645fc78c"
      },
      "source": [
        "# EX 2.4\n",
        "df_movies[\"z_duration\"] = stats.zscore(df_movies[\"duration\"],nan_policy='omit').round(2)\n",
        "cond = df_movies[\"z_duration\"] > 3\n",
        "df_movies[cond].sort_values(\"duration\",ascending=False)[[\"movie_title\",\"duration\",\"z_duration\"]].head()"
      ],
      "execution_count": null,
      "outputs": [
        {
          "output_type": "execute_result",
          "data": {
            "text/html": [
              "<div>\n",
              "<style scoped>\n",
              "    .dataframe tbody tr th:only-of-type {\n",
              "        vertical-align: middle;\n",
              "    }\n",
              "\n",
              "    .dataframe tbody tr th {\n",
              "        vertical-align: top;\n",
              "    }\n",
              "\n",
              "    .dataframe thead th {\n",
              "        text-align: right;\n",
              "    }\n",
              "</style>\n",
              "<table border=\"1\" class=\"dataframe\">\n",
              "  <thead>\n",
              "    <tr style=\"text-align: right;\">\n",
              "      <th></th>\n",
              "      <th>movie_title</th>\n",
              "      <th>duration</th>\n",
              "      <th>z_duration</th>\n",
              "    </tr>\n",
              "  </thead>\n",
              "  <tbody>\n",
              "    <tr>\n",
              "      <th>1694</th>\n",
              "      <td>Trapped</td>\n",
              "      <td>511.0</td>\n",
              "      <td>15.98</td>\n",
              "    </tr>\n",
              "    <tr>\n",
              "      <th>2436</th>\n",
              "      <td>Carlos</td>\n",
              "      <td>334.0</td>\n",
              "      <td>8.97</td>\n",
              "    </tr>\n",
              "    <tr>\n",
              "      <th>1487</th>\n",
              "      <td>Blood In, Blood Out</td>\n",
              "      <td>330.0</td>\n",
              "      <td>8.82</td>\n",
              "    </tr>\n",
              "    <tr>\n",
              "      <th>1134</th>\n",
              "      <td>Heaven's Gate</td>\n",
              "      <td>325.0</td>\n",
              "      <td>8.62</td>\n",
              "    </tr>\n",
              "    <tr>\n",
              "      <th>3254</th>\n",
              "      <td>The Legend of Suriyothai</td>\n",
              "      <td>300.0</td>\n",
              "      <td>7.63</td>\n",
              "    </tr>\n",
              "  </tbody>\n",
              "</table>\n",
              "</div>"
            ],
            "text/plain": [
              "                   movie_title  duration  z_duration\n",
              "1694                   Trapped     511.0       15.98\n",
              "2436                    Carlos     334.0        8.97\n",
              "1487       Blood In, Blood Out     330.0        8.82\n",
              "1134             Heaven's Gate     325.0        8.62\n",
              "3254  The Legend of Suriyothai     300.0        7.63"
            ]
          },
          "metadata": {
            "tags": []
          },
          "execution_count": 145
        }
      ]
    },
    {
      "cell_type": "code",
      "metadata": {
        "colab": {
          "base_uri": "https://localhost:8080/",
          "height": 407
        },
        "id": "4kt5HHZYPHrp",
        "outputId": "f46563b2-f109-4375-c8a8-7a9830fde378"
      },
      "source": [
        "# EX 2.5\n",
        "cond = df_movies[\"imdb_score\"]>= df_movies[\"imdb_score\"].quantile(.9)\n",
        "df_movies[cond].sort_values(\"imdb_score\",ascending=False)[[\"director_name\",\"imdb_score\"]]"
      ],
      "execution_count": null,
      "outputs": [
        {
          "output_type": "execute_result",
          "data": {
            "text/html": [
              "<div>\n",
              "<style scoped>\n",
              "    .dataframe tbody tr th:only-of-type {\n",
              "        vertical-align: middle;\n",
              "    }\n",
              "\n",
              "    .dataframe tbody tr th {\n",
              "        vertical-align: top;\n",
              "    }\n",
              "\n",
              "    .dataframe thead th {\n",
              "        text-align: right;\n",
              "    }\n",
              "</style>\n",
              "<table border=\"1\" class=\"dataframe\">\n",
              "  <thead>\n",
              "    <tr style=\"text-align: right;\">\n",
              "      <th></th>\n",
              "      <th>director_name</th>\n",
              "      <th>imdb_score</th>\n",
              "    </tr>\n",
              "  </thead>\n",
              "  <tbody>\n",
              "    <tr>\n",
              "      <th>2725</th>\n",
              "      <td>John Blanchard</td>\n",
              "      <td>9.5</td>\n",
              "    </tr>\n",
              "    <tr>\n",
              "      <th>1920</th>\n",
              "      <td>Frank Darabont</td>\n",
              "      <td>9.3</td>\n",
              "    </tr>\n",
              "    <tr>\n",
              "      <th>3402</th>\n",
              "      <td>Francis Ford Coppola</td>\n",
              "      <td>9.2</td>\n",
              "    </tr>\n",
              "    <tr>\n",
              "      <th>4312</th>\n",
              "      <td>John Stockwell</td>\n",
              "      <td>9.1</td>\n",
              "    </tr>\n",
              "    <tr>\n",
              "      <th>2779</th>\n",
              "      <td>NaN</td>\n",
              "      <td>9.1</td>\n",
              "    </tr>\n",
              "    <tr>\n",
              "      <th>...</th>\n",
              "      <td>...</td>\n",
              "      <td>...</td>\n",
              "    </tr>\n",
              "    <tr>\n",
              "      <th>2385</th>\n",
              "      <td>Alejandro G. Iñárritu</td>\n",
              "      <td>7.8</td>\n",
              "    </tr>\n",
              "    <tr>\n",
              "      <th>2424</th>\n",
              "      <td>Kenneth Branagh</td>\n",
              "      <td>7.8</td>\n",
              "    </tr>\n",
              "    <tr>\n",
              "      <th>2430</th>\n",
              "      <td>Michael Haneke</td>\n",
              "      <td>7.8</td>\n",
              "    </tr>\n",
              "    <tr>\n",
              "      <th>2508</th>\n",
              "      <td>Sidney Lumet</td>\n",
              "      <td>7.8</td>\n",
              "    </tr>\n",
              "    <tr>\n",
              "      <th>4909</th>\n",
              "      <td>Anthony Vallone</td>\n",
              "      <td>7.8</td>\n",
              "    </tr>\n",
              "  </tbody>\n",
              "</table>\n",
              "<p>493 rows × 2 columns</p>\n",
              "</div>"
            ],
            "text/plain": [
              "              director_name  imdb_score\n",
              "2725         John Blanchard         9.5\n",
              "1920         Frank Darabont         9.3\n",
              "3402   Francis Ford Coppola         9.2\n",
              "4312         John Stockwell         9.1\n",
              "2779                    NaN         9.1\n",
              "...                     ...         ...\n",
              "2385  Alejandro G. Iñárritu         7.8\n",
              "2424        Kenneth Branagh         7.8\n",
              "2430         Michael Haneke         7.8\n",
              "2508           Sidney Lumet         7.8\n",
              "4909        Anthony Vallone         7.8\n",
              "\n",
              "[493 rows x 2 columns]"
            ]
          },
          "metadata": {
            "tags": []
          },
          "execution_count": 146
        }
      ]
    },
    {
      "cell_type": "markdown",
      "metadata": {
        "id": "OfDZt6FoxM4a"
      },
      "source": [
        "##### EX 3\n",
        "> Dataset https://data-wizards.s3.amazonaws.com/datasets/dataset_na_who.csv\n",
        "\n",
        "Build a boxplot to evaluate distribution of GDP per capita by continent\n",
        "\n",
        "---\n"
      ]
    },
    {
      "cell_type": "code",
      "metadata": {
        "id": "vgdtSeTMaNJ1"
      },
      "source": [
        "# Importing libraries\n",
        "import pandas as pd\n",
        "import matplotlib.pyplot as plt\n",
        "import seaborn as sn\n",
        "from matplotlib.pyplot import figure\n",
        "from scipy import stats\n",
        "import scipy\n",
        "from datetime import datetime"
      ],
      "execution_count": null,
      "outputs": []
    },
    {
      "cell_type": "code",
      "metadata": {
        "colab": {
          "base_uri": "https://localhost:8080/"
        },
        "id": "DRj_y1WwxO22",
        "outputId": "e3f14f0d-f370-4d28-da3e-a962f677c7ba"
      },
      "source": [
        "# Importing dataframe\n",
        "df_who = pd.read_csv('https://data-wizards.s3.amazonaws.com/datasets/dataset_na_who.csv')\n",
        "df_who.dtypes"
      ],
      "execution_count": null,
      "outputs": [
        {
          "output_type": "execute_result",
          "data": {
            "text/plain": [
              "Country                                                    object\n",
              "CountryID                                                   int64\n",
              "ContinentID                                                 int64\n",
              "Adolescent fertility rate (%)                             float64\n",
              "Adult literacy rate (%)                                   float64\n",
              "Gross national income per capita (PPP international $)    float64\n",
              "Net primary school enrolment ratio female (%)             float64\n",
              "Net primary school enrolment ratio male (%)               float64\n",
              "Population (in thousands) total                           float64\n",
              "Population annual growth rate (%)                         float64\n",
              "Population in urban areas (%)                             float64\n",
              "Population living below the poverty line                  float64\n",
              "Continent                                                  object\n",
              "dtype: object"
            ]
          },
          "metadata": {
            "tags": []
          },
          "execution_count": 40
        }
      ]
    },
    {
      "cell_type": "code",
      "metadata": {
        "colab": {
          "base_uri": "https://localhost:8080/",
          "height": 519
        },
        "id": "OuViO4zXxO22",
        "outputId": "ddaa867a-5caa-4804-d1e6-b567f408480c"
      },
      "source": [
        "sn.set(rc={'figure.figsize':(12,8)}) # cambiamos tamaño\n",
        "# Graficamos un boxplot\n",
        "sn.boxplot(x=\"Continent\", y=\"Gross national income per capita (PPP international $)\", data=df_who)"
      ],
      "execution_count": null,
      "outputs": [
        {
          "output_type": "execute_result",
          "data": {
            "text/plain": [
              "<matplotlib.axes._subplots.AxesSubplot at 0x7ff5c58dca50>"
            ]
          },
          "metadata": {
            "tags": []
          },
          "execution_count": 41
        },
        {
          "output_type": "display_data",
          "data": {
            "image/png": "[encoded data removed]",
            "text/plain": [
              "<Figure size 864x576 with 1 Axes>"
            ]
          },
          "metadata": {
            "tags": []
          }
        }
      ]
    },
    {
      "cell_type": "markdown",
      "metadata": {
        "id": "Q89JIn5NFmVO"
      },
      "source": [
        "##### EX 4\n",
        "> Dataset https://data-wizards.s3.amazonaws.com/datasets/dataset_bitcoin.csv\n",
        "\n",
        "Plot the daily evolution of the bitcoin (high) rate since 2018\n",
        "\n",
        "---"
      ]
    },
    {
      "cell_type": "code",
      "metadata": {
        "id": "spSvA6wnFl1Z"
      },
      "source": [
        "# Importing libraries\n",
        "import pandas as pd\n",
        "import matplotlib.pyplot as plt\n",
        "import seaborn as sn\n",
        "from matplotlib.pyplot import figure\n",
        "from scipy import stats\n",
        "import scipy\n",
        "from datetime import datetime"
      ],
      "execution_count": null,
      "outputs": []
    },
    {
      "cell_type": "code",
      "metadata": {
        "colab": {
          "base_uri": "https://localhost:8080/"
        },
        "id": "50utDaeKZEQM",
        "outputId": "7a41ab76-dfd4-485b-f317-03b80ad3bdb6"
      },
      "source": [
        "# Importing dataframe\n",
        "df_bitcoins = pd.read_csv(\"https://data-wizards.s3.amazonaws.com/datasets/dataset_bitcoin.csv\")\n",
        "df_bitcoins.dtypes"
      ],
      "execution_count": null,
      "outputs": [
        {
          "output_type": "execute_result",
          "data": {
            "text/plain": [
              "date           object\n",
              "Open          float64\n",
              "High          float64\n",
              "Low           float64\n",
              "Close         float64\n",
              "volume_BTC    float64\n",
              "volume_usd    float64\n",
              "dtype: object"
            ]
          },
          "metadata": {
            "tags": []
          },
          "execution_count": 151
        }
      ]
    },
    {
      "cell_type": "code",
      "metadata": {
        "colab": {
          "base_uri": "https://localhost:8080/",
          "height": 515
        },
        "id": "I2VW4cdtZOfP",
        "outputId": "f10d7743-1214-497c-dde8-f3ad85f9bb84"
      },
      "source": [
        "df_bitcoins[df_bitcoins[\"date\"]>'2018-01-01'].set_index(\"date\")[\"High\"].plot(figsize=(15,8))"
      ],
      "execution_count": null,
      "outputs": [
        {
          "output_type": "execute_result",
          "data": {
            "text/plain": [
              "<matplotlib.axes._subplots.AxesSubplot at 0x7ff5c5673090>"
            ]
          },
          "metadata": {
            "tags": []
          },
          "execution_count": 158
        },
        {
          "output_type": "display_data",
          "data": {
            "image/png": "[encoded data removed]",
            "text/plain": [
              "<Figure size 1080x576 with 1 Axes>"
            ]
          },
          "metadata": {
            "tags": []
          }
        }
      ]
    }
  ]
}