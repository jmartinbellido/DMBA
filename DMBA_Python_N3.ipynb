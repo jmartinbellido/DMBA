{
  "nbformat": 4,
  "nbformat_minor": 0,
  "metadata": {
    "colab": {
      "name": "DMBA_Python_N3.ipynb",
      "provenance": [],
      "collapsed_sections": [],
      "toc_visible": true,
      "authorship_tag": "ABX9TyPpmbISuMF4zw4pZTj7qE2f",
      "include_colab_link": true
    },
    "kernelspec": {
      "name": "python3",
      "display_name": "Python 3"
    }
  },
  "cells": [
    {
      "cell_type": "markdown",
      "metadata": {
        "id": "view-in-github",
        "colab_type": "text"
      },
      "source": [
        "<a href=\"https://colab.research.google.com/github/jmartinbellido/DMBA/blob/main/DMBA_Python_N3.ipynb\" target=\"_parent\"><img src=\"https://colab.research.google.com/assets/colab-badge.svg\" alt=\"Open In Colab\"/></a>"
      ]
    },
    {
      "cell_type": "markdown",
      "metadata": {
        "id": "Iq0dLzFr2tux"
      },
      "source": [
        "# **ISDI DMBA**\n",
        "# Introduction to Python for Data Analysis \n",
        "# *Notebook 3: Advanced Manipulation*\n",
        "---\n",
        "\n",
        "### ÍNDICE\n",
        "1. BUILDING NEW FIELDS IN DATAFRAME\n",
        "2. AGREGATE DATA\n",
        "3. DATA CLEANING\n",
        "4. EXERCISES\n",
        "\n",
        "### Lecturer: Juan Martin Bellido\n",
        "* [linkedin.com/in/jmartinbellido](https://www.linkedin.com/in/jmartinbellido/)\n",
        "* jmbelldo@isdi.education\n",
        "---\n"
      ]
    },
    {
      "cell_type": "code",
      "metadata": {
        "id": "5eqClCOoPuPC"
      },
      "source": [
        "# importing libraries\n",
        "import pandas as pd\n",
        "import numpy as np"
      ],
      "execution_count": null,
      "outputs": []
    },
    {
      "cell_type": "markdown",
      "metadata": {
        "id": "6EMZLXKAxgOu"
      },
      "source": [
        "# CREATE NEW FIELDS IN DATAFRAME\n"
      ]
    },
    {
      "cell_type": "code",
      "metadata": {
        "id": "0e525vxDmN4E",
        "colab": {
          "base_uri": "https://localhost:8080/"
        },
        "outputId": "47ecf3ab-f89d-4180-de35-cba6766f5aad"
      },
      "source": [
        "# Import df\n",
        "df_jamesbond = pd.read_csv(\"https://data-wizards.s3.amazonaws.com/datasets/jamesbond.csv\",index_col=\"Film\")\n",
        "df_jamesbond.dtypes # the dtypes functions allows to check all fields available in the dataframe"
      ],
      "execution_count": null,
      "outputs": [
        {
          "output_type": "execute_result",
          "data": {
            "text/plain": [
              "Year                   int64\n",
              "Actor                 object\n",
              "Director              object\n",
              "Box Office           float64\n",
              "Budget               float64\n",
              "Bond Actor Salary    float64\n",
              "dtype: object"
            ]
          },
          "metadata": {
            "tags": []
          },
          "execution_count": 5
        }
      ]
    },
    {
      "cell_type": "markdown",
      "metadata": {
        "id": "eTrXD6gfoPMJ"
      },
      "source": [
        "### New fields based on operations between existing fields\n",
        "---"
      ]
    },
    {
      "cell_type": "code",
      "metadata": {
        "colab": {
          "base_uri": "https://localhost:8080/",
          "height": 235
        },
        "id": "C1v-Y-BXzGGA",
        "outputId": "6121cbf1-5303-4649-de39-95c3683a9591"
      },
      "source": [
        "# We create a new column (field) as result of an operation among two existing numeric fields\n",
        "## let's use the round() function to round decimals\n",
        "df_jamesbond[\"profitability\"]=(df_jamesbond[\"Box Office\"]/df_jamesbond[\"Budget\"]).round()\n",
        "df_jamesbond.head()"
      ],
      "execution_count": null,
      "outputs": [
        {
          "output_type": "execute_result",
          "data": {
            "text/html": [
              "<div>\n",
              "<style scoped>\n",
              "    .dataframe tbody tr th:only-of-type {\n",
              "        vertical-align: middle;\n",
              "    }\n",
              "\n",
              "    .dataframe tbody tr th {\n",
              "        vertical-align: top;\n",
              "    }\n",
              "\n",
              "    .dataframe thead th {\n",
              "        text-align: right;\n",
              "    }\n",
              "</style>\n",
              "<table border=\"1\" class=\"dataframe\">\n",
              "  <thead>\n",
              "    <tr style=\"text-align: right;\">\n",
              "      <th></th>\n",
              "      <th>Year</th>\n",
              "      <th>Actor</th>\n",
              "      <th>Director</th>\n",
              "      <th>Box Office</th>\n",
              "      <th>Budget</th>\n",
              "      <th>Bond Actor Salary</th>\n",
              "      <th>profitability</th>\n",
              "    </tr>\n",
              "    <tr>\n",
              "      <th>Film</th>\n",
              "      <th></th>\n",
              "      <th></th>\n",
              "      <th></th>\n",
              "      <th></th>\n",
              "      <th></th>\n",
              "      <th></th>\n",
              "      <th></th>\n",
              "    </tr>\n",
              "  </thead>\n",
              "  <tbody>\n",
              "    <tr>\n",
              "      <th>Dr. No</th>\n",
              "      <td>1962</td>\n",
              "      <td>Sean Connery</td>\n",
              "      <td>Terence Young</td>\n",
              "      <td>448.8</td>\n",
              "      <td>7.0</td>\n",
              "      <td>0.6</td>\n",
              "      <td>64.0</td>\n",
              "    </tr>\n",
              "    <tr>\n",
              "      <th>From Russia with Love</th>\n",
              "      <td>1963</td>\n",
              "      <td>Sean Connery</td>\n",
              "      <td>Terence Young</td>\n",
              "      <td>543.8</td>\n",
              "      <td>12.6</td>\n",
              "      <td>1.6</td>\n",
              "      <td>43.0</td>\n",
              "    </tr>\n",
              "    <tr>\n",
              "      <th>Goldfinger</th>\n",
              "      <td>1964</td>\n",
              "      <td>Sean Connery</td>\n",
              "      <td>Guy Hamilton</td>\n",
              "      <td>820.4</td>\n",
              "      <td>18.6</td>\n",
              "      <td>3.2</td>\n",
              "      <td>44.0</td>\n",
              "    </tr>\n",
              "    <tr>\n",
              "      <th>Thunderball</th>\n",
              "      <td>1965</td>\n",
              "      <td>Sean Connery</td>\n",
              "      <td>Terence Young</td>\n",
              "      <td>848.1</td>\n",
              "      <td>41.9</td>\n",
              "      <td>4.7</td>\n",
              "      <td>20.0</td>\n",
              "    </tr>\n",
              "    <tr>\n",
              "      <th>Casino Royale</th>\n",
              "      <td>1967</td>\n",
              "      <td>David Niven</td>\n",
              "      <td>Ken Hughes</td>\n",
              "      <td>315.0</td>\n",
              "      <td>85.0</td>\n",
              "      <td>NaN</td>\n",
              "      <td>4.0</td>\n",
              "    </tr>\n",
              "  </tbody>\n",
              "</table>\n",
              "</div>"
            ],
            "text/plain": [
              "                       Year         Actor  ... Bond Actor Salary  profitability\n",
              "Film                                       ...                                 \n",
              "Dr. No                 1962  Sean Connery  ...               0.6           64.0\n",
              "From Russia with Love  1963  Sean Connery  ...               1.6           43.0\n",
              "Goldfinger             1964  Sean Connery  ...               3.2           44.0\n",
              "Thunderball            1965  Sean Connery  ...               4.7           20.0\n",
              "Casino Royale          1967   David Niven  ...               NaN            4.0\n",
              "\n",
              "[5 rows x 7 columns]"
            ]
          },
          "metadata": {
            "tags": []
          },
          "execution_count": 4
        }
      ]
    },
    {
      "cell_type": "code",
      "metadata": {
        "colab": {
          "base_uri": "https://localhost:8080/",
          "height": 320
        },
        "id": "zzlSVwpdzGIj",
        "outputId": "abd9703b-969b-49ae-f44f-5435c99a78b4"
      },
      "source": [
        "# We now create a new fueld as result of operating with two string fields\n",
        "df_jamesbond[\"Director/Actor\"]=df_jamesbond[\"Director\"]+ \" / \" + df_jamesbond[\"Actor\"]\n",
        "df_jamesbond.head()"
      ],
      "execution_count": null,
      "outputs": [
        {
          "output_type": "execute_result",
          "data": {
            "text/html": [
              "<div>\n",
              "<style scoped>\n",
              "    .dataframe tbody tr th:only-of-type {\n",
              "        vertical-align: middle;\n",
              "    }\n",
              "\n",
              "    .dataframe tbody tr th {\n",
              "        vertical-align: top;\n",
              "    }\n",
              "\n",
              "    .dataframe thead th {\n",
              "        text-align: right;\n",
              "    }\n",
              "</style>\n",
              "<table border=\"1\" class=\"dataframe\">\n",
              "  <thead>\n",
              "    <tr style=\"text-align: right;\">\n",
              "      <th></th>\n",
              "      <th>Year</th>\n",
              "      <th>Actor</th>\n",
              "      <th>Director</th>\n",
              "      <th>Box Office</th>\n",
              "      <th>Budget</th>\n",
              "      <th>Bond Actor Salary</th>\n",
              "      <th>profitability</th>\n",
              "      <th>Director/Actor</th>\n",
              "    </tr>\n",
              "    <tr>\n",
              "      <th>Film</th>\n",
              "      <th></th>\n",
              "      <th></th>\n",
              "      <th></th>\n",
              "      <th></th>\n",
              "      <th></th>\n",
              "      <th></th>\n",
              "      <th></th>\n",
              "      <th></th>\n",
              "    </tr>\n",
              "  </thead>\n",
              "  <tbody>\n",
              "    <tr>\n",
              "      <th>Dr. No</th>\n",
              "      <td>1962</td>\n",
              "      <td>Sean Connery</td>\n",
              "      <td>Terence Young</td>\n",
              "      <td>448.8</td>\n",
              "      <td>7.0</td>\n",
              "      <td>0.6</td>\n",
              "      <td>64.0</td>\n",
              "      <td>Terence Young / Sean Connery</td>\n",
              "    </tr>\n",
              "    <tr>\n",
              "      <th>From Russia with Love</th>\n",
              "      <td>1963</td>\n",
              "      <td>Sean Connery</td>\n",
              "      <td>Terence Young</td>\n",
              "      <td>543.8</td>\n",
              "      <td>12.6</td>\n",
              "      <td>1.6</td>\n",
              "      <td>43.0</td>\n",
              "      <td>Terence Young / Sean Connery</td>\n",
              "    </tr>\n",
              "    <tr>\n",
              "      <th>Goldfinger</th>\n",
              "      <td>1964</td>\n",
              "      <td>Sean Connery</td>\n",
              "      <td>Guy Hamilton</td>\n",
              "      <td>820.4</td>\n",
              "      <td>18.6</td>\n",
              "      <td>3.2</td>\n",
              "      <td>44.0</td>\n",
              "      <td>Guy Hamilton / Sean Connery</td>\n",
              "    </tr>\n",
              "    <tr>\n",
              "      <th>Thunderball</th>\n",
              "      <td>1965</td>\n",
              "      <td>Sean Connery</td>\n",
              "      <td>Terence Young</td>\n",
              "      <td>848.1</td>\n",
              "      <td>41.9</td>\n",
              "      <td>4.7</td>\n",
              "      <td>20.0</td>\n",
              "      <td>Terence Young / Sean Connery</td>\n",
              "    </tr>\n",
              "    <tr>\n",
              "      <th>Casino Royale</th>\n",
              "      <td>1967</td>\n",
              "      <td>David Niven</td>\n",
              "      <td>Ken Hughes</td>\n",
              "      <td>315.0</td>\n",
              "      <td>85.0</td>\n",
              "      <td>NaN</td>\n",
              "      <td>4.0</td>\n",
              "      <td>Ken Hughes / David Niven</td>\n",
              "    </tr>\n",
              "  </tbody>\n",
              "</table>\n",
              "</div>"
            ],
            "text/plain": [
              "                       Year  ...                Director/Actor\n",
              "Film                         ...                              \n",
              "Dr. No                 1962  ...  Terence Young / Sean Connery\n",
              "From Russia with Love  1963  ...  Terence Young / Sean Connery\n",
              "Goldfinger             1964  ...   Guy Hamilton / Sean Connery\n",
              "Thunderball            1965  ...  Terence Young / Sean Connery\n",
              "Casino Royale          1967  ...      Ken Hughes / David Niven\n",
              "\n",
              "[5 rows x 8 columns]"
            ]
          },
          "metadata": {
            "tags": []
          },
          "execution_count": 5
        }
      ]
    },
    {
      "cell_type": "markdown",
      "metadata": {
        "id": "45DW4oHV0sQ6"
      },
      "source": [
        "### New field based on logic test\n",
        "---"
      ]
    },
    {
      "cell_type": "markdown",
      "metadata": {
        "id": "tuwTpuri1XB8"
      },
      "source": [
        "Let us now create a new field based on the result of an *if/else* condition using the *np.where()* function,\n",
        "```\n",
        "np.where(condition, value if true, value if false)\n",
        "```\n"
      ]
    },
    {
      "cell_type": "code",
      "metadata": {
        "colab": {
          "base_uri": "https://localhost:8080/",
          "height": 235
        },
        "id": "mNwDUZc103ex",
        "outputId": "94dfd30d-3208-4c26-c27c-3323757f0721"
      },
      "source": [
        "# We create a new field using a condition\n",
        "## on this example, we assign 1 to rows where actor is Daniel Craig (0 if not)\n",
        "df_jamesbond[\"actor_is_daniel_craig\"] = np.where(df_jamesbond[\"Actor\"]=='Daniel Craig',1,0)\n",
        "df_jamesbond[[\"Actor\",\"actor_is_daniel_craig\"]].head()"
      ],
      "execution_count": null,
      "outputs": [
        {
          "output_type": "execute_result",
          "data": {
            "text/html": [
              "<div>\n",
              "<style scoped>\n",
              "    .dataframe tbody tr th:only-of-type {\n",
              "        vertical-align: middle;\n",
              "    }\n",
              "\n",
              "    .dataframe tbody tr th {\n",
              "        vertical-align: top;\n",
              "    }\n",
              "\n",
              "    .dataframe thead th {\n",
              "        text-align: right;\n",
              "    }\n",
              "</style>\n",
              "<table border=\"1\" class=\"dataframe\">\n",
              "  <thead>\n",
              "    <tr style=\"text-align: right;\">\n",
              "      <th></th>\n",
              "      <th>Actor</th>\n",
              "      <th>actor_is_daniel_craig</th>\n",
              "    </tr>\n",
              "    <tr>\n",
              "      <th>Film</th>\n",
              "      <th></th>\n",
              "      <th></th>\n",
              "    </tr>\n",
              "  </thead>\n",
              "  <tbody>\n",
              "    <tr>\n",
              "      <th>Dr. No</th>\n",
              "      <td>Sean Connery</td>\n",
              "      <td>0</td>\n",
              "    </tr>\n",
              "    <tr>\n",
              "      <th>From Russia with Love</th>\n",
              "      <td>Sean Connery</td>\n",
              "      <td>0</td>\n",
              "    </tr>\n",
              "    <tr>\n",
              "      <th>Goldfinger</th>\n",
              "      <td>Sean Connery</td>\n",
              "      <td>0</td>\n",
              "    </tr>\n",
              "    <tr>\n",
              "      <th>Thunderball</th>\n",
              "      <td>Sean Connery</td>\n",
              "      <td>0</td>\n",
              "    </tr>\n",
              "    <tr>\n",
              "      <th>Casino Royale</th>\n",
              "      <td>David Niven</td>\n",
              "      <td>0</td>\n",
              "    </tr>\n",
              "  </tbody>\n",
              "</table>\n",
              "</div>"
            ],
            "text/plain": [
              "                              Actor  actor_is_daniel_craig\n",
              "Film                                                      \n",
              "Dr. No                 Sean Connery                      0\n",
              "From Russia with Love  Sean Connery                      0\n",
              "Goldfinger             Sean Connery                      0\n",
              "Thunderball            Sean Connery                      0\n",
              "Casino Royale           David Niven                      0"
            ]
          },
          "metadata": {
            "tags": []
          },
          "execution_count": 5
        }
      ]
    },
    {
      "cell_type": "markdown",
      "metadata": {
        "id": "NYSnJnPvSeuk"
      },
      "source": [
        "# AGGREGATING DATA"
      ]
    },
    {
      "cell_type": "code",
      "metadata": {
        "colab": {
          "base_uri": "https://localhost:8080/"
        },
        "id": "bretq7DbSrrv",
        "outputId": "34bb2c05-38d8-4190-fc46-01c65cac45e3"
      },
      "source": [
        "# Import df\n",
        "df_jamesbond = pd.read_csv(\"https://data-wizards.s3.amazonaws.com/datasets/jamesbond.csv\",index_col=\"Film\")\n",
        "df_jamesbond.dtypes"
      ],
      "execution_count": null,
      "outputs": [
        {
          "output_type": "execute_result",
          "data": {
            "text/plain": [
              "Year                   int64\n",
              "Actor                 object\n",
              "Director              object\n",
              "Box Office           float64\n",
              "Budget               float64\n",
              "Bond Actor Salary    float64\n",
              "dtype: object"
            ]
          },
          "metadata": {
            "tags": []
          },
          "execution_count": 6
        }
      ]
    },
    {
      "cell_type": "markdown",
      "metadata": {
        "id": "Ms9j1LacSlUr"
      },
      "source": [
        "### Intro to aggregations\n",
        "---"
      ]
    },
    {
      "cell_type": "markdown",
      "metadata": {
        "id": "2MSa1vN4TdZJ"
      },
      "source": [
        "In data analytics, to aggregate data is to perform calculations that summarize data, abstracting insight from information that is raw. \n",
        "\n",
        "We start by performing aggregations to all variables included in dataframe. To do so, we make use of the *agg()* function.\n",
        "\n",
        "To aggregate data, we use at least one *aggregate function* which establish the type of operation performed.\n",
        "\n",
        "```\n",
        "objecto.agg([\"aggregate function\",\"aggregate function\"])\n",
        "```\n",
        "\n",
        "*Aggregate functions*\n",
        "\n",
        "| Function    | Description                     |\n",
        "|-------------|---------------------------------|\n",
        "| count       | Number of non-null observations |\n",
        "| nunique     | Number of unique values         |\n",
        "| sum         | Sum of values                   |\n",
        "| mean        | Mean of values                  |\n",
        "| median      | Arithmetic median of values     |\n",
        "| mode        | Mode                            |\n",
        "| min         | Minimum                         |\n",
        "| max         | Maximum                         |\n",
        "\n",
        "\n"
      ]
    },
    {
      "cell_type": "code",
      "metadata": {
        "colab": {
          "base_uri": "https://localhost:8080/",
          "height": 111
        },
        "id": "CszCBBIOSzAC",
        "outputId": "102a8017-ca01-4950-c6ca-da621afeb15a"
      },
      "source": [
        "# Aggregating all columns using functions min and max\n",
        "df_jamesbond.agg([\"max\",\"min\"])"
      ],
      "execution_count": null,
      "outputs": [
        {
          "output_type": "execute_result",
          "data": {
            "text/html": [
              "<div>\n",
              "<style scoped>\n",
              "    .dataframe tbody tr th:only-of-type {\n",
              "        vertical-align: middle;\n",
              "    }\n",
              "\n",
              "    .dataframe tbody tr th {\n",
              "        vertical-align: top;\n",
              "    }\n",
              "\n",
              "    .dataframe thead th {\n",
              "        text-align: right;\n",
              "    }\n",
              "</style>\n",
              "<table border=\"1\" class=\"dataframe\">\n",
              "  <thead>\n",
              "    <tr style=\"text-align: right;\">\n",
              "      <th></th>\n",
              "      <th>Year</th>\n",
              "      <th>Actor</th>\n",
              "      <th>Director</th>\n",
              "      <th>Box Office</th>\n",
              "      <th>Budget</th>\n",
              "      <th>Bond Actor Salary</th>\n",
              "      <th>profitability</th>\n",
              "      <th>Director/Actor</th>\n",
              "    </tr>\n",
              "  </thead>\n",
              "  <tbody>\n",
              "    <tr>\n",
              "      <th>max</th>\n",
              "      <td>2015</td>\n",
              "      <td>Timothy Dalton</td>\n",
              "      <td>Terence Young</td>\n",
              "      <td>943.5</td>\n",
              "      <td>206.3</td>\n",
              "      <td>17.9</td>\n",
              "      <td>64.0</td>\n",
              "      <td>Terence Young / Sean Connery</td>\n",
              "    </tr>\n",
              "    <tr>\n",
              "      <th>min</th>\n",
              "      <td>1962</td>\n",
              "      <td>Daniel Craig</td>\n",
              "      <td>Guy Hamilton</td>\n",
              "      <td>250.9</td>\n",
              "      <td>7.0</td>\n",
              "      <td>0.6</td>\n",
              "      <td>3.0</td>\n",
              "      <td>Guy Hamilton / Roger Moore</td>\n",
              "    </tr>\n",
              "  </tbody>\n",
              "</table>\n",
              "</div>"
            ],
            "text/plain": [
              "     Year           Actor  ... profitability                Director/Actor\n",
              "max  2015  Timothy Dalton  ...          64.0  Terence Young / Sean Connery\n",
              "min  1962    Daniel Craig  ...           3.0    Guy Hamilton / Roger Moore\n",
              "\n",
              "[2 rows x 8 columns]"
            ]
          },
          "metadata": {
            "tags": []
          },
          "execution_count": 6
        }
      ]
    },
    {
      "cell_type": "code",
      "metadata": {
        "colab": {
          "base_uri": "https://localhost:8080/",
          "height": 297
        },
        "id": "fmo-R9PwTRde",
        "outputId": "324311f9-a712-4515-9570-a27223fc3e57"
      },
      "source": [
        "df_jamesbond.agg([\"max\",\"min\"]).T # the .T attribute allows to pivot the table"
      ],
      "execution_count": null,
      "outputs": [
        {
          "output_type": "execute_result",
          "data": {
            "text/html": [
              "<div>\n",
              "<style scoped>\n",
              "    .dataframe tbody tr th:only-of-type {\n",
              "        vertical-align: middle;\n",
              "    }\n",
              "\n",
              "    .dataframe tbody tr th {\n",
              "        vertical-align: top;\n",
              "    }\n",
              "\n",
              "    .dataframe thead th {\n",
              "        text-align: right;\n",
              "    }\n",
              "</style>\n",
              "<table border=\"1\" class=\"dataframe\">\n",
              "  <thead>\n",
              "    <tr style=\"text-align: right;\">\n",
              "      <th></th>\n",
              "      <th>max</th>\n",
              "      <th>min</th>\n",
              "    </tr>\n",
              "  </thead>\n",
              "  <tbody>\n",
              "    <tr>\n",
              "      <th>Year</th>\n",
              "      <td>2015</td>\n",
              "      <td>1962</td>\n",
              "    </tr>\n",
              "    <tr>\n",
              "      <th>Actor</th>\n",
              "      <td>Timothy Dalton</td>\n",
              "      <td>Daniel Craig</td>\n",
              "    </tr>\n",
              "    <tr>\n",
              "      <th>Director</th>\n",
              "      <td>Terence Young</td>\n",
              "      <td>Guy Hamilton</td>\n",
              "    </tr>\n",
              "    <tr>\n",
              "      <th>Box Office</th>\n",
              "      <td>943.5</td>\n",
              "      <td>250.9</td>\n",
              "    </tr>\n",
              "    <tr>\n",
              "      <th>Budget</th>\n",
              "      <td>206.3</td>\n",
              "      <td>7</td>\n",
              "    </tr>\n",
              "    <tr>\n",
              "      <th>Bond Actor Salary</th>\n",
              "      <td>17.9</td>\n",
              "      <td>0.6</td>\n",
              "    </tr>\n",
              "    <tr>\n",
              "      <th>profitability</th>\n",
              "      <td>64</td>\n",
              "      <td>3</td>\n",
              "    </tr>\n",
              "    <tr>\n",
              "      <th>Director/Actor</th>\n",
              "      <td>Terence Young / Sean Connery</td>\n",
              "      <td>Guy Hamilton / Roger Moore</td>\n",
              "    </tr>\n",
              "  </tbody>\n",
              "</table>\n",
              "</div>"
            ],
            "text/plain": [
              "                                            max                         min\n",
              "Year                                       2015                        1962\n",
              "Actor                            Timothy Dalton                Daniel Craig\n",
              "Director                          Terence Young                Guy Hamilton\n",
              "Box Office                                943.5                       250.9\n",
              "Budget                                    206.3                           7\n",
              "Bond Actor Salary                          17.9                         0.6\n",
              "profitability                                64                           3\n",
              "Director/Actor     Terence Young / Sean Connery  Guy Hamilton / Roger Moore"
            ]
          },
          "metadata": {
            "tags": []
          },
          "execution_count": 7
        }
      ]
    },
    {
      "cell_type": "code",
      "metadata": {
        "colab": {
          "base_uri": "https://localhost:8080/",
          "height": 111
        },
        "id": "FnXYTD-NRTvW",
        "outputId": "782ccb3b-08b4-47f9-ef31-d0c7c93c3d41"
      },
      "source": [
        "# Now let us aggregate all fields using count (counts non NaN observations) and nunique (which counts unique values) \n",
        "df_jamesbond.agg([\"count\",\"nunique\"])"
      ],
      "execution_count": null,
      "outputs": [
        {
          "output_type": "execute_result",
          "data": {
            "text/html": [
              "<div>\n",
              "<style scoped>\n",
              "    .dataframe tbody tr th:only-of-type {\n",
              "        vertical-align: middle;\n",
              "    }\n",
              "\n",
              "    .dataframe tbody tr th {\n",
              "        vertical-align: top;\n",
              "    }\n",
              "\n",
              "    .dataframe thead th {\n",
              "        text-align: right;\n",
              "    }\n",
              "</style>\n",
              "<table border=\"1\" class=\"dataframe\">\n",
              "  <thead>\n",
              "    <tr style=\"text-align: right;\">\n",
              "      <th></th>\n",
              "      <th>Year</th>\n",
              "      <th>Actor</th>\n",
              "      <th>Director</th>\n",
              "      <th>Box Office</th>\n",
              "      <th>Budget</th>\n",
              "      <th>Bond Actor Salary</th>\n",
              "    </tr>\n",
              "  </thead>\n",
              "  <tbody>\n",
              "    <tr>\n",
              "      <th>count</th>\n",
              "      <td>26</td>\n",
              "      <td>26</td>\n",
              "      <td>26</td>\n",
              "      <td>26</td>\n",
              "      <td>26</td>\n",
              "      <td>18</td>\n",
              "    </tr>\n",
              "    <tr>\n",
              "      <th>nunique</th>\n",
              "      <td>24</td>\n",
              "      <td>7</td>\n",
              "      <td>13</td>\n",
              "      <td>25</td>\n",
              "      <td>26</td>\n",
              "      <td>17</td>\n",
              "    </tr>\n",
              "  </tbody>\n",
              "</table>\n",
              "</div>"
            ],
            "text/plain": [
              "         Year  Actor  Director  Box Office  Budget  Bond Actor Salary\n",
              "count      26     26        26          26      26                 18\n",
              "nunique    24      7        13          25      26                 17"
            ]
          },
          "metadata": {
            "tags": []
          },
          "execution_count": 11
        }
      ]
    },
    {
      "cell_type": "markdown",
      "metadata": {
        "id": "kqcsJEsVSdeJ"
      },
      "source": [
        "### Aggregating specific fields\n",
        "---\n",
        "We normally don't want to perform the same opeartion (aggregate function) to *all* fields in a dataframe. We can specify fields to function using a dictionary,\n",
        "\n",
        "```\n",
        "object.agg({\n",
        "  'col1':[\"aggregate function\",\"aggregate function\"]\n",
        "  ,'col2':[\"aggregate function\",\"aggregate function\",\"aggregate function\"]\n",
        "})\n",
        "```"
      ]
    },
    {
      "cell_type": "code",
      "metadata": {
        "colab": {
          "base_uri": "https://localhost:8080/",
          "height": 80
        },
        "id": "oyFGp-dhTWes",
        "outputId": "4c9c743d-cbca-4e22-c699-f726e0787d79"
      },
      "source": [
        "# Let us now aggregate field \"box office\" using functions min, max and mean\n",
        "df_jamesbond.agg({'Box Office':[\"min\",\"max\",\"mean\"]}).T"
      ],
      "execution_count": null,
      "outputs": [
        {
          "output_type": "execute_result",
          "data": {
            "text/html": [
              "<div>\n",
              "<style scoped>\n",
              "    .dataframe tbody tr th:only-of-type {\n",
              "        vertical-align: middle;\n",
              "    }\n",
              "\n",
              "    .dataframe tbody tr th {\n",
              "        vertical-align: top;\n",
              "    }\n",
              "\n",
              "    .dataframe thead th {\n",
              "        text-align: right;\n",
              "    }\n",
              "</style>\n",
              "<table border=\"1\" class=\"dataframe\">\n",
              "  <thead>\n",
              "    <tr style=\"text-align: right;\">\n",
              "      <th></th>\n",
              "      <th>min</th>\n",
              "      <th>max</th>\n",
              "      <th>mean</th>\n",
              "    </tr>\n",
              "  </thead>\n",
              "  <tbody>\n",
              "    <tr>\n",
              "      <th>Box Office</th>\n",
              "      <td>250.9</td>\n",
              "      <td>943.5</td>\n",
              "      <td>491.611538</td>\n",
              "    </tr>\n",
              "  </tbody>\n",
              "</table>\n",
              "</div>"
            ],
            "text/plain": [
              "              min    max        mean\n",
              "Box Office  250.9  943.5  491.611538"
            ]
          },
          "metadata": {
            "tags": []
          },
          "execution_count": 8
        }
      ]
    },
    {
      "cell_type": "code",
      "metadata": {
        "colab": {
          "base_uri": "https://localhost:8080/",
          "height": 173
        },
        "id": "AC15TBzITr1W",
        "outputId": "5a824674-9885-417f-84a9-c0ebab34aa4f"
      },
      "source": [
        "# On a second example, we now aggregate \"Year\" and \"Box Office\"\n",
        "df_jamesbond.agg(\n",
        "    {\n",
        "    'Year':[\"min\",\"max\"]\n",
        "    ,\"Box Office\":[\"min\",\"max\",\"mean\",\"sum\"]\n",
        "    })\n",
        "\n",
        "## note that the output has NaN values for field \"Year\", as we are not performing few operations on this variable"
      ],
      "execution_count": null,
      "outputs": [
        {
          "output_type": "execute_result",
          "data": {
            "text/html": [
              "<div>\n",
              "<style scoped>\n",
              "    .dataframe tbody tr th:only-of-type {\n",
              "        vertical-align: middle;\n",
              "    }\n",
              "\n",
              "    .dataframe tbody tr th {\n",
              "        vertical-align: top;\n",
              "    }\n",
              "\n",
              "    .dataframe thead th {\n",
              "        text-align: right;\n",
              "    }\n",
              "</style>\n",
              "<table border=\"1\" class=\"dataframe\">\n",
              "  <thead>\n",
              "    <tr style=\"text-align: right;\">\n",
              "      <th></th>\n",
              "      <th>Year</th>\n",
              "      <th>Box Office</th>\n",
              "    </tr>\n",
              "  </thead>\n",
              "  <tbody>\n",
              "    <tr>\n",
              "      <th>max</th>\n",
              "      <td>2015.0</td>\n",
              "      <td>943.500000</td>\n",
              "    </tr>\n",
              "    <tr>\n",
              "      <th>mean</th>\n",
              "      <td>NaN</td>\n",
              "      <td>491.611538</td>\n",
              "    </tr>\n",
              "    <tr>\n",
              "      <th>min</th>\n",
              "      <td>1962.0</td>\n",
              "      <td>250.900000</td>\n",
              "    </tr>\n",
              "    <tr>\n",
              "      <th>sum</th>\n",
              "      <td>NaN</td>\n",
              "      <td>12781.900000</td>\n",
              "    </tr>\n",
              "  </tbody>\n",
              "</table>\n",
              "</div>"
            ],
            "text/plain": [
              "        Year    Box Office\n",
              "max   2015.0    943.500000\n",
              "mean     NaN    491.611538\n",
              "min   1962.0    250.900000\n",
              "sum      NaN  12781.900000"
            ]
          },
          "metadata": {
            "tags": []
          },
          "execution_count": 13
        }
      ]
    },
    {
      "cell_type": "markdown",
      "metadata": {
        "id": "UI4vrksWT3p_"
      },
      "source": [
        "### Grouped aggregations\n",
        "---\n",
        "\n",
        "When aggregating data, we frequently want to group observations by one or more variables. The *groupby()* allows to group data into one or more categorical variables.\n",
        "\n",
        "```\n",
        "objecto.groupby([\"categorial variable\",\"categorial variable\"])\n",
        "```\n"
      ]
    },
    {
      "cell_type": "code",
      "metadata": {
        "colab": {
          "base_uri": "https://localhost:8080/",
          "height": 297
        },
        "id": "thhhL8TTS3V6",
        "outputId": "4bdbe573-1a9d-428e-a03d-ca5e13f3274a"
      },
      "source": [
        "# We aggregate by one variable and sort\n",
        "df_jamesbond.groupby(\"Actor\").agg(\n",
        "    {\"Bond Actor Salary\":\"max\"}\n",
        ").sort_values(\"Bond Actor Salary\", ascending=False)"
      ],
      "execution_count": null,
      "outputs": [
        {
          "output_type": "execute_result",
          "data": {
            "text/html": [
              "<div>\n",
              "<style scoped>\n",
              "    .dataframe tbody tr th:only-of-type {\n",
              "        vertical-align: middle;\n",
              "    }\n",
              "\n",
              "    .dataframe tbody tr th {\n",
              "        vertical-align: top;\n",
              "    }\n",
              "\n",
              "    .dataframe thead th {\n",
              "        text-align: right;\n",
              "    }\n",
              "</style>\n",
              "<table border=\"1\" class=\"dataframe\">\n",
              "  <thead>\n",
              "    <tr style=\"text-align: right;\">\n",
              "      <th></th>\n",
              "      <th>Bond Actor Salary</th>\n",
              "    </tr>\n",
              "    <tr>\n",
              "      <th>Actor</th>\n",
              "      <th></th>\n",
              "    </tr>\n",
              "  </thead>\n",
              "  <tbody>\n",
              "    <tr>\n",
              "      <th>Pierce Brosnan</th>\n",
              "      <td>17.9</td>\n",
              "    </tr>\n",
              "    <tr>\n",
              "      <th>Daniel Craig</th>\n",
              "      <td>14.5</td>\n",
              "    </tr>\n",
              "    <tr>\n",
              "      <th>Roger Moore</th>\n",
              "      <td>9.1</td>\n",
              "    </tr>\n",
              "    <tr>\n",
              "      <th>Timothy Dalton</th>\n",
              "      <td>7.9</td>\n",
              "    </tr>\n",
              "    <tr>\n",
              "      <th>Sean Connery</th>\n",
              "      <td>5.8</td>\n",
              "    </tr>\n",
              "    <tr>\n",
              "      <th>George Lazenby</th>\n",
              "      <td>0.6</td>\n",
              "    </tr>\n",
              "    <tr>\n",
              "      <th>David Niven</th>\n",
              "      <td>NaN</td>\n",
              "    </tr>\n",
              "  </tbody>\n",
              "</table>\n",
              "</div>"
            ],
            "text/plain": [
              "                Bond Actor Salary\n",
              "Actor                            \n",
              "Pierce Brosnan               17.9\n",
              "Daniel Craig                 14.5\n",
              "Roger Moore                   9.1\n",
              "Timothy Dalton                7.9\n",
              "Sean Connery                  5.8\n",
              "George Lazenby                0.6\n",
              "David Niven                   NaN"
            ]
          },
          "metadata": {
            "tags": []
          },
          "execution_count": 58
        }
      ]
    },
    {
      "cell_type": "code",
      "metadata": {
        "colab": {
          "base_uri": "https://localhost:8080/",
          "height": 297
        },
        "id": "_RtQoiEGWjRG",
        "outputId": "d95104e3-830f-4eab-fbef-a1e58433a4c3"
      },
      "source": [
        "# We aggregate grouped by one variable\n",
        "df = df_jamesbond.groupby(\"Actor\").agg(\n",
        "    {\"Bond Actor Salary\":\"max\"\n",
        "    ,\"Box Office\":\"mean\"}\n",
        ").sort_values(\"Bond Actor Salary\", ascending=False)\n",
        "\n",
        "## changing variable names\n",
        "df = df.rename(columns={'Bond Actor Salary':'total_bond_salary','Box Office':'total_box_office'})\n",
        "\n",
        "df # we invoke the object"
      ],
      "execution_count": null,
      "outputs": [
        {
          "output_type": "execute_result",
          "data": {
            "text/html": [
              "<div>\n",
              "<style scoped>\n",
              "    .dataframe tbody tr th:only-of-type {\n",
              "        vertical-align: middle;\n",
              "    }\n",
              "\n",
              "    .dataframe tbody tr th {\n",
              "        vertical-align: top;\n",
              "    }\n",
              "\n",
              "    .dataframe thead th {\n",
              "        text-align: right;\n",
              "    }\n",
              "</style>\n",
              "<table border=\"1\" class=\"dataframe\">\n",
              "  <thead>\n",
              "    <tr style=\"text-align: right;\">\n",
              "      <th></th>\n",
              "      <th>total_bond_salary</th>\n",
              "      <th>total_box_office</th>\n",
              "    </tr>\n",
              "    <tr>\n",
              "      <th>Actor</th>\n",
              "      <th></th>\n",
              "      <th></th>\n",
              "    </tr>\n",
              "  </thead>\n",
              "  <tbody>\n",
              "    <tr>\n",
              "      <th>Pierce Brosnan</th>\n",
              "      <td>17.9</td>\n",
              "      <td>471.650000</td>\n",
              "    </tr>\n",
              "    <tr>\n",
              "      <th>Daniel Craig</th>\n",
              "      <td>14.5</td>\n",
              "      <td>691.475000</td>\n",
              "    </tr>\n",
              "    <tr>\n",
              "      <th>Roger Moore</th>\n",
              "      <td>9.1</td>\n",
              "      <td>422.957143</td>\n",
              "    </tr>\n",
              "    <tr>\n",
              "      <th>Timothy Dalton</th>\n",
              "      <td>7.9</td>\n",
              "      <td>282.200000</td>\n",
              "    </tr>\n",
              "    <tr>\n",
              "      <th>Sean Connery</th>\n",
              "      <td>5.8</td>\n",
              "      <td>571.114286</td>\n",
              "    </tr>\n",
              "    <tr>\n",
              "      <th>George Lazenby</th>\n",
              "      <td>0.6</td>\n",
              "      <td>291.500000</td>\n",
              "    </tr>\n",
              "    <tr>\n",
              "      <th>David Niven</th>\n",
              "      <td>NaN</td>\n",
              "      <td>315.000000</td>\n",
              "    </tr>\n",
              "  </tbody>\n",
              "</table>\n",
              "</div>"
            ],
            "text/plain": [
              "                total_bond_salary  total_box_office\n",
              "Actor                                              \n",
              "Pierce Brosnan               17.9        471.650000\n",
              "Daniel Craig                 14.5        691.475000\n",
              "Roger Moore                   9.1        422.957143\n",
              "Timothy Dalton                7.9        282.200000\n",
              "Sean Connery                  5.8        571.114286\n",
              "George Lazenby                0.6        291.500000\n",
              "David Niven                   NaN        315.000000"
            ]
          },
          "metadata": {
            "tags": []
          },
          "execution_count": 7
        }
      ]
    },
    {
      "cell_type": "code",
      "metadata": {
        "colab": {
          "base_uri": "https://localhost:8080/",
          "height": 328
        },
        "id": "BdEFBtnpUBEx",
        "outputId": "d761fbfd-b866-471a-8c74-cde992c60473"
      },
      "source": [
        "# We aggregate multiple metrics by a grouped variable\n",
        "## when sorting, we need to specify a tuple to indicate reference metric and function\n",
        "df_jamesbond.groupby(\"Actor\").agg(\n",
        "    {\n",
        "    \"Bond Actor Salary\":[\"max\",\"sum\",\"mean\",\"size\"]\n",
        "    ,\"Budget\":[\"max\",\"min\"]\n",
        "    }\n",
        ").sort_values((\"Bond Actor Salary\",\"max\"),ascending=False) # we set a tuple as parameter\n"
      ],
      "execution_count": null,
      "outputs": [
        {
          "output_type": "execute_result",
          "data": {
            "text/html": [
              "<div>\n",
              "<style scoped>\n",
              "    .dataframe tbody tr th:only-of-type {\n",
              "        vertical-align: middle;\n",
              "    }\n",
              "\n",
              "    .dataframe tbody tr th {\n",
              "        vertical-align: top;\n",
              "    }\n",
              "\n",
              "    .dataframe thead tr th {\n",
              "        text-align: left;\n",
              "    }\n",
              "\n",
              "    .dataframe thead tr:last-of-type th {\n",
              "        text-align: right;\n",
              "    }\n",
              "</style>\n",
              "<table border=\"1\" class=\"dataframe\">\n",
              "  <thead>\n",
              "    <tr>\n",
              "      <th></th>\n",
              "      <th colspan=\"4\" halign=\"left\">Bond Actor Salary</th>\n",
              "      <th colspan=\"2\" halign=\"left\">Budget</th>\n",
              "    </tr>\n",
              "    <tr>\n",
              "      <th></th>\n",
              "      <th>max</th>\n",
              "      <th>sum</th>\n",
              "      <th>mean</th>\n",
              "      <th>size</th>\n",
              "      <th>max</th>\n",
              "      <th>min</th>\n",
              "    </tr>\n",
              "    <tr>\n",
              "      <th>Actor</th>\n",
              "      <th></th>\n",
              "      <th></th>\n",
              "      <th></th>\n",
              "      <th></th>\n",
              "      <th></th>\n",
              "      <th></th>\n",
              "    </tr>\n",
              "  </thead>\n",
              "  <tbody>\n",
              "    <tr>\n",
              "      <th>Pierce Brosnan</th>\n",
              "      <td>17.9</td>\n",
              "      <td>46.5</td>\n",
              "      <td>11.625000</td>\n",
              "      <td>4</td>\n",
              "      <td>158.3</td>\n",
              "      <td>76.9</td>\n",
              "    </tr>\n",
              "    <tr>\n",
              "      <th>Daniel Craig</th>\n",
              "      <td>14.5</td>\n",
              "      <td>25.9</td>\n",
              "      <td>8.633333</td>\n",
              "      <td>4</td>\n",
              "      <td>206.3</td>\n",
              "      <td>145.3</td>\n",
              "    </tr>\n",
              "    <tr>\n",
              "      <th>Roger Moore</th>\n",
              "      <td>9.1</td>\n",
              "      <td>16.9</td>\n",
              "      <td>8.450000</td>\n",
              "      <td>7</td>\n",
              "      <td>91.5</td>\n",
              "      <td>27.7</td>\n",
              "    </tr>\n",
              "    <tr>\n",
              "      <th>Timothy Dalton</th>\n",
              "      <td>7.9</td>\n",
              "      <td>13.1</td>\n",
              "      <td>6.550000</td>\n",
              "      <td>2</td>\n",
              "      <td>68.8</td>\n",
              "      <td>56.7</td>\n",
              "    </tr>\n",
              "    <tr>\n",
              "      <th>Sean Connery</th>\n",
              "      <td>5.8</td>\n",
              "      <td>20.3</td>\n",
              "      <td>3.383333</td>\n",
              "      <td>7</td>\n",
              "      <td>86.0</td>\n",
              "      <td>7.0</td>\n",
              "    </tr>\n",
              "    <tr>\n",
              "      <th>George Lazenby</th>\n",
              "      <td>0.6</td>\n",
              "      <td>0.6</td>\n",
              "      <td>0.600000</td>\n",
              "      <td>1</td>\n",
              "      <td>37.3</td>\n",
              "      <td>37.3</td>\n",
              "    </tr>\n",
              "    <tr>\n",
              "      <th>David Niven</th>\n",
              "      <td>NaN</td>\n",
              "      <td>0.0</td>\n",
              "      <td>NaN</td>\n",
              "      <td>1</td>\n",
              "      <td>85.0</td>\n",
              "      <td>85.0</td>\n",
              "    </tr>\n",
              "  </tbody>\n",
              "</table>\n",
              "</div>"
            ],
            "text/plain": [
              "               Bond Actor Salary                       Budget       \n",
              "                             max   sum       mean size    max    min\n",
              "Actor                                                               \n",
              "Pierce Brosnan              17.9  46.5  11.625000    4  158.3   76.9\n",
              "Daniel Craig                14.5  25.9   8.633333    4  206.3  145.3\n",
              "Roger Moore                  9.1  16.9   8.450000    7   91.5   27.7\n",
              "Timothy Dalton               7.9  13.1   6.550000    2   68.8   56.7\n",
              "Sean Connery                 5.8  20.3   3.383333    7   86.0    7.0\n",
              "George Lazenby               0.6   0.6   0.600000    1   37.3   37.3\n",
              "David Niven                  NaN   0.0        NaN    1   85.0   85.0"
            ]
          },
          "metadata": {
            "tags": []
          },
          "execution_count": 18
        }
      ]
    },
    {
      "cell_type": "code",
      "metadata": {
        "colab": {
          "base_uri": "https://localhost:8080/",
          "height": 607
        },
        "id": "b5QBWE0rg_hz",
        "outputId": "307aa68e-2a90-48b6-95e0-dc7f6157e879"
      },
      "source": [
        "# We can set more than one variable when grouping data\n",
        "## in that case, observations will be grouped by the combination of those fields\n",
        "df_jamesbond.groupby([\"Director\",\"Actor\"]).agg(\n",
        "    {\"Box Office\":\"median\"}\n",
        ")"
      ],
      "execution_count": null,
      "outputs": [
        {
          "output_type": "execute_result",
          "data": {
            "text/html": [
              "<div>\n",
              "<style scoped>\n",
              "    .dataframe tbody tr th:only-of-type {\n",
              "        vertical-align: middle;\n",
              "    }\n",
              "\n",
              "    .dataframe tbody tr th {\n",
              "        vertical-align: top;\n",
              "    }\n",
              "\n",
              "    .dataframe thead th {\n",
              "        text-align: right;\n",
              "    }\n",
              "</style>\n",
              "<table border=\"1\" class=\"dataframe\">\n",
              "  <thead>\n",
              "    <tr style=\"text-align: right;\">\n",
              "      <th></th>\n",
              "      <th></th>\n",
              "      <th>Box Office</th>\n",
              "    </tr>\n",
              "    <tr>\n",
              "      <th>Director</th>\n",
              "      <th>Actor</th>\n",
              "      <th></th>\n",
              "    </tr>\n",
              "  </thead>\n",
              "  <tbody>\n",
              "    <tr>\n",
              "      <th rowspan=\"2\" valign=\"top\">Guy Hamilton</th>\n",
              "      <th>Roger Moore</th>\n",
              "      <td>397.15</td>\n",
              "    </tr>\n",
              "    <tr>\n",
              "      <th>Sean Connery</th>\n",
              "      <td>631.45</td>\n",
              "    </tr>\n",
              "    <tr>\n",
              "      <th>Irvin Kershner</th>\n",
              "      <th>Sean Connery</th>\n",
              "      <td>380.00</td>\n",
              "    </tr>\n",
              "    <tr>\n",
              "      <th rowspan=\"2\" valign=\"top\">John Glen</th>\n",
              "      <th>Roger Moore</th>\n",
              "      <td>373.80</td>\n",
              "    </tr>\n",
              "    <tr>\n",
              "      <th>Timothy Dalton</th>\n",
              "      <td>282.20</td>\n",
              "    </tr>\n",
              "    <tr>\n",
              "      <th>Ken Hughes</th>\n",
              "      <th>David Niven</th>\n",
              "      <td>315.00</td>\n",
              "    </tr>\n",
              "    <tr>\n",
              "      <th>Lee Tamahori</th>\n",
              "      <th>Pierce Brosnan</th>\n",
              "      <td>465.40</td>\n",
              "    </tr>\n",
              "    <tr>\n",
              "      <th rowspan=\"2\" valign=\"top\">Lewis Gilbert</th>\n",
              "      <th>Roger Moore</th>\n",
              "      <td>534.00</td>\n",
              "    </tr>\n",
              "    <tr>\n",
              "      <th>Sean Connery</th>\n",
              "      <td>514.20</td>\n",
              "    </tr>\n",
              "    <tr>\n",
              "      <th>Marc Forster</th>\n",
              "      <th>Daniel Craig</th>\n",
              "      <td>514.20</td>\n",
              "    </tr>\n",
              "    <tr>\n",
              "      <th rowspan=\"2\" valign=\"top\">Martin Campbell</th>\n",
              "      <th>Daniel Craig</th>\n",
              "      <td>581.50</td>\n",
              "    </tr>\n",
              "    <tr>\n",
              "      <th>Pierce Brosnan</th>\n",
              "      <td>518.50</td>\n",
              "    </tr>\n",
              "    <tr>\n",
              "      <th>Michael Apted</th>\n",
              "      <th>Pierce Brosnan</th>\n",
              "      <td>439.50</td>\n",
              "    </tr>\n",
              "    <tr>\n",
              "      <th>Peter R. Hunt</th>\n",
              "      <th>George Lazenby</th>\n",
              "      <td>291.50</td>\n",
              "    </tr>\n",
              "    <tr>\n",
              "      <th>Roger Spottiswoode</th>\n",
              "      <th>Pierce Brosnan</th>\n",
              "      <td>463.20</td>\n",
              "    </tr>\n",
              "    <tr>\n",
              "      <th>Sam Mendes</th>\n",
              "      <th>Daniel Craig</th>\n",
              "      <td>835.10</td>\n",
              "    </tr>\n",
              "    <tr>\n",
              "      <th>Terence Young</th>\n",
              "      <th>Sean Connery</th>\n",
              "      <td>543.80</td>\n",
              "    </tr>\n",
              "  </tbody>\n",
              "</table>\n",
              "</div>"
            ],
            "text/plain": [
              "                                   Box Office\n",
              "Director           Actor                     \n",
              "Guy Hamilton       Roger Moore         397.15\n",
              "                   Sean Connery        631.45\n",
              "Irvin Kershner     Sean Connery        380.00\n",
              "John Glen          Roger Moore         373.80\n",
              "                   Timothy Dalton      282.20\n",
              "Ken Hughes         David Niven         315.00\n",
              "Lee Tamahori       Pierce Brosnan      465.40\n",
              "Lewis Gilbert      Roger Moore         534.00\n",
              "                   Sean Connery        514.20\n",
              "Marc Forster       Daniel Craig        514.20\n",
              "Martin Campbell    Daniel Craig        581.50\n",
              "                   Pierce Brosnan      518.50\n",
              "Michael Apted      Pierce Brosnan      439.50\n",
              "Peter R. Hunt      George Lazenby      291.50\n",
              "Roger Spottiswoode Pierce Brosnan      463.20\n",
              "Sam Mendes         Daniel Craig        835.10\n",
              "Terence Young      Sean Connery        543.80"
            ]
          },
          "metadata": {
            "tags": []
          },
          "execution_count": 45
        }
      ]
    },
    {
      "cell_type": "markdown",
      "metadata": {
        "id": "SpB4PzDONqDO"
      },
      "source": [
        "# DATA CLEANING\n",
        "In this section, we will review three basic data cleaning operations,\n",
        "*   handling null values\n",
        "*   removing duplicates\n",
        "*   identifying outliers\n"
      ]
    },
    {
      "cell_type": "code",
      "metadata": {
        "id": "IEAZPwOs_oDP"
      },
      "source": [
        "# Import dataframe\n",
        "df_jamesbond = pd.read_csv(\"https://data-wizards.s3.amazonaws.com/datasets/jamesbond.csv\",index_col=\"Film\")"
      ],
      "execution_count": null,
      "outputs": []
    },
    {
      "cell_type": "markdown",
      "metadata": {
        "id": "xH5M7lBjA8_u"
      },
      "source": [
        "### Handling null values\n",
        "---"
      ]
    },
    {
      "cell_type": "markdown",
      "metadata": {
        "id": "GCT9M535ABjf"
      },
      "source": [
        "#### *Identify null values in a DataFrame*\n",
        "\n",
        "The first step is to check if there are indeed null values in the DataFrame and identify on which field.\n",
        "\n",
        "There are two functions that will help us with this,\n",
        "\n",
        "```\n",
        "isna(object)\n",
        "```\n",
        "> *The isna() method test if values are NaN (True) or not (False)*\n",
        "\n",
        "```\n",
        "any(boolean object)\n",
        "```\n",
        "> *The any() method test if at least one of the boolean elements is True*\n",
        "\n",
        "\n",
        "\n",
        "\n",
        "\n"
      ]
    },
    {
      "cell_type": "code",
      "metadata": {
        "id": "AZHgPheMHoem",
        "colab": {
          "base_uri": "https://localhost:8080/",
          "height": 858
        },
        "outputId": "c9feaa9a-ed5e-4bfc-e5b2-e971021bfc9c"
      },
      "source": [
        "# Step 1: apply isna() method to the whole DataFrame to test for NaN values\n",
        "nan_values = df_jamesbond.isna() # we store the result in a new object\n",
        "nan_values # let us visualize the object to see what we are doing"
      ],
      "execution_count": null,
      "outputs": [
        {
          "output_type": "execute_result",
          "data": {
            "text/html": [
              "<div>\n",
              "<style scoped>\n",
              "    .dataframe tbody tr th:only-of-type {\n",
              "        vertical-align: middle;\n",
              "    }\n",
              "\n",
              "    .dataframe tbody tr th {\n",
              "        vertical-align: top;\n",
              "    }\n",
              "\n",
              "    .dataframe thead th {\n",
              "        text-align: right;\n",
              "    }\n",
              "</style>\n",
              "<table border=\"1\" class=\"dataframe\">\n",
              "  <thead>\n",
              "    <tr style=\"text-align: right;\">\n",
              "      <th></th>\n",
              "      <th>Year</th>\n",
              "      <th>Actor</th>\n",
              "      <th>Director</th>\n",
              "      <th>Box Office</th>\n",
              "      <th>Budget</th>\n",
              "      <th>Bond Actor Salary</th>\n",
              "    </tr>\n",
              "    <tr>\n",
              "      <th>Film</th>\n",
              "      <th></th>\n",
              "      <th></th>\n",
              "      <th></th>\n",
              "      <th></th>\n",
              "      <th></th>\n",
              "      <th></th>\n",
              "    </tr>\n",
              "  </thead>\n",
              "  <tbody>\n",
              "    <tr>\n",
              "      <th>Dr. No</th>\n",
              "      <td>False</td>\n",
              "      <td>False</td>\n",
              "      <td>False</td>\n",
              "      <td>False</td>\n",
              "      <td>False</td>\n",
              "      <td>False</td>\n",
              "    </tr>\n",
              "    <tr>\n",
              "      <th>From Russia with Love</th>\n",
              "      <td>False</td>\n",
              "      <td>False</td>\n",
              "      <td>False</td>\n",
              "      <td>False</td>\n",
              "      <td>False</td>\n",
              "      <td>False</td>\n",
              "    </tr>\n",
              "    <tr>\n",
              "      <th>Goldfinger</th>\n",
              "      <td>False</td>\n",
              "      <td>False</td>\n",
              "      <td>False</td>\n",
              "      <td>False</td>\n",
              "      <td>False</td>\n",
              "      <td>False</td>\n",
              "    </tr>\n",
              "    <tr>\n",
              "      <th>Thunderball</th>\n",
              "      <td>False</td>\n",
              "      <td>False</td>\n",
              "      <td>False</td>\n",
              "      <td>False</td>\n",
              "      <td>False</td>\n",
              "      <td>False</td>\n",
              "    </tr>\n",
              "    <tr>\n",
              "      <th>Casino Royale</th>\n",
              "      <td>False</td>\n",
              "      <td>False</td>\n",
              "      <td>False</td>\n",
              "      <td>False</td>\n",
              "      <td>False</td>\n",
              "      <td>True</td>\n",
              "    </tr>\n",
              "    <tr>\n",
              "      <th>You Only Live Twice</th>\n",
              "      <td>False</td>\n",
              "      <td>False</td>\n",
              "      <td>False</td>\n",
              "      <td>False</td>\n",
              "      <td>False</td>\n",
              "      <td>False</td>\n",
              "    </tr>\n",
              "    <tr>\n",
              "      <th>On Her Majesty's Secret Service</th>\n",
              "      <td>False</td>\n",
              "      <td>False</td>\n",
              "      <td>False</td>\n",
              "      <td>False</td>\n",
              "      <td>False</td>\n",
              "      <td>False</td>\n",
              "    </tr>\n",
              "    <tr>\n",
              "      <th>Diamonds Are Forever</th>\n",
              "      <td>False</td>\n",
              "      <td>False</td>\n",
              "      <td>False</td>\n",
              "      <td>False</td>\n",
              "      <td>False</td>\n",
              "      <td>False</td>\n",
              "    </tr>\n",
              "    <tr>\n",
              "      <th>Live and Let Die</th>\n",
              "      <td>False</td>\n",
              "      <td>False</td>\n",
              "      <td>False</td>\n",
              "      <td>False</td>\n",
              "      <td>False</td>\n",
              "      <td>True</td>\n",
              "    </tr>\n",
              "    <tr>\n",
              "      <th>The Man with the Golden Gun</th>\n",
              "      <td>False</td>\n",
              "      <td>False</td>\n",
              "      <td>False</td>\n",
              "      <td>False</td>\n",
              "      <td>False</td>\n",
              "      <td>True</td>\n",
              "    </tr>\n",
              "    <tr>\n",
              "      <th>The Spy Who Loved Me</th>\n",
              "      <td>False</td>\n",
              "      <td>False</td>\n",
              "      <td>False</td>\n",
              "      <td>False</td>\n",
              "      <td>False</td>\n",
              "      <td>True</td>\n",
              "    </tr>\n",
              "    <tr>\n",
              "      <th>Moonraker</th>\n",
              "      <td>False</td>\n",
              "      <td>False</td>\n",
              "      <td>False</td>\n",
              "      <td>False</td>\n",
              "      <td>False</td>\n",
              "      <td>True</td>\n",
              "    </tr>\n",
              "    <tr>\n",
              "      <th>For Your Eyes Only</th>\n",
              "      <td>False</td>\n",
              "      <td>False</td>\n",
              "      <td>False</td>\n",
              "      <td>False</td>\n",
              "      <td>False</td>\n",
              "      <td>True</td>\n",
              "    </tr>\n",
              "    <tr>\n",
              "      <th>Never Say Never Again</th>\n",
              "      <td>False</td>\n",
              "      <td>False</td>\n",
              "      <td>False</td>\n",
              "      <td>False</td>\n",
              "      <td>False</td>\n",
              "      <td>True</td>\n",
              "    </tr>\n",
              "    <tr>\n",
              "      <th>Octopussy</th>\n",
              "      <td>False</td>\n",
              "      <td>False</td>\n",
              "      <td>False</td>\n",
              "      <td>False</td>\n",
              "      <td>False</td>\n",
              "      <td>False</td>\n",
              "    </tr>\n",
              "    <tr>\n",
              "      <th>A View to a Kill</th>\n",
              "      <td>False</td>\n",
              "      <td>False</td>\n",
              "      <td>False</td>\n",
              "      <td>False</td>\n",
              "      <td>False</td>\n",
              "      <td>False</td>\n",
              "    </tr>\n",
              "    <tr>\n",
              "      <th>The Living Daylights</th>\n",
              "      <td>False</td>\n",
              "      <td>False</td>\n",
              "      <td>False</td>\n",
              "      <td>False</td>\n",
              "      <td>False</td>\n",
              "      <td>False</td>\n",
              "    </tr>\n",
              "    <tr>\n",
              "      <th>Licence to Kill</th>\n",
              "      <td>False</td>\n",
              "      <td>False</td>\n",
              "      <td>False</td>\n",
              "      <td>False</td>\n",
              "      <td>False</td>\n",
              "      <td>False</td>\n",
              "    </tr>\n",
              "    <tr>\n",
              "      <th>GoldenEye</th>\n",
              "      <td>False</td>\n",
              "      <td>False</td>\n",
              "      <td>False</td>\n",
              "      <td>False</td>\n",
              "      <td>False</td>\n",
              "      <td>False</td>\n",
              "    </tr>\n",
              "    <tr>\n",
              "      <th>Tomorrow Never Dies</th>\n",
              "      <td>False</td>\n",
              "      <td>False</td>\n",
              "      <td>False</td>\n",
              "      <td>False</td>\n",
              "      <td>False</td>\n",
              "      <td>False</td>\n",
              "    </tr>\n",
              "    <tr>\n",
              "      <th>The World Is Not Enough</th>\n",
              "      <td>False</td>\n",
              "      <td>False</td>\n",
              "      <td>False</td>\n",
              "      <td>False</td>\n",
              "      <td>False</td>\n",
              "      <td>False</td>\n",
              "    </tr>\n",
              "    <tr>\n",
              "      <th>Die Another Day</th>\n",
              "      <td>False</td>\n",
              "      <td>False</td>\n",
              "      <td>False</td>\n",
              "      <td>False</td>\n",
              "      <td>False</td>\n",
              "      <td>False</td>\n",
              "    </tr>\n",
              "    <tr>\n",
              "      <th>Casino Royale</th>\n",
              "      <td>False</td>\n",
              "      <td>False</td>\n",
              "      <td>False</td>\n",
              "      <td>False</td>\n",
              "      <td>False</td>\n",
              "      <td>False</td>\n",
              "    </tr>\n",
              "    <tr>\n",
              "      <th>Quantum of Solace</th>\n",
              "      <td>False</td>\n",
              "      <td>False</td>\n",
              "      <td>False</td>\n",
              "      <td>False</td>\n",
              "      <td>False</td>\n",
              "      <td>False</td>\n",
              "    </tr>\n",
              "    <tr>\n",
              "      <th>Skyfall</th>\n",
              "      <td>False</td>\n",
              "      <td>False</td>\n",
              "      <td>False</td>\n",
              "      <td>False</td>\n",
              "      <td>False</td>\n",
              "      <td>False</td>\n",
              "    </tr>\n",
              "    <tr>\n",
              "      <th>Spectre</th>\n",
              "      <td>False</td>\n",
              "      <td>False</td>\n",
              "      <td>False</td>\n",
              "      <td>False</td>\n",
              "      <td>False</td>\n",
              "      <td>True</td>\n",
              "    </tr>\n",
              "  </tbody>\n",
              "</table>\n",
              "</div>"
            ],
            "text/plain": [
              "                                  Year  Actor  ...  Budget  Bond Actor Salary\n",
              "Film                                           ...                           \n",
              "Dr. No                           False  False  ...   False              False\n",
              "From Russia with Love            False  False  ...   False              False\n",
              "Goldfinger                       False  False  ...   False              False\n",
              "Thunderball                      False  False  ...   False              False\n",
              "Casino Royale                    False  False  ...   False               True\n",
              "You Only Live Twice              False  False  ...   False              False\n",
              "On Her Majesty's Secret Service  False  False  ...   False              False\n",
              "Diamonds Are Forever             False  False  ...   False              False\n",
              "Live and Let Die                 False  False  ...   False               True\n",
              "The Man with the Golden Gun      False  False  ...   False               True\n",
              "The Spy Who Loved Me             False  False  ...   False               True\n",
              "Moonraker                        False  False  ...   False               True\n",
              "For Your Eyes Only               False  False  ...   False               True\n",
              "Never Say Never Again            False  False  ...   False               True\n",
              "Octopussy                        False  False  ...   False              False\n",
              "A View to a Kill                 False  False  ...   False              False\n",
              "The Living Daylights             False  False  ...   False              False\n",
              "Licence to Kill                  False  False  ...   False              False\n",
              "GoldenEye                        False  False  ...   False              False\n",
              "Tomorrow Never Dies              False  False  ...   False              False\n",
              "The World Is Not Enough          False  False  ...   False              False\n",
              "Die Another Day                  False  False  ...   False              False\n",
              "Casino Royale                    False  False  ...   False              False\n",
              "Quantum of Solace                False  False  ...   False              False\n",
              "Skyfall                          False  False  ...   False              False\n",
              "Spectre                          False  False  ...   False               True\n",
              "\n",
              "[26 rows x 6 columns]"
            ]
          },
          "metadata": {
            "tags": []
          },
          "execution_count": 3
        }
      ]
    },
    {
      "cell_type": "code",
      "metadata": {
        "colab": {
          "base_uri": "https://localhost:8080/"
        },
        "id": "jq9Nf1NiCm8w",
        "outputId": "1682c0cf-5855-468b-cf92-930f2931b333"
      },
      "source": [
        "# Step 2: test if at least one value for each column is True (null)\n",
        "nan_columns = nan_values.any() # we apply any() to nan_values and store that in a new object\n",
        "nan_columns # let us visualize what we built\n",
        "# note: once visualizing the result, we observe that there are NaN values for field \"Bond Actor Salary\""
      ],
      "execution_count": null,
      "outputs": [
        {
          "output_type": "execute_result",
          "data": {
            "text/plain": [
              "Year                 False\n",
              "Actor                False\n",
              "Director             False\n",
              "Box Office           False\n",
              "Budget               False\n",
              "Bond Actor Salary     True\n",
              "dtype: bool"
            ]
          },
          "metadata": {
            "tags": []
          },
          "execution_count": 4
        }
      ]
    },
    {
      "cell_type": "markdown",
      "metadata": {
        "id": "nJF-N6xhEC7_"
      },
      "source": [
        "#### *Operate null values in DataFrame*\n",
        "Once identifying null values, we can decide whether to, \n",
        "*   remove full rows with at least one missing value; or \n",
        "*   fill null values \n",
        "\n"
      ]
    },
    {
      "cell_type": "code",
      "metadata": {
        "id": "5w2AIbjLJ__P",
        "colab": {
          "base_uri": "https://localhost:8080/",
          "height": 618
        },
        "outputId": "ca44c4a4-9e32-4bb1-974d-b9d0d0abebb7"
      },
      "source": [
        "# We identified NA values in column \"Bond Actor Salary\", we will now proceed to omit those rows\n",
        "cond = df_jamesbond[\"Bond Actor Salary\"].isnull()\n",
        "df_jamesbond[-cond] # we negate condition to omit those rows that are NA for column \"Bond Actor Salary\""
      ],
      "execution_count": null,
      "outputs": [
        {
          "output_type": "execute_result",
          "data": {
            "text/html": [
              "<div>\n",
              "<style scoped>\n",
              "    .dataframe tbody tr th:only-of-type {\n",
              "        vertical-align: middle;\n",
              "    }\n",
              "\n",
              "    .dataframe tbody tr th {\n",
              "        vertical-align: top;\n",
              "    }\n",
              "\n",
              "    .dataframe thead th {\n",
              "        text-align: right;\n",
              "    }\n",
              "</style>\n",
              "<table border=\"1\" class=\"dataframe\">\n",
              "  <thead>\n",
              "    <tr style=\"text-align: right;\">\n",
              "      <th></th>\n",
              "      <th>Year</th>\n",
              "      <th>Actor</th>\n",
              "      <th>Director</th>\n",
              "      <th>Box Office</th>\n",
              "      <th>Budget</th>\n",
              "      <th>Bond Actor Salary</th>\n",
              "    </tr>\n",
              "    <tr>\n",
              "      <th>Film</th>\n",
              "      <th></th>\n",
              "      <th></th>\n",
              "      <th></th>\n",
              "      <th></th>\n",
              "      <th></th>\n",
              "      <th></th>\n",
              "    </tr>\n",
              "  </thead>\n",
              "  <tbody>\n",
              "    <tr>\n",
              "      <th>Dr. No</th>\n",
              "      <td>1962</td>\n",
              "      <td>Sean Connery</td>\n",
              "      <td>Terence Young</td>\n",
              "      <td>448.8</td>\n",
              "      <td>7.0</td>\n",
              "      <td>0.6</td>\n",
              "    </tr>\n",
              "    <tr>\n",
              "      <th>From Russia with Love</th>\n",
              "      <td>1963</td>\n",
              "      <td>Sean Connery</td>\n",
              "      <td>Terence Young</td>\n",
              "      <td>543.8</td>\n",
              "      <td>12.6</td>\n",
              "      <td>1.6</td>\n",
              "    </tr>\n",
              "    <tr>\n",
              "      <th>Goldfinger</th>\n",
              "      <td>1964</td>\n",
              "      <td>Sean Connery</td>\n",
              "      <td>Guy Hamilton</td>\n",
              "      <td>820.4</td>\n",
              "      <td>18.6</td>\n",
              "      <td>3.2</td>\n",
              "    </tr>\n",
              "    <tr>\n",
              "      <th>Thunderball</th>\n",
              "      <td>1965</td>\n",
              "      <td>Sean Connery</td>\n",
              "      <td>Terence Young</td>\n",
              "      <td>848.1</td>\n",
              "      <td>41.9</td>\n",
              "      <td>4.7</td>\n",
              "    </tr>\n",
              "    <tr>\n",
              "      <th>You Only Live Twice</th>\n",
              "      <td>1967</td>\n",
              "      <td>Sean Connery</td>\n",
              "      <td>Lewis Gilbert</td>\n",
              "      <td>514.2</td>\n",
              "      <td>59.9</td>\n",
              "      <td>4.4</td>\n",
              "    </tr>\n",
              "    <tr>\n",
              "      <th>On Her Majesty's Secret Service</th>\n",
              "      <td>1969</td>\n",
              "      <td>George Lazenby</td>\n",
              "      <td>Peter R. Hunt</td>\n",
              "      <td>291.5</td>\n",
              "      <td>37.3</td>\n",
              "      <td>0.6</td>\n",
              "    </tr>\n",
              "    <tr>\n",
              "      <th>Diamonds Are Forever</th>\n",
              "      <td>1971</td>\n",
              "      <td>Sean Connery</td>\n",
              "      <td>Guy Hamilton</td>\n",
              "      <td>442.5</td>\n",
              "      <td>34.7</td>\n",
              "      <td>5.8</td>\n",
              "    </tr>\n",
              "    <tr>\n",
              "      <th>Octopussy</th>\n",
              "      <td>1983</td>\n",
              "      <td>Roger Moore</td>\n",
              "      <td>John Glen</td>\n",
              "      <td>373.8</td>\n",
              "      <td>53.9</td>\n",
              "      <td>7.8</td>\n",
              "    </tr>\n",
              "    <tr>\n",
              "      <th>A View to a Kill</th>\n",
              "      <td>1985</td>\n",
              "      <td>Roger Moore</td>\n",
              "      <td>John Glen</td>\n",
              "      <td>275.2</td>\n",
              "      <td>54.5</td>\n",
              "      <td>9.1</td>\n",
              "    </tr>\n",
              "    <tr>\n",
              "      <th>The Living Daylights</th>\n",
              "      <td>1987</td>\n",
              "      <td>Timothy Dalton</td>\n",
              "      <td>John Glen</td>\n",
              "      <td>313.5</td>\n",
              "      <td>68.8</td>\n",
              "      <td>5.2</td>\n",
              "    </tr>\n",
              "    <tr>\n",
              "      <th>Licence to Kill</th>\n",
              "      <td>1989</td>\n",
              "      <td>Timothy Dalton</td>\n",
              "      <td>John Glen</td>\n",
              "      <td>250.9</td>\n",
              "      <td>56.7</td>\n",
              "      <td>7.9</td>\n",
              "    </tr>\n",
              "    <tr>\n",
              "      <th>GoldenEye</th>\n",
              "      <td>1995</td>\n",
              "      <td>Pierce Brosnan</td>\n",
              "      <td>Martin Campbell</td>\n",
              "      <td>518.5</td>\n",
              "      <td>76.9</td>\n",
              "      <td>5.1</td>\n",
              "    </tr>\n",
              "    <tr>\n",
              "      <th>Tomorrow Never Dies</th>\n",
              "      <td>1997</td>\n",
              "      <td>Pierce Brosnan</td>\n",
              "      <td>Roger Spottiswoode</td>\n",
              "      <td>463.2</td>\n",
              "      <td>133.9</td>\n",
              "      <td>10.0</td>\n",
              "    </tr>\n",
              "    <tr>\n",
              "      <th>The World Is Not Enough</th>\n",
              "      <td>1999</td>\n",
              "      <td>Pierce Brosnan</td>\n",
              "      <td>Michael Apted</td>\n",
              "      <td>439.5</td>\n",
              "      <td>158.3</td>\n",
              "      <td>13.5</td>\n",
              "    </tr>\n",
              "    <tr>\n",
              "      <th>Die Another Day</th>\n",
              "      <td>2002</td>\n",
              "      <td>Pierce Brosnan</td>\n",
              "      <td>Lee Tamahori</td>\n",
              "      <td>465.4</td>\n",
              "      <td>154.2</td>\n",
              "      <td>17.9</td>\n",
              "    </tr>\n",
              "    <tr>\n",
              "      <th>Casino Royale</th>\n",
              "      <td>2006</td>\n",
              "      <td>Daniel Craig</td>\n",
              "      <td>Martin Campbell</td>\n",
              "      <td>581.5</td>\n",
              "      <td>145.3</td>\n",
              "      <td>3.3</td>\n",
              "    </tr>\n",
              "    <tr>\n",
              "      <th>Quantum of Solace</th>\n",
              "      <td>2008</td>\n",
              "      <td>Daniel Craig</td>\n",
              "      <td>Marc Forster</td>\n",
              "      <td>514.2</td>\n",
              "      <td>181.4</td>\n",
              "      <td>8.1</td>\n",
              "    </tr>\n",
              "    <tr>\n",
              "      <th>Skyfall</th>\n",
              "      <td>2012</td>\n",
              "      <td>Daniel Craig</td>\n",
              "      <td>Sam Mendes</td>\n",
              "      <td>943.5</td>\n",
              "      <td>170.2</td>\n",
              "      <td>14.5</td>\n",
              "    </tr>\n",
              "  </tbody>\n",
              "</table>\n",
              "</div>"
            ],
            "text/plain": [
              "                                 Year  ... Bond Actor Salary\n",
              "Film                                   ...                  \n",
              "Dr. No                           1962  ...               0.6\n",
              "From Russia with Love            1963  ...               1.6\n",
              "Goldfinger                       1964  ...               3.2\n",
              "Thunderball                      1965  ...               4.7\n",
              "You Only Live Twice              1967  ...               4.4\n",
              "On Her Majesty's Secret Service  1969  ...               0.6\n",
              "Diamonds Are Forever             1971  ...               5.8\n",
              "Octopussy                        1983  ...               7.8\n",
              "A View to a Kill                 1985  ...               9.1\n",
              "The Living Daylights             1987  ...               5.2\n",
              "Licence to Kill                  1989  ...               7.9\n",
              "GoldenEye                        1995  ...               5.1\n",
              "Tomorrow Never Dies              1997  ...              10.0\n",
              "The World Is Not Enough          1999  ...              13.5\n",
              "Die Another Day                  2002  ...              17.9\n",
              "Casino Royale                    2006  ...               3.3\n",
              "Quantum of Solace                2008  ...               8.1\n",
              "Skyfall                          2012  ...              14.5\n",
              "\n",
              "[18 rows x 6 columns]"
            ]
          },
          "metadata": {
            "tags": []
          },
          "execution_count": 5
        }
      ]
    },
    {
      "cell_type": "code",
      "metadata": {
        "id": "rlOzIUezCx2P"
      },
      "source": [
        "# Alternatively, we can opt to fill NAs\n",
        "# we will proceed to fill NAs with the mean value for the variable\n",
        "median_bond_salary = df_jamesbond[\"Bond Actor Salary\"].mean() # we calculate the mean\n",
        "df_jamesbond[\"Bond Actor Salary\"]=df_jamesbond[\"Bond Actor Salary\"].fillna(median_bond_salary) # we replace null values\n",
        "\n",
        "# Note: in some other cases, we might just want to replace null values by 0 -> .fillna(0)"
      ],
      "execution_count": null,
      "outputs": []
    },
    {
      "cell_type": "markdown",
      "metadata": {
        "id": "Z0CHb5QkBvP_"
      },
      "source": [
        "### Removing duplicates\n",
        "---"
      ]
    },
    {
      "cell_type": "code",
      "metadata": {
        "id": "EYW7X5sUJO6a"
      },
      "source": [
        "# Import dataframe\n",
        "df_duplicates = pd.read_csv(\"https://data-wizards.s3.amazonaws.com/datasets/renfe_estaciones_duplicates.csv\")"
      ],
      "execution_count": null,
      "outputs": []
    },
    {
      "cell_type": "markdown",
      "metadata": {
        "id": "Yxd8kJwl_ziY"
      },
      "source": [
        "#### *Identify duplicated values*\n",
        "\n",
        "Key functions in this section,\n",
        "```\n",
        "object.duplicated()\n",
        "```\n",
        "> *The duplicated() method test if a row is an exact duplicate*\n",
        "\n"
      ]
    },
    {
      "cell_type": "code",
      "metadata": {
        "colab": {
          "base_uri": "https://localhost:8080/"
        },
        "id": "RTjhBsgA-oXj",
        "outputId": "e30e37e0-8cb2-4f1c-e9fe-cdf8fcaefac5"
      },
      "source": [
        "len(df_duplicates) # check number of rows"
      ],
      "execution_count": null,
      "outputs": [
        {
          "output_type": "execute_result",
          "data": {
            "text/plain": [
              "630"
            ]
          },
          "metadata": {
            "tags": []
          },
          "execution_count": 8
        }
      ]
    },
    {
      "cell_type": "code",
      "metadata": {
        "colab": {
          "base_uri": "https://localhost:8080/",
          "height": 573
        },
        "id": "R6Cv2FdY_OQ-",
        "outputId": "9f932004-0474-49ce-da96-43e51c9eefd6"
      },
      "source": [
        "# identify duplicated rows\n",
        "cond = df_duplicates.duplicated()\n",
        "df_duplicates[cond]"
      ],
      "execution_count": null,
      "outputs": [
        {
          "output_type": "execute_result",
          "data": {
            "text/html": [
              "<div>\n",
              "<style scoped>\n",
              "    .dataframe tbody tr th:only-of-type {\n",
              "        vertical-align: middle;\n",
              "    }\n",
              "\n",
              "    .dataframe tbody tr th {\n",
              "        vertical-align: top;\n",
              "    }\n",
              "\n",
              "    .dataframe thead th {\n",
              "        text-align: right;\n",
              "    }\n",
              "</style>\n",
              "<table border=\"1\" class=\"dataframe\">\n",
              "  <thead>\n",
              "    <tr style=\"text-align: right;\">\n",
              "      <th></th>\n",
              "      <th>CODIGO</th>\n",
              "      <th>DESCRIPCION</th>\n",
              "      <th>LATITUD</th>\n",
              "      <th>LONGITUD</th>\n",
              "      <th>DIRECCION</th>\n",
              "      <th>C.P.</th>\n",
              "      <th>POBLACION</th>\n",
              "      <th>PROVINCIA</th>\n",
              "      <th>PAIS</th>\n",
              "    </tr>\n",
              "  </thead>\n",
              "  <tbody>\n",
              "    <tr>\n",
              "      <th>16</th>\n",
              "      <td>5000</td>\n",
              "      <td>GRANADA</td>\n",
              "      <td>37.184036</td>\n",
              "      <td>-3.609036</td>\n",
              "      <td>AVENIDA DE LOS ANDALUCES. S/N</td>\n",
              "      <td>18014.0</td>\n",
              "      <td>Granada</td>\n",
              "      <td>Granada</td>\n",
              "      <td>España</td>\n",
              "    </tr>\n",
              "    <tr>\n",
              "      <th>24</th>\n",
              "      <td>10204</td>\n",
              "      <td>ZARZALEJO</td>\n",
              "      <td>40.538817</td>\n",
              "      <td>-4.158073</td>\n",
              "      <td>CALLE DEL FERROCARRIL. S/N</td>\n",
              "      <td>28293.0</td>\n",
              "      <td>Zarzalejo</td>\n",
              "      <td>Madrid</td>\n",
              "      <td>España</td>\n",
              "    </tr>\n",
              "    <tr>\n",
              "      <th>57</th>\n",
              "      <td>11208</td>\n",
              "      <td>VITORIA/GASTEIZ</td>\n",
              "      <td>42.841528</td>\n",
              "      <td>-2.672665</td>\n",
              "      <td>PLAZUELA DE LA ESTACION. 1</td>\n",
              "      <td>1005.0</td>\n",
              "      <td>Vitoria-Gasteiz</td>\n",
              "      <td>Araba/Álava</td>\n",
              "      <td>España</td>\n",
              "    </tr>\n",
              "    <tr>\n",
              "      <th>74</th>\n",
              "      <td>11203</td>\n",
              "      <td>MANZANOS</td>\n",
              "      <td>42.742875</td>\n",
              "      <td>-2.867530</td>\n",
              "      <td>RIO ZADORRA KALEA. S/N</td>\n",
              "      <td>1220.0</td>\n",
              "      <td>Ribera Baja/Erribera Beitia</td>\n",
              "      <td>Araba/Álava</td>\n",
              "      <td>España</td>\n",
              "    </tr>\n",
              "    <tr>\n",
              "      <th>90</th>\n",
              "      <td>15006</td>\n",
              "      <td>CISNEROS</td>\n",
              "      <td>42.191068</td>\n",
              "      <td>-4.850206</td>\n",
              "      <td>CARRETERA P-932 - ESTACION FERROCARRIL. S/N</td>\n",
              "      <td>34320.0</td>\n",
              "      <td>Cisneros</td>\n",
              "      <td>Palencia</td>\n",
              "      <td>España</td>\n",
              "    </tr>\n",
              "    <tr>\n",
              "      <th>181</th>\n",
              "      <td>23004</td>\n",
              "      <td>PONTEVEDRA</td>\n",
              "      <td>42.421640</td>\n",
              "      <td>-8.635830</td>\n",
              "      <td>AVENIDA DE LA ESTACION. S/N</td>\n",
              "      <td>36003.0</td>\n",
              "      <td>Pontevedra</td>\n",
              "      <td>Pontevedra</td>\n",
              "      <td>España</td>\n",
              "    </tr>\n",
              "    <tr>\n",
              "      <th>222</th>\n",
              "      <td>31205</td>\n",
              "      <td>A GUDIÑA</td>\n",
              "      <td>42.060690</td>\n",
              "      <td>-7.132436</td>\n",
              "      <td>CARRETERA N-525 - BEATO SEBASTIAN APARICIO. S/N</td>\n",
              "      <td>32540.0</td>\n",
              "      <td>Gudiña. A</td>\n",
              "      <td>Ourense</td>\n",
              "      <td>España</td>\n",
              "    </tr>\n",
              "    <tr>\n",
              "      <th>227</th>\n",
              "      <td>34005</td>\n",
              "      <td>SAN PEDRO DEL ARROYO</td>\n",
              "      <td>40.803838</td>\n",
              "      <td>-4.871408</td>\n",
              "      <td>CALLE ESTACION FERROCARRIL. S/N</td>\n",
              "      <td>5350.0</td>\n",
              "      <td>San Pedro del Arroyo</td>\n",
              "      <td>Ávila</td>\n",
              "      <td>España</td>\n",
              "    </tr>\n",
              "    <tr>\n",
              "      <th>242</th>\n",
              "      <td>35206</td>\n",
              "      <td>NAVALMORAL DE LA MATA</td>\n",
              "      <td>39.894854</td>\n",
              "      <td>-5.545566</td>\n",
              "      <td>PLAZA ESTACION FERROCARRIL. 1</td>\n",
              "      <td>10300.0</td>\n",
              "      <td>Navalmoral de la Mata</td>\n",
              "      <td>Cáceres</td>\n",
              "      <td>España</td>\n",
              "    </tr>\n",
              "    <tr>\n",
              "      <th>253</th>\n",
              "      <td>37300</td>\n",
              "      <td>PUERTOLLANO</td>\n",
              "      <td>38.691411</td>\n",
              "      <td>-4.111611</td>\n",
              "      <td>CALLE MUELLE. S/N</td>\n",
              "      <td>13500.0</td>\n",
              "      <td>Puertollano</td>\n",
              "      <td>Ciudad Real</td>\n",
              "      <td>España</td>\n",
              "    </tr>\n",
              "  </tbody>\n",
              "</table>\n",
              "</div>"
            ],
            "text/plain": [
              "     CODIGO            DESCRIPCION  ...    PROVINCIA    PAIS\n",
              "16     5000                GRANADA  ...      Granada  España\n",
              "24    10204              ZARZALEJO  ...       Madrid  España\n",
              "57    11208        VITORIA/GASTEIZ  ...  Araba/Álava  España\n",
              "74    11203               MANZANOS  ...  Araba/Álava  España\n",
              "90    15006               CISNEROS  ...     Palencia  España\n",
              "181   23004             PONTEVEDRA  ...   Pontevedra  España\n",
              "222   31205               A GUDIÑA  ...      Ourense  España\n",
              "227   34005   SAN PEDRO DEL ARROYO  ...        Ávila  España\n",
              "242   35206  NAVALMORAL DE LA MATA  ...      Cáceres  España\n",
              "253   37300            PUERTOLLANO  ...  Ciudad Real  España\n",
              "\n",
              "[10 rows x 9 columns]"
            ]
          },
          "metadata": {
            "tags": []
          },
          "execution_count": 9
        }
      ]
    },
    {
      "cell_type": "markdown",
      "metadata": {
        "id": "DECye02wBr-Y"
      },
      "source": [
        "#### *Remove duplicated values*\n",
        "\n",
        "Key functions in this section,\n",
        "```\n",
        "object.drop_duplicates()\n",
        "```\n",
        "> *The drop_duplicates() method removes duplicated rows*"
      ]
    },
    {
      "cell_type": "code",
      "metadata": {
        "id": "sgWTvOHz_c58"
      },
      "source": [
        "df_clean = df_duplicates.drop_duplicates() # we remove duplicates and store the output in a new object"
      ],
      "execution_count": null,
      "outputs": []
    },
    {
      "cell_type": "code",
      "metadata": {
        "colab": {
          "base_uri": "https://localhost:8080/"
        },
        "id": "_nYpC4Ou_nxR",
        "outputId": "8d525ea1-d12b-4605-89dc-a440cf45e529"
      },
      "source": [
        "len(df_clean) # we check again number of rows to confirm new number"
      ],
      "execution_count": null,
      "outputs": [
        {
          "output_type": "execute_result",
          "data": {
            "text/plain": [
              "620"
            ]
          },
          "metadata": {
            "tags": []
          },
          "execution_count": 11
        }
      ]
    },
    {
      "cell_type": "markdown",
      "metadata": {
        "id": "CuT7GRFk_E_t"
      },
      "source": [
        "### Identifying outliers\n"
      ]
    },
    {
      "cell_type": "code",
      "metadata": {
        "id": "gZw0ecGzJ_5H"
      },
      "source": [
        "# Import dataframe\n",
        "df_jamesbond = pd.read_csv(\"https://data-wizards.s3.amazonaws.com/datasets/jamesbond.csv\",index_col=\"Film\")"
      ],
      "execution_count": null,
      "outputs": []
    },
    {
      "cell_type": "markdown",
      "metadata": {
        "id": "Zgxb4aOmqgU9"
      },
      "source": [
        "It is important to identify outliers in numerical fields. Depending on the case, we might only want to check for possible data entry errors or to remove outliers (even when those are not errors).\n",
        "\n",
        "There are different way to identify outliers in a DataFrame, in this course we will introduce one of the simplest: *normalizing the variable to Z*. For this method, we will assume that the variable is normally distributed. A z score higher than 3 or lower than -3 would indicate that the value is an outlier.\n",
        "\n",
        "\n",
        "Key functions in this section,\n",
        "\n",
        "```\n",
        "stats.zscore(column, nan_policy='omit')\n",
        "```\n",
        "> *The szcore() method normalizes (converts) a numerical variable into Z (normal distribution)*\n",
        "\n",
        "\n",
        "\n"
      ]
    },
    {
      "cell_type": "code",
      "metadata": {
        "id": "WCGTGpL7pZy2"
      },
      "source": [
        "# We normalize variable Box Office to check outliers\n",
        "df_jamesbond[\"z_Box Office\"] = stats.zscore(df_jamesbond[\"Box Office\"],nan_policy='omit').round(2)"
      ],
      "execution_count": null,
      "outputs": []
    },
    {
      "cell_type": "code",
      "metadata": {
        "colab": {
          "base_uri": "https://localhost:8080/",
          "height": 858
        },
        "id": "ToC8YXo4J-Fz",
        "outputId": "4acf39d9-cae4-4ebd-eded-f4bb82ca8572"
      },
      "source": [
        "# We select variable and its normalized version and sort\n",
        "df_jamesbond[[\"Box Office\",\"z_Box Office\"]].sort_values(\"z_Box Office\",ascending=False)\n",
        "# Note: we do not find any outliers, as there are not Z score values higher than 3 or lower than -3"
      ],
      "execution_count": null,
      "outputs": [
        {
          "output_type": "execute_result",
          "data": {
            "text/html": [
              "<div>\n",
              "<style scoped>\n",
              "    .dataframe tbody tr th:only-of-type {\n",
              "        vertical-align: middle;\n",
              "    }\n",
              "\n",
              "    .dataframe tbody tr th {\n",
              "        vertical-align: top;\n",
              "    }\n",
              "\n",
              "    .dataframe thead th {\n",
              "        text-align: right;\n",
              "    }\n",
              "</style>\n",
              "<table border=\"1\" class=\"dataframe\">\n",
              "  <thead>\n",
              "    <tr style=\"text-align: right;\">\n",
              "      <th></th>\n",
              "      <th>Box Office</th>\n",
              "      <th>z_Box Office</th>\n",
              "    </tr>\n",
              "    <tr>\n",
              "      <th>Film</th>\n",
              "      <th></th>\n",
              "      <th></th>\n",
              "    </tr>\n",
              "  </thead>\n",
              "  <tbody>\n",
              "    <tr>\n",
              "      <th>Skyfall</th>\n",
              "      <td>943.5</td>\n",
              "      <td>2.61</td>\n",
              "    </tr>\n",
              "    <tr>\n",
              "      <th>Thunderball</th>\n",
              "      <td>848.1</td>\n",
              "      <td>2.06</td>\n",
              "    </tr>\n",
              "    <tr>\n",
              "      <th>Goldfinger</th>\n",
              "      <td>820.4</td>\n",
              "      <td>1.90</td>\n",
              "    </tr>\n",
              "    <tr>\n",
              "      <th>Spectre</th>\n",
              "      <td>726.7</td>\n",
              "      <td>1.36</td>\n",
              "    </tr>\n",
              "    <tr>\n",
              "      <th>Casino Royale</th>\n",
              "      <td>581.5</td>\n",
              "      <td>0.52</td>\n",
              "    </tr>\n",
              "    <tr>\n",
              "      <th>From Russia with Love</th>\n",
              "      <td>543.8</td>\n",
              "      <td>0.30</td>\n",
              "    </tr>\n",
              "    <tr>\n",
              "      <th>Moonraker</th>\n",
              "      <td>535.0</td>\n",
              "      <td>0.25</td>\n",
              "    </tr>\n",
              "    <tr>\n",
              "      <th>The Spy Who Loved Me</th>\n",
              "      <td>533.0</td>\n",
              "      <td>0.24</td>\n",
              "    </tr>\n",
              "    <tr>\n",
              "      <th>GoldenEye</th>\n",
              "      <td>518.5</td>\n",
              "      <td>0.16</td>\n",
              "    </tr>\n",
              "    <tr>\n",
              "      <th>You Only Live Twice</th>\n",
              "      <td>514.2</td>\n",
              "      <td>0.13</td>\n",
              "    </tr>\n",
              "    <tr>\n",
              "      <th>Quantum of Solace</th>\n",
              "      <td>514.2</td>\n",
              "      <td>0.13</td>\n",
              "    </tr>\n",
              "    <tr>\n",
              "      <th>Die Another Day</th>\n",
              "      <td>465.4</td>\n",
              "      <td>-0.15</td>\n",
              "    </tr>\n",
              "    <tr>\n",
              "      <th>Tomorrow Never Dies</th>\n",
              "      <td>463.2</td>\n",
              "      <td>-0.16</td>\n",
              "    </tr>\n",
              "    <tr>\n",
              "      <th>Live and Let Die</th>\n",
              "      <td>460.3</td>\n",
              "      <td>-0.18</td>\n",
              "    </tr>\n",
              "    <tr>\n",
              "      <th>For Your Eyes Only</th>\n",
              "      <td>449.4</td>\n",
              "      <td>-0.24</td>\n",
              "    </tr>\n",
              "    <tr>\n",
              "      <th>Dr. No</th>\n",
              "      <td>448.8</td>\n",
              "      <td>-0.25</td>\n",
              "    </tr>\n",
              "    <tr>\n",
              "      <th>Diamonds Are Forever</th>\n",
              "      <td>442.5</td>\n",
              "      <td>-0.28</td>\n",
              "    </tr>\n",
              "    <tr>\n",
              "      <th>The World Is Not Enough</th>\n",
              "      <td>439.5</td>\n",
              "      <td>-0.30</td>\n",
              "    </tr>\n",
              "    <tr>\n",
              "      <th>Never Say Never Again</th>\n",
              "      <td>380.0</td>\n",
              "      <td>-0.64</td>\n",
              "    </tr>\n",
              "    <tr>\n",
              "      <th>Octopussy</th>\n",
              "      <td>373.8</td>\n",
              "      <td>-0.68</td>\n",
              "    </tr>\n",
              "    <tr>\n",
              "      <th>The Man with the Golden Gun</th>\n",
              "      <td>334.0</td>\n",
              "      <td>-0.91</td>\n",
              "    </tr>\n",
              "    <tr>\n",
              "      <th>Casino Royale</th>\n",
              "      <td>315.0</td>\n",
              "      <td>-1.02</td>\n",
              "    </tr>\n",
              "    <tr>\n",
              "      <th>The Living Daylights</th>\n",
              "      <td>313.5</td>\n",
              "      <td>-1.03</td>\n",
              "    </tr>\n",
              "    <tr>\n",
              "      <th>On Her Majesty's Secret Service</th>\n",
              "      <td>291.5</td>\n",
              "      <td>-1.15</td>\n",
              "    </tr>\n",
              "    <tr>\n",
              "      <th>A View to a Kill</th>\n",
              "      <td>275.2</td>\n",
              "      <td>-1.25</td>\n",
              "    </tr>\n",
              "    <tr>\n",
              "      <th>Licence to Kill</th>\n",
              "      <td>250.9</td>\n",
              "      <td>-1.39</td>\n",
              "    </tr>\n",
              "  </tbody>\n",
              "</table>\n",
              "</div>"
            ],
            "text/plain": [
              "                                 Box Office  z_Box Office\n",
              "Film                                                     \n",
              "Skyfall                               943.5          2.61\n",
              "Thunderball                           848.1          2.06\n",
              "Goldfinger                            820.4          1.90\n",
              "Spectre                               726.7          1.36\n",
              "Casino Royale                         581.5          0.52\n",
              "From Russia with Love                 543.8          0.30\n",
              "Moonraker                             535.0          0.25\n",
              "The Spy Who Loved Me                  533.0          0.24\n",
              "GoldenEye                             518.5          0.16\n",
              "You Only Live Twice                   514.2          0.13\n",
              "Quantum of Solace                     514.2          0.13\n",
              "Die Another Day                       465.4         -0.15\n",
              "Tomorrow Never Dies                   463.2         -0.16\n",
              "Live and Let Die                      460.3         -0.18\n",
              "For Your Eyes Only                    449.4         -0.24\n",
              "Dr. No                                448.8         -0.25\n",
              "Diamonds Are Forever                  442.5         -0.28\n",
              "The World Is Not Enough               439.5         -0.30\n",
              "Never Say Never Again                 380.0         -0.64\n",
              "Octopussy                             373.8         -0.68\n",
              "The Man with the Golden Gun           334.0         -0.91\n",
              "Casino Royale                         315.0         -1.02\n",
              "The Living Daylights                  313.5         -1.03\n",
              "On Her Majesty's Secret Service       291.5         -1.15\n",
              "A View to a Kill                      275.2         -1.25\n",
              "Licence to Kill                       250.9         -1.39"
            ]
          },
          "metadata": {
            "tags": []
          },
          "execution_count": 14
        }
      ]
    },
    {
      "cell_type": "markdown",
      "metadata": {
        "id": "UJFehThgLUq1"
      },
      "source": [
        "# EXERCISES"
      ]
    },
    {
      "cell_type": "markdown",
      "metadata": {
        "id": "im_V3Ak3hO2q"
      },
      "source": [
        "##### EX 1\n",
        "\n",
        "> Dataset https://data-wizards.s3.amazonaws.com/datasets/dataset_videogames_games.csv\n",
        "\n",
        "##### Create two new fields in the dataframe,\n",
        "*   *total_sales* that reflects total sales in all regions\n",
        "*   *videogame_segment* that flags videogames that sold more than 30MM (\"top sales\") vs. the rest (\"not top sales\")\n",
        "\n",
        "Filter to only videogames for console 'N64' and display columns *name, platform_code, total_sales, videogame_segment* \n",
        "\n",
        "---\n",
        "\n"
      ]
    },
    {
      "cell_type": "code",
      "metadata": {
        "colab": {
          "base_uri": "https://localhost:8080/"
        },
        "id": "86sxYe9Yho0s",
        "outputId": "0082f79f-3933-4f3b-a9fd-46996c7d09d2"
      },
      "source": [
        "import pandas as pd\n",
        "df_videogames = pd.read_csv(\"https://data-wizards.s3.amazonaws.com/datasets/dataset_videogames_games.csv\")\n",
        "df_videogames.dtypes"
      ],
      "execution_count": null,
      "outputs": [
        {
          "output_type": "execute_result",
          "data": {
            "text/plain": [
              "rank               int64\n",
              "name              object\n",
              "platform_code     object\n",
              "year               int64\n",
              "genre             object\n",
              "publisher         object\n",
              "NA_sales         float64\n",
              "EU_sales         float64\n",
              "JP_sales         float64\n",
              "Other_sales      float64\n",
              "dtype: object"
            ]
          },
          "metadata": {
            "tags": []
          },
          "execution_count": 8
        }
      ]
    },
    {
      "cell_type": "code",
      "metadata": {
        "colab": {
          "base_uri": "https://localhost:8080/",
          "height": 419
        },
        "id": "Ybx8mhG8hzAY",
        "outputId": "62d3e417-07ad-4b0b-8217-ec16c16eb26c"
      },
      "source": [
        "df_videogames[\"total_sales\"] = df_videogames[\"NA_sales\"] + df_videogames[\"EU_sales\"] + df_videogames[\"JP_sales\"] + df_videogames[\"Other_sales\"]\n",
        "df_videogames[\"videogame_segment\"] = np.where(df_videogames[\"total_sales\"]>30,'top_sales','not_top_sales') \n",
        "\n",
        "cond = df_videogames[\"platform_code\"] == 'N64'\n",
        "df_videogames[cond][['name','platform_code','total_sales','videogame_segment']].sort_values('total_sales',ascending=False)"
      ],
      "execution_count": null,
      "outputs": [
        {
          "output_type": "execute_result",
          "data": {
            "text/html": [
              "<div>\n",
              "<style scoped>\n",
              "    .dataframe tbody tr th:only-of-type {\n",
              "        vertical-align: middle;\n",
              "    }\n",
              "\n",
              "    .dataframe tbody tr th {\n",
              "        vertical-align: top;\n",
              "    }\n",
              "\n",
              "    .dataframe thead th {\n",
              "        text-align: right;\n",
              "    }\n",
              "</style>\n",
              "<table border=\"1\" class=\"dataframe\">\n",
              "  <thead>\n",
              "    <tr style=\"text-align: right;\">\n",
              "      <th></th>\n",
              "      <th>name</th>\n",
              "      <th>platform_code</th>\n",
              "      <th>total_sales</th>\n",
              "      <th>videogame_segment</th>\n",
              "    </tr>\n",
              "  </thead>\n",
              "  <tbody>\n",
              "    <tr>\n",
              "      <th>46</th>\n",
              "      <td>Super Mario 64</td>\n",
              "      <td>N64</td>\n",
              "      <td>11.90</td>\n",
              "      <td>not_top_sales</td>\n",
              "    </tr>\n",
              "    <tr>\n",
              "      <th>63</th>\n",
              "      <td>Mario Kart 64</td>\n",
              "      <td>N64</td>\n",
              "      <td>9.87</td>\n",
              "      <td>not_top_sales</td>\n",
              "    </tr>\n",
              "    <tr>\n",
              "      <th>84</th>\n",
              "      <td>GoldenEye 007</td>\n",
              "      <td>N64</td>\n",
              "      <td>8.09</td>\n",
              "      <td>not_top_sales</td>\n",
              "    </tr>\n",
              "    <tr>\n",
              "      <th>94</th>\n",
              "      <td>The Legend of Zelda: Ocarina of Time</td>\n",
              "      <td>N64</td>\n",
              "      <td>7.60</td>\n",
              "      <td>not_top_sales</td>\n",
              "    </tr>\n",
              "    <tr>\n",
              "      <th>157</th>\n",
              "      <td>Super Smash Bros.</td>\n",
              "      <td>N64</td>\n",
              "      <td>5.56</td>\n",
              "      <td>not_top_sales</td>\n",
              "    </tr>\n",
              "    <tr>\n",
              "      <th>...</th>\n",
              "      <td>...</td>\n",
              "      <td>...</td>\n",
              "      <td>...</td>\n",
              "      <td>...</td>\n",
              "    </tr>\n",
              "    <tr>\n",
              "      <th>14015</th>\n",
              "      <td>Big Mountain 2000</td>\n",
              "      <td>N64</td>\n",
              "      <td>0.03</td>\n",
              "      <td>not_top_sales</td>\n",
              "    </tr>\n",
              "    <tr>\n",
              "      <th>14832</th>\n",
              "      <td>Super Bowling</td>\n",
              "      <td>N64</td>\n",
              "      <td>0.02</td>\n",
              "      <td>not_top_sales</td>\n",
              "    </tr>\n",
              "    <tr>\n",
              "      <th>14833</th>\n",
              "      <td>Rat Attack!</td>\n",
              "      <td>N64</td>\n",
              "      <td>0.02</td>\n",
              "      <td>not_top_sales</td>\n",
              "    </tr>\n",
              "    <tr>\n",
              "      <th>15929</th>\n",
              "      <td>PGA European Tour</td>\n",
              "      <td>N64</td>\n",
              "      <td>0.01</td>\n",
              "      <td>not_top_sales</td>\n",
              "    </tr>\n",
              "    <tr>\n",
              "      <th>15933</th>\n",
              "      <td>Carmageddon 64</td>\n",
              "      <td>N64</td>\n",
              "      <td>0.01</td>\n",
              "      <td>not_top_sales</td>\n",
              "    </tr>\n",
              "  </tbody>\n",
              "</table>\n",
              "<p>316 rows × 4 columns</p>\n",
              "</div>"
            ],
            "text/plain": [
              "                                       name  ... videogame_segment\n",
              "46                           Super Mario 64  ...     not_top_sales\n",
              "63                            Mario Kart 64  ...     not_top_sales\n",
              "84                            GoldenEye 007  ...     not_top_sales\n",
              "94     The Legend of Zelda: Ocarina of Time  ...     not_top_sales\n",
              "157                       Super Smash Bros.  ...     not_top_sales\n",
              "...                                     ...  ...               ...\n",
              "14015                     Big Mountain 2000  ...     not_top_sales\n",
              "14832                         Super Bowling  ...     not_top_sales\n",
              "14833                           Rat Attack!  ...     not_top_sales\n",
              "15929                     PGA European Tour  ...     not_top_sales\n",
              "15933                        Carmageddon 64  ...     not_top_sales\n",
              "\n",
              "[316 rows x 4 columns]"
            ]
          },
          "metadata": {
            "tags": []
          },
          "execution_count": 9
        }
      ]
    },
    {
      "cell_type": "markdown",
      "metadata": {
        "id": "yLuNuKvEYwnI"
      },
      "source": [
        "##### EX 2 \n",
        "> Dataset https://data-wizards.s3.amazonaws.com/datasets/fortune1000.csv\n",
        "\n",
        "##### EX 2.1 Calculate total revenue by sector\n",
        "##### EX 2.2 Repeat exercise 2.1 but filtering for only companies in sector Technology, Energy or Retailing\n",
        "---"
      ]
    },
    {
      "cell_type": "code",
      "metadata": {
        "colab": {
          "base_uri": "https://localhost:8080/"
        },
        "id": "sGy1d7VfY1yW",
        "outputId": "cf65fabe-1215-4fdd-dfc2-ce9566a69061"
      },
      "source": [
        "import pandas as pd\n",
        "df_fortune = pd.read_csv(\"https://data-wizards.s3.amazonaws.com/datasets/fortune1000.csv\")\n",
        "df_fortune.dtypes"
      ],
      "execution_count": null,
      "outputs": [
        {
          "output_type": "execute_result",
          "data": {
            "text/plain": [
              "Rank          int64\n",
              "Company      object\n",
              "Sector       object\n",
              "Industry     object\n",
              "Location     object\n",
              "Revenue       int64\n",
              "Profits       int64\n",
              "Employees     int64\n",
              "dtype: object"
            ]
          },
          "metadata": {
            "tags": []
          },
          "execution_count": 19
        }
      ]
    },
    {
      "cell_type": "code",
      "metadata": {
        "colab": {
          "base_uri": "https://localhost:8080/",
          "height": 731
        },
        "id": "eIXIcKyOY10x",
        "outputId": "7b4d9a07-1d8b-4638-e4fd-ee8bc592bf52"
      },
      "source": [
        "# EX 2.1\n",
        "df_fortune.groupby(\"Sector\").agg(\n",
        "    {\"Revenue\":\"sum\"}\n",
        ").sort_values(\"Revenue\",ascending=False)"
      ],
      "execution_count": null,
      "outputs": [
        {
          "output_type": "execute_result",
          "data": {
            "text/html": [
              "<div>\n",
              "<style scoped>\n",
              "    .dataframe tbody tr th:only-of-type {\n",
              "        vertical-align: middle;\n",
              "    }\n",
              "\n",
              "    .dataframe tbody tr th {\n",
              "        vertical-align: top;\n",
              "    }\n",
              "\n",
              "    .dataframe thead th {\n",
              "        text-align: right;\n",
              "    }\n",
              "</style>\n",
              "<table border=\"1\" class=\"dataframe\">\n",
              "  <thead>\n",
              "    <tr style=\"text-align: right;\">\n",
              "      <th></th>\n",
              "      <th>Revenue</th>\n",
              "    </tr>\n",
              "    <tr>\n",
              "      <th>Sector</th>\n",
              "      <th></th>\n",
              "    </tr>\n",
              "  </thead>\n",
              "  <tbody>\n",
              "    <tr>\n",
              "      <th>Financials</th>\n",
              "      <td>2217159</td>\n",
              "    </tr>\n",
              "    <tr>\n",
              "      <th>Health Care</th>\n",
              "      <td>1614707</td>\n",
              "    </tr>\n",
              "    <tr>\n",
              "      <th>Energy</th>\n",
              "      <td>1517809</td>\n",
              "    </tr>\n",
              "    <tr>\n",
              "      <th>Retailing</th>\n",
              "      <td>1465076</td>\n",
              "    </tr>\n",
              "    <tr>\n",
              "      <th>Technology</th>\n",
              "      <td>1377600</td>\n",
              "    </tr>\n",
              "    <tr>\n",
              "      <th>Food, Beverages &amp; Tobacco</th>\n",
              "      <td>555967</td>\n",
              "    </tr>\n",
              "    <tr>\n",
              "      <th>Industrials</th>\n",
              "      <td>497581</td>\n",
              "    </tr>\n",
              "    <tr>\n",
              "      <th>Food and Drug Stores</th>\n",
              "      <td>483769</td>\n",
              "    </tr>\n",
              "    <tr>\n",
              "      <th>Motor Vehicles &amp; Parts</th>\n",
              "      <td>482540</td>\n",
              "    </tr>\n",
              "    <tr>\n",
              "      <th>Telecommunications</th>\n",
              "      <td>461834</td>\n",
              "    </tr>\n",
              "    <tr>\n",
              "      <th>Wholesalers</th>\n",
              "      <td>444800</td>\n",
              "    </tr>\n",
              "    <tr>\n",
              "      <th>Transportation</th>\n",
              "      <td>408508</td>\n",
              "    </tr>\n",
              "    <tr>\n",
              "      <th>Aerospace &amp; Defense</th>\n",
              "      <td>357940</td>\n",
              "    </tr>\n",
              "    <tr>\n",
              "      <th>Business Services</th>\n",
              "      <td>272195</td>\n",
              "    </tr>\n",
              "    <tr>\n",
              "      <th>Materials</th>\n",
              "      <td>259145</td>\n",
              "    </tr>\n",
              "    <tr>\n",
              "      <th>Chemicals</th>\n",
              "      <td>243897</td>\n",
              "    </tr>\n",
              "    <tr>\n",
              "      <th>Household Products</th>\n",
              "      <td>234737</td>\n",
              "    </tr>\n",
              "    <tr>\n",
              "      <th>Media</th>\n",
              "      <td>220764</td>\n",
              "    </tr>\n",
              "    <tr>\n",
              "      <th>Hotels, Resturants &amp; Leisure</th>\n",
              "      <td>169546</td>\n",
              "    </tr>\n",
              "    <tr>\n",
              "      <th>Engineering &amp; Construction</th>\n",
              "      <td>153983</td>\n",
              "    </tr>\n",
              "    <tr>\n",
              "      <th>Apparel</th>\n",
              "      <td>95968</td>\n",
              "    </tr>\n",
              "  </tbody>\n",
              "</table>\n",
              "</div>"
            ],
            "text/plain": [
              "                              Revenue\n",
              "Sector                               \n",
              "Financials                    2217159\n",
              "Health Care                   1614707\n",
              "Energy                        1517809\n",
              "Retailing                     1465076\n",
              "Technology                    1377600\n",
              "Food, Beverages & Tobacco      555967\n",
              "Industrials                    497581\n",
              "Food and Drug Stores           483769\n",
              "Motor Vehicles & Parts         482540\n",
              "Telecommunications             461834\n",
              "Wholesalers                    444800\n",
              "Transportation                 408508\n",
              "Aerospace & Defense            357940\n",
              "Business Services              272195\n",
              "Materials                      259145\n",
              "Chemicals                      243897\n",
              "Household Products             234737\n",
              "Media                          220764\n",
              "Hotels, Resturants & Leisure   169546\n",
              "Engineering & Construction     153983\n",
              "Apparel                         95968"
            ]
          },
          "metadata": {
            "tags": []
          },
          "execution_count": 21
        }
      ]
    },
    {
      "cell_type": "code",
      "metadata": {
        "colab": {
          "base_uri": "https://localhost:8080/",
          "height": 173
        },
        "id": "_eFvsVwUa4Yu",
        "outputId": "1556a892-d16b-40db-d2d6-f8effc8c8969"
      },
      "source": [
        "# EX 2.2\n",
        "cond = df_fortune[\"Sector\"].isin([\"Technology\",\"Energy\",\"Retailing\"])\n",
        "\n",
        "df_fortune[cond].groupby(\"Sector\").agg(\n",
        "    {\"Revenue\":\"sum\"}\n",
        ").sort_values(\"Revenue\",ascending=False)"
      ],
      "execution_count": null,
      "outputs": [
        {
          "output_type": "execute_result",
          "data": {
            "text/html": [
              "<div>\n",
              "<style scoped>\n",
              "    .dataframe tbody tr th:only-of-type {\n",
              "        vertical-align: middle;\n",
              "    }\n",
              "\n",
              "    .dataframe tbody tr th {\n",
              "        vertical-align: top;\n",
              "    }\n",
              "\n",
              "    .dataframe thead th {\n",
              "        text-align: right;\n",
              "    }\n",
              "</style>\n",
              "<table border=\"1\" class=\"dataframe\">\n",
              "  <thead>\n",
              "    <tr style=\"text-align: right;\">\n",
              "      <th></th>\n",
              "      <th>Revenue</th>\n",
              "    </tr>\n",
              "    <tr>\n",
              "      <th>Sector</th>\n",
              "      <th></th>\n",
              "    </tr>\n",
              "  </thead>\n",
              "  <tbody>\n",
              "    <tr>\n",
              "      <th>Energy</th>\n",
              "      <td>1517809</td>\n",
              "    </tr>\n",
              "    <tr>\n",
              "      <th>Retailing</th>\n",
              "      <td>1465076</td>\n",
              "    </tr>\n",
              "    <tr>\n",
              "      <th>Technology</th>\n",
              "      <td>1377600</td>\n",
              "    </tr>\n",
              "  </tbody>\n",
              "</table>\n",
              "</div>"
            ],
            "text/plain": [
              "            Revenue\n",
              "Sector             \n",
              "Energy      1517809\n",
              "Retailing   1465076\n",
              "Technology  1377600"
            ]
          },
          "metadata": {
            "tags": []
          },
          "execution_count": 22
        }
      ]
    },
    {
      "cell_type": "markdown",
      "metadata": {
        "id": "Xi12GHEZnavR"
      },
      "source": [
        "##### EX 3 \n",
        "> Dataset https://data-wizards.s3.amazonaws.com/datasets/starwarsdb_people.csv\n",
        "\n",
        "##### Extract top 5 homeworlds with highest number of characters included in dataframe\n",
        "---"
      ]
    },
    {
      "cell_type": "code",
      "metadata": {
        "colab": {
          "base_uri": "https://localhost:8080/"
        },
        "id": "2JD1itf3ndHV",
        "outputId": "3101019f-f520-4915-f193-0a18083dde9a"
      },
      "source": [
        "import pandas as pd\n",
        "df_starwars_people = pd.read_csv(\"https://data-wizards.s3.amazonaws.com/datasets/starwarsdb_people.csv\")\n",
        "df_starwars_people.dtypes"
      ],
      "execution_count": null,
      "outputs": [
        {
          "output_type": "execute_result",
          "data": {
            "text/plain": [
              "name           object\n",
              "height        float64\n",
              "mass          float64\n",
              "hair_color     object\n",
              "skin_color     object\n",
              "eye_color      object\n",
              "birth_year    float64\n",
              "gender         object\n",
              "homeworld      object\n",
              "species        object\n",
              "sex            object\n",
              "dtype: object"
            ]
          },
          "metadata": {
            "tags": []
          },
          "execution_count": 23
        }
      ]
    },
    {
      "cell_type": "code",
      "metadata": {
        "colab": {
          "base_uri": "https://localhost:8080/",
          "height": 235
        },
        "id": "tunXwXfgndMX",
        "outputId": "1beaaaa8-a997-4c8f-ba0c-b5d9cacc4e3b"
      },
      "source": [
        "df_starwars_people.groupby('homeworld').agg({\n",
        "  \"name\":\"nunique\"   \n",
        "}).rename(\n",
        "    {\"name\":\"count_characteres\"}\n",
        "    ,axis='columns'\n",
        ").sort_values('count_characteres',ascending=False)\\\n",
        ".iloc[:5,]"
      ],
      "execution_count": null,
      "outputs": [
        {
          "output_type": "execute_result",
          "data": {
            "text/html": [
              "<div>\n",
              "<style scoped>\n",
              "    .dataframe tbody tr th:only-of-type {\n",
              "        vertical-align: middle;\n",
              "    }\n",
              "\n",
              "    .dataframe tbody tr th {\n",
              "        vertical-align: top;\n",
              "    }\n",
              "\n",
              "    .dataframe thead th {\n",
              "        text-align: right;\n",
              "    }\n",
              "</style>\n",
              "<table border=\"1\" class=\"dataframe\">\n",
              "  <thead>\n",
              "    <tr style=\"text-align: right;\">\n",
              "      <th></th>\n",
              "      <th>count_characteres</th>\n",
              "    </tr>\n",
              "    <tr>\n",
              "      <th>homeworld</th>\n",
              "      <th></th>\n",
              "    </tr>\n",
              "  </thead>\n",
              "  <tbody>\n",
              "    <tr>\n",
              "      <th>Naboo</th>\n",
              "      <td>11</td>\n",
              "    </tr>\n",
              "    <tr>\n",
              "      <th>Tatooine</th>\n",
              "      <td>10</td>\n",
              "    </tr>\n",
              "    <tr>\n",
              "      <th>Alderaan</th>\n",
              "      <td>3</td>\n",
              "    </tr>\n",
              "    <tr>\n",
              "      <th>Kamino</th>\n",
              "      <td>3</td>\n",
              "    </tr>\n",
              "    <tr>\n",
              "      <th>Coruscant</th>\n",
              "      <td>3</td>\n",
              "    </tr>\n",
              "  </tbody>\n",
              "</table>\n",
              "</div>"
            ],
            "text/plain": [
              "           count_characteres\n",
              "homeworld                   \n",
              "Naboo                     11\n",
              "Tatooine                  10\n",
              "Alderaan                   3\n",
              "Kamino                     3\n",
              "Coruscant                  3"
            ]
          },
          "metadata": {
            "tags": []
          },
          "execution_count": 25
        }
      ]
    },
    {
      "cell_type": "markdown",
      "metadata": {
        "id": "FqieYsTOVYDi"
      },
      "source": [
        "##### EX 4 \n",
        "> Dataset https://data-wizards.s3.amazonaws.com/datasets/dataset_na_who.csv\n",
        "\n",
        "##### Aggregate the following metrics by continent,\n",
        "\n",
        "Agregar las siguiente métricas según continente,\n",
        "\n",
        "*   *Total population*\n",
        "*   *Average GDP per capita*\n",
        "*   *Average % of population living below poberty line*\n",
        "\n",
        "---"
      ]
    },
    {
      "cell_type": "code",
      "metadata": {
        "colab": {
          "base_uri": "https://localhost:8080/"
        },
        "id": "80UVfouEsf4D",
        "outputId": "3483a8d1-6720-4422-acb7-a7041479019e"
      },
      "source": [
        "import pandas as pd\n",
        "df_who = pd.read_csv('https://data-wizards.s3.amazonaws.com/datasets/dataset_na_who.csv')\n",
        "df_who.dtypes"
      ],
      "execution_count": null,
      "outputs": [
        {
          "output_type": "execute_result",
          "data": {
            "text/plain": [
              "Country                                                    object\n",
              "CountryID                                                   int64\n",
              "ContinentID                                                 int64\n",
              "Adolescent fertility rate (%)                             float64\n",
              "Adult literacy rate (%)                                   float64\n",
              "Gross national income per capita (PPP international $)    float64\n",
              "Net primary school enrolment ratio female (%)             float64\n",
              "Net primary school enrolment ratio male (%)               float64\n",
              "Population (in thousands) total                           float64\n",
              "Population annual growth rate (%)                         float64\n",
              "Population in urban areas (%)                             float64\n",
              "Population living below the poverty line                  float64\n",
              "Continent                                                  object\n",
              "dtype: object"
            ]
          },
          "metadata": {
            "tags": []
          },
          "execution_count": 134
        }
      ]
    },
    {
      "cell_type": "code",
      "metadata": {
        "colab": {
          "base_uri": "https://localhost:8080/",
          "height": 348
        },
        "id": "6up7nEJssjzB",
        "outputId": "5c2ac77a-c4e2-4905-8dff-337b57e6bba4"
      },
      "source": [
        "# EX 4\n",
        "output = df_who.groupby('Continent').agg({\n",
        "    'Population (in thousands) total':'sum'\n",
        "    ,'Gross national income per capita (PPP international $)':'mean'\n",
        "    ,'Population living below the poverty line':'mean'\n",
        "})\n",
        "\n",
        "output['Population (in thousands) total'] = round(output['Population (in thousands) total'])\n",
        "output['Gross national income per capita (PPP international $)'] = round(output['Gross national income per capita (PPP international $)'])\n",
        "output['Population living below the poverty line'] = round(output['Population living below the poverty line'])\n",
        "\n",
        "output.sort_values('Population (in thousands) total',ascending=False)"
      ],
      "execution_count": null,
      "outputs": [
        {
          "output_type": "execute_result",
          "data": {
            "text/html": [
              "<div>\n",
              "<style scoped>\n",
              "    .dataframe tbody tr th:only-of-type {\n",
              "        vertical-align: middle;\n",
              "    }\n",
              "\n",
              "    .dataframe tbody tr th {\n",
              "        vertical-align: top;\n",
              "    }\n",
              "\n",
              "    .dataframe thead th {\n",
              "        text-align: right;\n",
              "    }\n",
              "</style>\n",
              "<table border=\"1\" class=\"dataframe\">\n",
              "  <thead>\n",
              "    <tr style=\"text-align: right;\">\n",
              "      <th></th>\n",
              "      <th>Population (in thousands) total</th>\n",
              "      <th>Gross national income per capita (PPP international $)</th>\n",
              "      <th>Population living below the poverty line</th>\n",
              "    </tr>\n",
              "    <tr>\n",
              "      <th>Continent</th>\n",
              "      <th></th>\n",
              "      <th></th>\n",
              "      <th></th>\n",
              "    </tr>\n",
              "  </thead>\n",
              "  <tbody>\n",
              "    <tr>\n",
              "      <th>Asia</th>\n",
              "      <td>2859153.0</td>\n",
              "      <td>2866.0</td>\n",
              "      <td>28.0</td>\n",
              "    </tr>\n",
              "    <tr>\n",
              "      <th>Europe</th>\n",
              "      <td>880241.0</td>\n",
              "      <td>19777.0</td>\n",
              "      <td>3.0</td>\n",
              "    </tr>\n",
              "    <tr>\n",
              "      <th>Africa</th>\n",
              "      <td>759147.0</td>\n",
              "      <td>3128.0</td>\n",
              "      <td>36.0</td>\n",
              "    </tr>\n",
              "    <tr>\n",
              "      <th>Oceania</th>\n",
              "      <td>714480.0</td>\n",
              "      <td>11716.0</td>\n",
              "      <td>12.0</td>\n",
              "    </tr>\n",
              "    <tr>\n",
              "      <th>South America</th>\n",
              "      <td>453480.0</td>\n",
              "      <td>7397.0</td>\n",
              "      <td>14.0</td>\n",
              "    </tr>\n",
              "    <tr>\n",
              "      <th>North America</th>\n",
              "      <td>441464.0</td>\n",
              "      <td>24524.0</td>\n",
              "      <td>3.0</td>\n",
              "    </tr>\n",
              "    <tr>\n",
              "      <th>Middle East</th>\n",
              "      <td>336867.0</td>\n",
              "      <td>14894.0</td>\n",
              "      <td>2.0</td>\n",
              "    </tr>\n",
              "  </tbody>\n",
              "</table>\n",
              "</div>"
            ],
            "text/plain": [
              "               Population (in thousands) total  ...  Population living below the poverty line\n",
              "Continent                                       ...                                          \n",
              "Asia                                 2859153.0  ...                                      28.0\n",
              "Europe                                880241.0  ...                                       3.0\n",
              "Africa                                759147.0  ...                                      36.0\n",
              "Oceania                               714480.0  ...                                      12.0\n",
              "South America                         453480.0  ...                                      14.0\n",
              "North America                         441464.0  ...                                       3.0\n",
              "Middle East                           336867.0  ...                                       2.0\n",
              "\n",
              "[7 rows x 3 columns]"
            ]
          },
          "metadata": {
            "tags": []
          },
          "execution_count": 140
        }
      ]
    },
    {
      "cell_type": "markdown",
      "metadata": {
        "id": "3P0IpVyELsJm"
      },
      "source": [
        "##### EX 5 \n",
        "> Dataset https://data-wizards.s3.amazonaws.com/datasets/movies.csv\n",
        "\n",
        "##### Extract top 10 directors with highest average IMDB score. Include only directors with more than 5 movies directed.\n",
        "---"
      ]
    },
    {
      "cell_type": "code",
      "metadata": {
        "colab": {
          "base_uri": "https://localhost:8080/"
        },
        "id": "VKtAiVMuMeDj",
        "outputId": "3cb30fe2-caa9-4b35-bada-87c404e80783"
      },
      "source": [
        "import pandas as pd\n",
        "df_movies = pd.read_csv(\"https://data-wizards.s3.amazonaws.com/datasets/movies.csv\",index_col=\"movie_title\")\n",
        "df_movies.dtypes"
      ],
      "execution_count": null,
      "outputs": [
        {
          "output_type": "execute_result",
          "data": {
            "text/plain": [
              "color                         object\n",
              "director_name                 object\n",
              "num_critic_for_reviews       float64\n",
              "duration                     float64\n",
              "director_facebook_likes      float64\n",
              "actor_3_facebook_likes       float64\n",
              "actor_2_name                  object\n",
              "actor_1_facebook_likes       float64\n",
              "gross                        float64\n",
              "genres                        object\n",
              "actor_1_name                  object\n",
              "num_voted_users                int64\n",
              "cast_total_facebook_likes      int64\n",
              "actor_3_name                  object\n",
              "facenumber_in_poster         float64\n",
              "plot_keywords                 object\n",
              "movie_imdb_link               object\n",
              "num_user_for_reviews         float64\n",
              "language                      object\n",
              "country                       object\n",
              "content_rating                object\n",
              "budget                       float64\n",
              "title_year                   float64\n",
              "actor_2_facebook_likes       float64\n",
              "imdb_score                   float64\n",
              "aspect_ratio                 float64\n",
              "movie_facebook_likes           int64\n",
              "dtype: object"
            ]
          },
          "metadata": {
            "tags": []
          },
          "execution_count": 81
        }
      ]
    },
    {
      "cell_type": "code",
      "metadata": {
        "id": "QXKvd385Nd4j",
        "colab": {
          "base_uri": "https://localhost:8080/",
          "height": 390
        },
        "outputId": "6d76bcd6-742f-4e2b-bf6a-4d05b33bbdea"
      },
      "source": [
        "# EX 5\n",
        "output = df_movies.groupby(\"director_name\").agg({\n",
        "    \"imdb_score\":\"mean\"\n",
        "    ,\"movie_title\":\"count\"\n",
        "    }).rename({\n",
        "    \"imdb_score\":\"avg_imdb_score\"\n",
        "    ,\"movie_title\":\"total_movies\"\n",
        "},axis='columns')\n",
        "\n",
        "output[output['total_movies']>5].sort_values('avg_imdb_score',ascending=False).iloc[:10,]"
      ],
      "execution_count": null,
      "outputs": [
        {
          "output_type": "execute_result",
          "data": {
            "text/html": [
              "<div>\n",
              "<style scoped>\n",
              "    .dataframe tbody tr th:only-of-type {\n",
              "        vertical-align: middle;\n",
              "    }\n",
              "\n",
              "    .dataframe tbody tr th {\n",
              "        vertical-align: top;\n",
              "    }\n",
              "\n",
              "    .dataframe thead th {\n",
              "        text-align: right;\n",
              "    }\n",
              "</style>\n",
              "<table border=\"1\" class=\"dataframe\">\n",
              "  <thead>\n",
              "    <tr style=\"text-align: right;\">\n",
              "      <th></th>\n",
              "      <th>avg_imdb_score</th>\n",
              "      <th>total_movies</th>\n",
              "    </tr>\n",
              "    <tr>\n",
              "      <th>director_name</th>\n",
              "      <th></th>\n",
              "      <th></th>\n",
              "    </tr>\n",
              "  </thead>\n",
              "  <tbody>\n",
              "    <tr>\n",
              "      <th>Christopher Nolan</th>\n",
              "      <td>8.425000</td>\n",
              "      <td>8</td>\n",
              "    </tr>\n",
              "    <tr>\n",
              "      <th>Quentin Tarantino</th>\n",
              "      <td>8.200000</td>\n",
              "      <td>8</td>\n",
              "    </tr>\n",
              "    <tr>\n",
              "      <th>Stanley Kubrick</th>\n",
              "      <td>8.050000</td>\n",
              "      <td>6</td>\n",
              "    </tr>\n",
              "    <tr>\n",
              "      <th>James Cameron</th>\n",
              "      <td>7.914286</td>\n",
              "      <td>7</td>\n",
              "    </tr>\n",
              "    <tr>\n",
              "      <th>Peter Jackson</th>\n",
              "      <td>7.888889</td>\n",
              "      <td>9</td>\n",
              "    </tr>\n",
              "    <tr>\n",
              "      <th>Alejandro G. Iñárritu</th>\n",
              "      <td>7.783333</td>\n",
              "      <td>6</td>\n",
              "    </tr>\n",
              "    <tr>\n",
              "      <th>David Fincher</th>\n",
              "      <td>7.750000</td>\n",
              "      <td>10</td>\n",
              "    </tr>\n",
              "    <tr>\n",
              "      <th>Martin Scorsese</th>\n",
              "      <td>7.660000</td>\n",
              "      <td>20</td>\n",
              "    </tr>\n",
              "    <tr>\n",
              "      <th>Wes Anderson</th>\n",
              "      <td>7.628571</td>\n",
              "      <td>7</td>\n",
              "    </tr>\n",
              "    <tr>\n",
              "      <th>Paul Greengrass</th>\n",
              "      <td>7.585714</td>\n",
              "      <td>7</td>\n",
              "    </tr>\n",
              "  </tbody>\n",
              "</table>\n",
              "</div>"
            ],
            "text/plain": [
              "                       avg_imdb_score  total_movies\n",
              "director_name                                      \n",
              "Christopher Nolan            8.425000             8\n",
              "Quentin Tarantino            8.200000             8\n",
              "Stanley Kubrick              8.050000             6\n",
              "James Cameron                7.914286             7\n",
              "Peter Jackson                7.888889             9\n",
              "Alejandro G. Iñárritu        7.783333             6\n",
              "David Fincher                7.750000            10\n",
              "Martin Scorsese              7.660000            20\n",
              "Wes Anderson                 7.628571             7\n",
              "Paul Greengrass              7.585714             7"
            ]
          },
          "metadata": {
            "tags": []
          },
          "execution_count": 80
        }
      ]
    },
    {
      "cell_type": "markdown",
      "metadata": {
        "id": "zRXntWrWc887"
      },
      "source": [
        "##### EX 6\n",
        "> Dataset https://data-wizards.s3.amazonaws.com/datasets/fortune1000.csv\n",
        "\n",
        "##### Create a new field (\"company_size\") that segments companies in terms of number of employees using the following criteria,\n",
        "*   *small*, when number of employees is fewer than 10000\n",
        "*   *medium*, when number of employees is 10000 < x < 100000 \n",
        "*   *big*, when number of employees is higher than 100000\n",
        "\n",
        "##### Calculate median revenue by (i) sector and (ii) company size\n",
        "---"
      ]
    },
    {
      "cell_type": "code",
      "metadata": {
        "colab": {
          "base_uri": "https://localhost:8080/"
        },
        "id": "b-wVRy88ckUk",
        "outputId": "89c080a9-6997-4f33-cd4e-88ed5411a7ce"
      },
      "source": [
        "import pandas as pd\n",
        "import numpy as np\n",
        "df_fortune = pd.read_csv(\"https://data-wizards.s3.amazonaws.com/datasets/fortune1000.csv\")\n",
        "df_fortune.dtypes"
      ],
      "execution_count": null,
      "outputs": [
        {
          "output_type": "execute_result",
          "data": {
            "text/plain": [
              "Rank          int64\n",
              "Company      object\n",
              "Sector       object\n",
              "Industry     object\n",
              "Location     object\n",
              "Revenue       int64\n",
              "Profits       int64\n",
              "Employees     int64\n",
              "dtype: object"
            ]
          },
          "metadata": {
            "tags": []
          },
          "execution_count": 29
        }
      ]
    },
    {
      "cell_type": "code",
      "metadata": {
        "colab": {
          "base_uri": "https://localhost:8080/",
          "height": 1000
        },
        "id": "pfC5ubLNc-LW",
        "outputId": "80d16824-6c6f-4263-cd46-6347eb71d6a7"
      },
      "source": [
        "# step 1: creating a new column based on conditions\n",
        "df = df_fortune\n",
        "df[\"company_size\"] = np.where(\n",
        "    df[\"Employees\"]>100000,\"big\"                      # condition 1\n",
        "    ,np.where(df[\"Employees\"]>10000,\"medium\",\"small\"  # condition 2\n",
        "  )\n",
        ")\n",
        "\n",
        "# step 2: parsing the new variable into the groupby\n",
        "df.groupby([\"Sector\",\"company_size\"]).agg(\n",
        "    {\"Profits\":\"median\"}\n",
        ")"
      ],
      "execution_count": null,
      "outputs": [
        {
          "output_type": "execute_result",
          "data": {
            "text/html": [
              "<div>\n",
              "<style scoped>\n",
              "    .dataframe tbody tr th:only-of-type {\n",
              "        vertical-align: middle;\n",
              "    }\n",
              "\n",
              "    .dataframe tbody tr th {\n",
              "        vertical-align: top;\n",
              "    }\n",
              "\n",
              "    .dataframe thead th {\n",
              "        text-align: right;\n",
              "    }\n",
              "</style>\n",
              "<table border=\"1\" class=\"dataframe\">\n",
              "  <thead>\n",
              "    <tr style=\"text-align: right;\">\n",
              "      <th></th>\n",
              "      <th></th>\n",
              "      <th>Profits</th>\n",
              "    </tr>\n",
              "    <tr>\n",
              "      <th>Sector</th>\n",
              "      <th>company_size</th>\n",
              "      <th></th>\n",
              "    </tr>\n",
              "  </thead>\n",
              "  <tbody>\n",
              "    <tr>\n",
              "      <th rowspan=\"3\" valign=\"top\">Aerospace &amp; Defense</th>\n",
              "      <th>big</th>\n",
              "      <td>5176.0</td>\n",
              "    </tr>\n",
              "    <tr>\n",
              "      <th>medium</th>\n",
              "      <td>545.0</td>\n",
              "    </tr>\n",
              "    <tr>\n",
              "      <th>small</th>\n",
              "      <td>182.0</td>\n",
              "    </tr>\n",
              "    <tr>\n",
              "      <th rowspan=\"2\" valign=\"top\">Apparel</th>\n",
              "      <th>medium</th>\n",
              "      <td>415.5</td>\n",
              "    </tr>\n",
              "    <tr>\n",
              "      <th>small</th>\n",
              "      <td>174.0</td>\n",
              "    </tr>\n",
              "    <tr>\n",
              "      <th rowspan=\"3\" valign=\"top\">Business Services</th>\n",
              "      <th>big</th>\n",
              "      <td>169.0</td>\n",
              "    </tr>\n",
              "    <tr>\n",
              "      <th>medium</th>\n",
              "      <td>419.0</td>\n",
              "    </tr>\n",
              "    <tr>\n",
              "      <th>small</th>\n",
              "      <td>148.0</td>\n",
              "    </tr>\n",
              "    <tr>\n",
              "      <th rowspan=\"2\" valign=\"top\">Chemicals</th>\n",
              "      <th>medium</th>\n",
              "      <td>1166.0</td>\n",
              "    </tr>\n",
              "    <tr>\n",
              "      <th>small</th>\n",
              "      <td>144.5</td>\n",
              "    </tr>\n",
              "    <tr>\n",
              "      <th rowspan=\"2\" valign=\"top\">Energy</th>\n",
              "      <th>medium</th>\n",
              "      <td>874.0</td>\n",
              "    </tr>\n",
              "    <tr>\n",
              "      <th>small</th>\n",
              "      <td>118.0</td>\n",
              "    </tr>\n",
              "    <tr>\n",
              "      <th rowspan=\"2\" valign=\"top\">Engineering &amp; Construction</th>\n",
              "      <th>medium</th>\n",
              "      <td>128.0</td>\n",
              "    </tr>\n",
              "    <tr>\n",
              "      <th>small</th>\n",
              "      <td>167.5</td>\n",
              "    </tr>\n",
              "    <tr>\n",
              "      <th rowspan=\"3\" valign=\"top\">Financials</th>\n",
              "      <th>big</th>\n",
              "      <td>22894.0</td>\n",
              "    </tr>\n",
              "    <tr>\n",
              "      <th>medium</th>\n",
              "      <td>1224.0</td>\n",
              "    </tr>\n",
              "    <tr>\n",
              "      <th>small</th>\n",
              "      <td>473.0</td>\n",
              "    </tr>\n",
              "    <tr>\n",
              "      <th rowspan=\"3\" valign=\"top\">Food and Drug Stores</th>\n",
              "      <th>big</th>\n",
              "      <td>3129.5</td>\n",
              "    </tr>\n",
              "    <tr>\n",
              "      <th>medium</th>\n",
              "      <td>160.5</td>\n",
              "    </tr>\n",
              "    <tr>\n",
              "      <th>small</th>\n",
              "      <td>26.0</td>\n",
              "    </tr>\n",
              "    <tr>\n",
              "      <th rowspan=\"3\" valign=\"top\">Food, Beverages &amp; Tobacco</th>\n",
              "      <th>big</th>\n",
              "      <td>5452.0</td>\n",
              "    </tr>\n",
              "    <tr>\n",
              "      <th>medium</th>\n",
              "      <td>554.5</td>\n",
              "    </tr>\n",
              "    <tr>\n",
              "      <th>small</th>\n",
              "      <td>260.5</td>\n",
              "    </tr>\n",
              "    <tr>\n",
              "      <th rowspan=\"3\" valign=\"top\">Health Care</th>\n",
              "      <th>big</th>\n",
              "      <td>2129.0</td>\n",
              "    </tr>\n",
              "    <tr>\n",
              "      <th>medium</th>\n",
              "      <td>427.0</td>\n",
              "    </tr>\n",
              "    <tr>\n",
              "      <th>small</th>\n",
              "      <td>204.5</td>\n",
              "    </tr>\n",
              "    <tr>\n",
              "      <th rowspan=\"3\" valign=\"top\">Hotels, Resturants &amp; Leisure</th>\n",
              "      <th>big</th>\n",
              "      <td>1293.0</td>\n",
              "    </tr>\n",
              "    <tr>\n",
              "      <th>medium</th>\n",
              "      <td>161.0</td>\n",
              "    </tr>\n",
              "    <tr>\n",
              "      <th>small</th>\n",
              "      <td>-1394.0</td>\n",
              "    </tr>\n",
              "    <tr>\n",
              "      <th rowspan=\"3\" valign=\"top\">Household Products</th>\n",
              "      <th>big</th>\n",
              "      <td>7036.0</td>\n",
              "    </tr>\n",
              "    <tr>\n",
              "      <th>medium</th>\n",
              "      <td>325.0</td>\n",
              "    </tr>\n",
              "    <tr>\n",
              "      <th>small</th>\n",
              "      <td>89.0</td>\n",
              "    </tr>\n",
              "    <tr>\n",
              "      <th rowspan=\"3\" valign=\"top\">Industrials</th>\n",
              "      <th>big</th>\n",
              "      <td>2406.0</td>\n",
              "    </tr>\n",
              "    <tr>\n",
              "      <th>medium</th>\n",
              "      <td>272.5</td>\n",
              "    </tr>\n",
              "    <tr>\n",
              "      <th>small</th>\n",
              "      <td>108.0</td>\n",
              "    </tr>\n",
              "    <tr>\n",
              "      <th rowspan=\"2\" valign=\"top\">Materials</th>\n",
              "      <th>medium</th>\n",
              "      <td>274.0</td>\n",
              "    </tr>\n",
              "    <tr>\n",
              "      <th>small</th>\n",
              "      <td>54.0</td>\n",
              "    </tr>\n",
              "    <tr>\n",
              "      <th rowspan=\"3\" valign=\"top\">Media</th>\n",
              "      <th>big</th>\n",
              "      <td>8382.0</td>\n",
              "    </tr>\n",
              "    <tr>\n",
              "      <th>medium</th>\n",
              "      <td>151.0</td>\n",
              "    </tr>\n",
              "    <tr>\n",
              "      <th>small</th>\n",
              "      <td>64.0</td>\n",
              "    </tr>\n",
              "    <tr>\n",
              "      <th rowspan=\"3\" valign=\"top\">Motor Vehicles &amp; Parts</th>\n",
              "      <th>big</th>\n",
              "      <td>4468.0</td>\n",
              "    </tr>\n",
              "    <tr>\n",
              "      <th>medium</th>\n",
              "      <td>236.0</td>\n",
              "    </tr>\n",
              "    <tr>\n",
              "      <th>small</th>\n",
              "      <td>182.0</td>\n",
              "    </tr>\n",
              "    <tr>\n",
              "      <th rowspan=\"3\" valign=\"top\">Retailing</th>\n",
              "      <th>big</th>\n",
              "      <td>1165.0</td>\n",
              "    </tr>\n",
              "    <tr>\n",
              "      <th>medium</th>\n",
              "      <td>221.5</td>\n",
              "    </tr>\n",
              "    <tr>\n",
              "      <th>small</th>\n",
              "      <td>86.0</td>\n",
              "    </tr>\n",
              "    <tr>\n",
              "      <th rowspan=\"3\" valign=\"top\">Technology</th>\n",
              "      <th>big</th>\n",
              "      <td>7246.0</td>\n",
              "    </tr>\n",
              "    <tr>\n",
              "      <th>medium</th>\n",
              "      <td>401.0</td>\n",
              "    </tr>\n",
              "    <tr>\n",
              "      <th>small</th>\n",
              "      <td>321.0</td>\n",
              "    </tr>\n",
              "    <tr>\n",
              "      <th rowspan=\"3\" valign=\"top\">Telecommunications</th>\n",
              "      <th>big</th>\n",
              "      <td>13345.0</td>\n",
              "    </tr>\n",
              "    <tr>\n",
              "      <th>medium</th>\n",
              "      <td>219.0</td>\n",
              "    </tr>\n",
              "    <tr>\n",
              "      <th>small</th>\n",
              "      <td>685.0</td>\n",
              "    </tr>\n",
              "    <tr>\n",
              "      <th rowspan=\"3\" valign=\"top\">Transportation</th>\n",
              "      <th>big</th>\n",
              "      <td>4844.0</td>\n",
              "    </tr>\n",
              "    <tr>\n",
              "      <th>medium</th>\n",
              "      <td>427.0</td>\n",
              "    </tr>\n",
              "    <tr>\n",
              "      <th>small</th>\n",
              "      <td>226.0</td>\n",
              "    </tr>\n",
              "    <tr>\n",
              "      <th rowspan=\"2\" valign=\"top\">Wholesalers</th>\n",
              "      <th>medium</th>\n",
              "      <td>395.5</td>\n",
              "    </tr>\n",
              "    <tr>\n",
              "      <th>small</th>\n",
              "      <td>70.5</td>\n",
              "    </tr>\n",
              "  </tbody>\n",
              "</table>\n",
              "</div>"
            ],
            "text/plain": [
              "                                           Profits\n",
              "Sector                       company_size         \n",
              "Aerospace & Defense          big            5176.0\n",
              "                             medium          545.0\n",
              "                             small           182.0\n",
              "Apparel                      medium          415.5\n",
              "                             small           174.0\n",
              "Business Services            big             169.0\n",
              "                             medium          419.0\n",
              "                             small           148.0\n",
              "Chemicals                    medium         1166.0\n",
              "                             small           144.5\n",
              "Energy                       medium          874.0\n",
              "                             small           118.0\n",
              "Engineering & Construction   medium          128.0\n",
              "                             small           167.5\n",
              "Financials                   big           22894.0\n",
              "                             medium         1224.0\n",
              "                             small           473.0\n",
              "Food and Drug Stores         big            3129.5\n",
              "                             medium          160.5\n",
              "                             small            26.0\n",
              "Food, Beverages & Tobacco    big            5452.0\n",
              "                             medium          554.5\n",
              "                             small           260.5\n",
              "Health Care                  big            2129.0\n",
              "                             medium          427.0\n",
              "                             small           204.5\n",
              "Hotels, Resturants & Leisure big            1293.0\n",
              "                             medium          161.0\n",
              "                             small         -1394.0\n",
              "Household Products           big            7036.0\n",
              "                             medium          325.0\n",
              "                             small            89.0\n",
              "Industrials                  big            2406.0\n",
              "                             medium          272.5\n",
              "                             small           108.0\n",
              "Materials                    medium          274.0\n",
              "                             small            54.0\n",
              "Media                        big            8382.0\n",
              "                             medium          151.0\n",
              "                             small            64.0\n",
              "Motor Vehicles & Parts       big            4468.0\n",
              "                             medium          236.0\n",
              "                             small           182.0\n",
              "Retailing                    big            1165.0\n",
              "                             medium          221.5\n",
              "                             small            86.0\n",
              "Technology                   big            7246.0\n",
              "                             medium          401.0\n",
              "                             small           321.0\n",
              "Telecommunications           big           13345.0\n",
              "                             medium          219.0\n",
              "                             small           685.0\n",
              "Transportation               big            4844.0\n",
              "                             medium          427.0\n",
              "                             small           226.0\n",
              "Wholesalers                  medium          395.5\n",
              "                             small            70.5"
            ]
          },
          "metadata": {
            "tags": []
          },
          "execution_count": 42
        }
      ]
    },
    {
      "cell_type": "markdown",
      "metadata": {
        "id": "hmMQVikzUfjf"
      },
      "source": [
        "##### EX 7\n",
        "> Dataset https://data-wizards.s3.amazonaws.com/datasets/dataset_star_wars.csv\n",
        "\n",
        "Identify fields with missing values. Remove observations with null values for any numerical variable\n",
        "\n",
        "---\n"
      ]
    },
    {
      "cell_type": "code",
      "metadata": {
        "id": "NsFLwIx4RR7C"
      },
      "source": [
        "# Importing libraries\n",
        "import pandas as pd\n",
        "import matplotlib.pyplot as plt\n",
        "import seaborn as sn\n",
        "from matplotlib.pyplot import figure\n",
        "from scipy import stats\n",
        "import scipy\n",
        "from datetime import datetime"
      ],
      "execution_count": null,
      "outputs": []
    },
    {
      "cell_type": "code",
      "metadata": {
        "colab": {
          "base_uri": "https://localhost:8080/"
        },
        "id": "ZY8AzIWvRS0b",
        "outputId": "80550847-ac7d-4c17-9f4b-6638c8f26ea5"
      },
      "source": [
        "# Importing df\n",
        "df_starwars = pd.read_csv(\"https://data-wizards.s3.amazonaws.com/datasets/dataset_star_wars.csv\")\n",
        "df_starwars.dtypes"
      ],
      "execution_count": null,
      "outputs": [
        {
          "output_type": "execute_result",
          "data": {
            "text/plain": [
              "name           object\n",
              "height        float64\n",
              "mass          float64\n",
              "hair_color     object\n",
              "skin_color     object\n",
              "eye_color      object\n",
              "birth_year    float64\n",
              "gender         object\n",
              "homeworld      object\n",
              "species        object\n",
              "dtype: object"
            ]
          },
          "metadata": {
            "tags": []
          },
          "execution_count": 123
        }
      ]
    },
    {
      "cell_type": "code",
      "metadata": {
        "colab": {
          "base_uri": "https://localhost:8080/"
        },
        "id": "jJ52y22wRcbd",
        "outputId": "6f4eec3f-eacf-4b20-8409-e8fa036f6778"
      },
      "source": [
        "df_starwars.isna().any()"
      ],
      "execution_count": null,
      "outputs": [
        {
          "output_type": "execute_result",
          "data": {
            "text/plain": [
              "name          False\n",
              "height         True\n",
              "mass           True\n",
              "hair_color     True\n",
              "skin_color    False\n",
              "eye_color     False\n",
              "birth_year     True\n",
              "gender         True\n",
              "homeworld      True\n",
              "species        True\n",
              "dtype: bool"
            ]
          },
          "metadata": {
            "tags": []
          },
          "execution_count": 124
        }
      ]
    },
    {
      "cell_type": "code",
      "metadata": {
        "id": "9dWhGNqqRtL7"
      },
      "source": [
        "# We now omit rows with null values for numerical variables\n",
        "cond_1 = df_starwars[\"height\"].isna()\n",
        "cond_2 = df_starwars[\"mass\"].isna()\n",
        "cond_3 = df_starwars[\"birth_year\"].isna()\n",
        "\n",
        "df_starwars_clean = df_starwars[-(cond_1 & cond_2 & cond_3)]"
      ],
      "execution_count": null,
      "outputs": []
    }
  ]
}