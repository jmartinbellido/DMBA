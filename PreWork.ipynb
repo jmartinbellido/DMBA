{
  "nbformat": 4,
  "nbformat_minor": 0,
  "metadata": {
    "colab": {
      "name": "DMBA3_Python_PreWork.ipynb",
      "provenance": [],
      "toc_visible": true
    },
    "kernelspec": {
      "name": "python3",
      "display_name": "Python 3"
    }
  },
  "cells": [
    {
      "cell_type": "markdown",
      "metadata": {
        "id": "9faiCG3sdsfd"
      },
      "source": [
        "# **ISDI DMBA**\n",
        "# Introduction to Python for Data Analysis - Self-preparation Material\n",
        "---\n",
        "This *notebook* was elaborated to serve as self-preparation material for assistants to the DMBA Data Specialisation.\n",
        "\n",
        "### TABLE OF CONTENTS\n",
        "1. IMPORT LIBRARIES\n",
        "2. CREATE AN OBJECT\n",
        "3. OBJECT TYPES\n",
        "4. DATA STRUCTURES\n",
        "5. OPERATORS\n",
        "6. (BONUS) PROGRAMMING BASICS\n",
        "\n",
        "### Lecturer: Juan Martin Bellido (jmbelldo@isdi.education)"
      ]
    },
    {
      "cell_type": "markdown",
      "metadata": {
        "id": "e4e3hsAeeqhu"
      },
      "source": [
        "# IMPORT LIBRARIES\n",
        "---\n",
        "Python is an *open-source* and *collaborative* programming language. This means that it's open for anyone to create and share new functionalities, which are structured in *libraries* or (also called) *packages*. We need to install libraries (only once) and import them every time we intend to use them.\n",
        "\n",
        "Many popular libraries are already pre-installed in our environments, therefore we only need to import them. \n",
        "\n",
        "To import a library, we use the follow syntaxis,\n",
        "\n",
        "```\n",
        "import (library) as (tag)\n",
        "```\n"
      ]
    },
    {
      "cell_type": "code",
      "metadata": {
        "id": "dVrJ7J1tezCR"
      },
      "source": [
        "# we import library \"pandas\" as tag it as \"pd\"\n",
        "import pandas as pd"
      ],
      "execution_count": null,
      "outputs": []
    },
    {
      "cell_type": "markdown",
      "metadata": {
        "id": "p8ZkrjeNgzhP"
      },
      "source": [
        "# CREATE AN OBJECT\n",
        "---\n",
        "Python is also an *object-oriented* language. This means that we can define objects (variables) that will get stored temporarily in our environment to then be invoked when needed.\n",
        "\n",
        "*Note: objects defined will only get lost when explicitly deleted or when restarting our environment*\n",
        "\n",
        "To define a new object, we use the following syntaxis,\n",
        "\n",
        "```\n",
        "new_object = X (data to be stored)\n",
        "```\n"
      ]
    },
    {
      "cell_type": "code",
      "metadata": {
        "colab": {
          "base_uri": "https://localhost:8080/"
        },
        "id": "hSHLCPP2hPpv",
        "outputId": "346c1aa7-0310-4446-cbb1-3598024e0108"
      },
      "source": [
        "# What comes next is a simple example of defining a new object (\"name\") and then invoking it\n",
        "name = \"Martin\" # we define a new object (name) and store text input (\"Martin\")\n",
        "print(\"Hi \" + name) # we use the function print() and combine a text input with the object \"name\""
      ],
      "execution_count": 1,
      "outputs": [
        {
          "output_type": "stream",
          "text": [
            "Hi Martin\n"
          ],
          "name": "stdout"
        }
      ]
    },
    {
      "cell_type": "markdown",
      "metadata": {
        "id": "feOc-TlCiotM"
      },
      "source": [
        "# OBJECT TYPES\n",
        "---\n",
        "There are three elementary object types recognized in Python,\n",
        "*  *Numeric (numbers)*, which can be either (i) integers or (ii) *float* (which may contain decimals)\n",
        "*  *String (text)*\n",
        "*  *Logic (true/ false)*\n",
        "\n",
        "*Note: there are more object types, but rarely used in Data Analysis*\n"
      ]
    },
    {
      "cell_type": "code",
      "metadata": {
        "colab": {
          "base_uri": "https://localhost:8080/"
        },
        "id": "YIE3RoXujasd",
        "outputId": "a7a72ca8-2b02-4430-c751-24784487e0bc"
      },
      "source": [
        "# Let's create a first numeric (integer) object\n",
        "numeric_obj = 2\n",
        "type(numeric_obj) # we use the type() function to check object type"
      ],
      "execution_count": null,
      "outputs": [
        {
          "output_type": "execute_result",
          "data": {
            "text/plain": [
              "int"
            ]
          },
          "metadata": {
            "tags": []
          },
          "execution_count": 9
        }
      ]
    },
    {
      "cell_type": "code",
      "metadata": {
        "colab": {
          "base_uri": "https://localhost:8080/"
        },
        "id": "zN5qjkXhjSGS",
        "outputId": "1f38b3ef-2128-4b8f-f7bb-89ba3610f607"
      },
      "source": [
        "# Let us now overwrite the object with a new input\n",
        "numeric_obj = 1.2 # important: note that here we are overwriting the object with a new input\n",
        "type(numeric_obj) # we check again the type(), in this case it contains decimals, therefore it's a float"
      ],
      "execution_count": null,
      "outputs": [
        {
          "output_type": "execute_result",
          "data": {
            "text/plain": [
              "float"
            ]
          },
          "metadata": {
            "tags": []
          },
          "execution_count": 8
        }
      ]
    },
    {
      "cell_type": "code",
      "metadata": {
        "colab": {
          "base_uri": "https://localhost:8080/"
        },
        "id": "l9vvIj1QjSI8",
        "outputId": "6c479ae1-2da4-44cf-ecdb-14fc31d46702"
      },
      "source": [
        "# Next, we define a new object type string (text)\n",
        "string_obj = \"DMBA\"\n",
        "type(string_obj)"
      ],
      "execution_count": 2,
      "outputs": [
        {
          "output_type": "execute_result",
          "data": {
            "text/plain": [
              "str"
            ]
          },
          "metadata": {
            "tags": []
          },
          "execution_count": 2
        }
      ]
    },
    {
      "cell_type": "code",
      "metadata": {
        "colab": {
          "base_uri": "https://localhost:8080/"
        },
        "id": "aTuLJvMuio9V",
        "outputId": "efd7b078-3c31-4b61-feaa-3b3d9e7fb260"
      },
      "source": [
        "# Finally, we create an object type boolean (True or False)\n",
        "bool_obj = True\n",
        "type(bool_obj)"
      ],
      "execution_count": 3,
      "outputs": [
        {
          "output_type": "execute_result",
          "data": {
            "text/plain": [
              "bool"
            ]
          },
          "metadata": {
            "tags": []
          },
          "execution_count": 3
        }
      ]
    },
    {
      "cell_type": "markdown",
      "metadata": {
        "id": "7M3iNzlpiVwN"
      },
      "source": [
        "# DATA STRUCTURES\n",
        "---\n",
        "Data in Python can be stored in many different formats, each of them with unique characteristics and treatment.\n",
        "\n",
        "There are *four* basic data structures included in Python base (below are presented in order of relevance for Data Analysis),\n",
        "*   *Lists*\n",
        "*   *Dictionaries*\n",
        "*   *Tuples*\n",
        "*   *Sets*\n",
        "\n",
        "Besides those included as part of Python's original functionalities, there are additional data structures that were incorporated though libraries. The most important data structure for Data Analysis are DataFrames (data tables), which were incorporated by the *Pandas* library. DataFrames will not be covered in this self-phase study guide, but throughout the course.\n"
      ]
    },
    {
      "cell_type": "markdown",
      "metadata": {
        "id": "QN1OZN-_kemL"
      },
      "source": [
        "### Lists\n",
        "---\n",
        "*Lists* are essentially vectors, an unidensional structure that can store data from multiple types. Each element (piece of data) stored in a list is *indexed*; this means that elements stored have a specific and unique position within the structure.   \n",
        "\n",
        "To create a list, we use the following syntax,\n",
        "\n",
        "```\n",
        "my_list = [x,y,z ... n]\n",
        "```\n",
        "\n"
      ]
    },
    {
      "cell_type": "code",
      "metadata": {
        "colab": {
          "base_uri": "https://localhost:8080/"
        },
        "id": "o_DcdJVwkxd3",
        "outputId": "c91e34b0-11c6-4e90-d3be-e3d9d73fe8f6"
      },
      "source": [
        "# We create our first list\n",
        "my_list = [1,\"a\",3,False,5] # we define a new object that contains a list\n",
        "my_list # we invoke our new object"
      ],
      "execution_count": 4,
      "outputs": [
        {
          "output_type": "execute_result",
          "data": {
            "text/plain": [
              "[1, 'a', 3, False, 5]"
            ]
          },
          "metadata": {
            "tags": []
          },
          "execution_count": 4
        }
      ]
    },
    {
      "cell_type": "code",
      "metadata": {
        "colab": {
          "base_uri": "https://localhost:8080/"
        },
        "id": "QGg6qFAnkxkL",
        "outputId": "1a62aeea-54ba-4c3b-ac3d-da87ecb99f37"
      },
      "source": [
        "# Note: lists may contain lists as elements\n",
        "my_list_v2 = [100,\"one hundred\",my_list] # we create a new list, which holds the first list as one of the elements stored\n",
        "my_list_v2 # we invoke the object"
      ],
      "execution_count": 8,
      "outputs": [
        {
          "output_type": "execute_result",
          "data": {
            "text/plain": [
              "[100, 'one hundred', [1, 'a', 3, False, 5]]"
            ]
          },
          "metadata": {
            "tags": []
          },
          "execution_count": 8
        }
      ]
    },
    {
      "cell_type": "code",
      "metadata": {
        "colab": {
          "base_uri": "https://localhost:8080/"
        },
        "id": "esmP4G3Rl_tP",
        "outputId": "f8137ad3-2511-44b0-d5f9-ee0163f18437"
      },
      "source": [
        "# La característica principal de un list es que los elementos almacenados se encuentran indexados\n",
        "## esto significa que cada elemento en un list contiene un número único que nos permite invocarlo\n",
        "## nota importante: Python indexa al 0 (el 0 es el primer valor)\n",
        "\n",
        "# The most important thing about lists is that elements stored are indexed\n",
        "## as result, we are able to invoke specific elements stored\n",
        "## note: python is 0 indexed; this means that the element \"0\" is always the first one \n",
        "my_list_v2[0] # we invoke the first element stored in list"
      ],
      "execution_count": 9,
      "outputs": [
        {
          "output_type": "execute_result",
          "data": {
            "text/plain": [
              "100"
            ]
          },
          "metadata": {
            "tags": []
          },
          "execution_count": 9
        }
      ]
    },
    {
      "cell_type": "code",
      "metadata": {
        "colab": {
          "base_uri": "https://localhost:8080/"
        },
        "id": "LmarGLiwwbyl",
        "outputId": "ecf7ff98-3a3d-4481-e809-d0496b236923"
      },
      "source": [
        "# Now we will overwrite one (only one) specific element\n",
        "my_list_v2[0] = 101 # we overwrite (replace) the first element (element 0) in vector wit a new number\n",
        "my_list_v2 # we invoke the object"
      ],
      "execution_count": 10,
      "outputs": [
        {
          "output_type": "execute_result",
          "data": {
            "text/plain": [
              "[101, 'one hundred', [1, 'a', 3, False, 5]]"
            ]
          },
          "metadata": {
            "tags": []
          },
          "execution_count": 10
        }
      ]
    },
    {
      "cell_type": "markdown",
      "metadata": {
        "id": "XXzKcPfLl0qA"
      },
      "source": [
        "### Dictionaries\n",
        "---\n",
        "*Dictionaries* are unidimensional structures that stored data under a *key-pair* logic. Similar to noSQL (non relational) databases, elements stored are **not** indexed (do not have a fix position) and can be invoked using their *key* values. *Key* values are always unique.\n",
        "\n",
        "To create a new dictionary we use the following syntax,\n",
        "\n",
        "```\n",
        "my_dic = {\n",
        "  key_1:value_1,\n",
        "  key_2:value_2,\n",
        "  key_3:value_3,\n",
        "  ...\n",
        "  }\n",
        "```\n"
      ]
    },
    {
      "cell_type": "code",
      "metadata": {
        "colab": {
          "base_uri": "https://localhost:8080/"
        },
        "id": "fpK0x8LEnKlQ",
        "outputId": "0c3b9510-0caf-4217-dcb9-f21a60b5f3f6"
      },
      "source": [
        "# Let us create our first dictionary\n",
        "my_dic = {\n",
        "  \"school\": \"ISDI\",                     # this line is a \"key-pair\" element\n",
        "  \"program\": \"DMBA\",                    # this is a second \"key-pair\" element\n",
        "  \"year\": 2021,\n",
        "  \"this is a Python course\": True,\n",
        "  \"assistants\":[\"Maria\",\"Juan\",\"Jose\"], # note that this \"pair\" is actually a list\n",
        "  \"lecturer\":\"Martin\"\n",
        "}\n",
        "\n",
        "my_dic # we invoke the dictionary and verify that elements are not ordered in the same way we defined them\n"
      ],
      "execution_count": 11,
      "outputs": [
        {
          "output_type": "execute_result",
          "data": {
            "text/plain": [
              "{'assistants': ['Maria', 'Juan', 'Jose'],\n",
              " 'lecturer': 'Martin',\n",
              " 'program': 'DMBA',\n",
              " 'school': 'ISDI',\n",
              " 'this is a Python course': True,\n",
              " 'year': 2021}"
            ]
          },
          "metadata": {
            "tags": []
          },
          "execution_count": 11
        }
      ]
    },
    {
      "cell_type": "code",
      "metadata": {
        "colab": {
          "base_uri": "https://localhost:8080/",
          "height": 35
        },
        "id": "2n5VmyxCnX-k",
        "outputId": "0ac741b2-bc20-4a2e-bbfc-589b4046af0a"
      },
      "source": [
        "# We now invoke one specific element \"pair\" by parsing its unique \"key\"\n",
        "my_dic[\"program\"]"
      ],
      "execution_count": 12,
      "outputs": [
        {
          "output_type": "execute_result",
          "data": {
            "application/vnd.google.colaboratory.intrinsic+json": {
              "type": "string"
            },
            "text/plain": [
              "'DMBA'"
            ]
          },
          "metadata": {
            "tags": []
          },
          "execution_count": 12
        }
      ]
    },
    {
      "cell_type": "code",
      "metadata": {
        "colab": {
          "base_uri": "https://localhost:8080/"
        },
        "id": "iS3Eet22wB2K",
        "outputId": "38dda1d3-370d-4106-fa0b-36ec331201e4"
      },
      "source": [
        "# We now replace one element (\"pair\") in the dictionary using (again) its \"key\" value\n",
        "my_dic[\"assistants\"] = [\"Maria\",\"Juan\",\"Jose\",\"Pepe\"] # we are replacing the \"pair\" value of \"key\" \"assistants\"\n",
        "my_dic"
      ],
      "execution_count": 13,
      "outputs": [
        {
          "output_type": "execute_result",
          "data": {
            "text/plain": [
              "{'assistants': ['Maria', 'Juan', 'Jose', 'Pepe'],\n",
              " 'lecturer': 'Martin',\n",
              " 'program': 'DMBA',\n",
              " 'school': 'ISDI',\n",
              " 'this is a Python course': True,\n",
              " 'year': 2021}"
            ]
          },
          "metadata": {
            "tags": []
          },
          "execution_count": 13
        }
      ]
    },
    {
      "cell_type": "markdown",
      "metadata": {
        "id": "XgGtPkeQpucC"
      },
      "source": [
        "### Tuples\n",
        "---\n",
        "*Tuples* are unidimensional structures similar to lists, but *unmutable*; this means that elements in a tuple cannot be overwritten.\n",
        "\n",
        "```\n",
        "my_tupple = (x,y,z ... n)\n",
        "```\n"
      ]
    },
    {
      "cell_type": "code",
      "metadata": {
        "colab": {
          "base_uri": "https://localhost:8080/"
        },
        "id": "ytD0T5_Apv4t",
        "outputId": "b3531041-dcee-479b-8201-3c241c04128e"
      },
      "source": [
        "# We create and invoke a tupple\n",
        "my_tupple = (2,1,\"c\",\"a\")\n",
        "my_tupple"
      ],
      "execution_count": 14,
      "outputs": [
        {
          "output_type": "execute_result",
          "data": {
            "text/plain": [
              "(2, 1, 'c', 'a')"
            ]
          },
          "metadata": {
            "tags": []
          },
          "execution_count": 14
        }
      ]
    },
    {
      "cell_type": "code",
      "metadata": {
        "colab": {
          "base_uri": "https://localhost:8080/"
        },
        "id": "72Vah0kxvvt6",
        "outputId": "a11d8b81-5329-421d-fe78-ecb5d052b577"
      },
      "source": [
        "# Tuples are indexed, therefore we can select elements based on its position within the structure\n",
        "my_tupple[1]"
      ],
      "execution_count": null,
      "outputs": [
        {
          "output_type": "execute_result",
          "data": {
            "text/plain": [
              "2"
            ]
          },
          "metadata": {
            "tags": []
          },
          "execution_count": 50
        }
      ]
    },
    {
      "cell_type": "code",
      "metadata": {
        "colab": {
          "base_uri": "https://localhost:8080/",
          "height": 164
        },
        "id": "MFuY8Dp7wlFG",
        "outputId": "432a3bc8-fc07-4906-e03b-1635a31fcd8e"
      },
      "source": [
        "# As mentioned, tuples are unmutable\n",
        "## we cannot overwrite (replace) elements\n",
        "my_tupple[1] = 3 # this will generate an execution error"
      ],
      "execution_count": null,
      "outputs": [
        {
          "output_type": "error",
          "ename": "TypeError",
          "evalue": "ignored",
          "traceback": [
            "\u001b[0;31m---------------------------------------------------------------------------\u001b[0m",
            "\u001b[0;31mTypeError\u001b[0m                                 Traceback (most recent call last)",
            "\u001b[0;32m<ipython-input-54-258fd01bb191>\u001b[0m in \u001b[0;36m<module>\u001b[0;34m()\u001b[0m\n\u001b[0;32m----> 1\u001b[0;31m \u001b[0mmy_tupple\u001b[0m\u001b[0;34m[\u001b[0m\u001b[0;36m1\u001b[0m\u001b[0;34m]\u001b[0m \u001b[0;34m=\u001b[0m \u001b[0;36m3\u001b[0m\u001b[0;34m\u001b[0m\u001b[0;34m\u001b[0m\u001b[0m\n\u001b[0m",
            "\u001b[0;31mTypeError\u001b[0m: 'tuple' object does not support item assignment"
          ]
        }
      ]
    },
    {
      "cell_type": "markdown",
      "metadata": {
        "id": "fV6a4APBw0qI"
      },
      "source": [
        "### Sets\n",
        "---\n",
        "*Sets* are structures similar to lists and tuples (also unidimensional), but with two big differences,\n",
        "*   *sets do not allow duplicated values*;\n",
        "*   *elements are not indexed*.\n",
        "\n",
        "To define a set we use the following syntax,\n",
        "\n",
        "```\n",
        "my_set = {x,y,z ... n}\n",
        "```"
      ]
    },
    {
      "cell_type": "code",
      "metadata": {
        "colab": {
          "base_uri": "https://localhost:8080/"
        },
        "id": "n0WpYMDlw1ZU",
        "outputId": "4cade1a7-0a63-44a1-834f-492453cf792d"
      },
      "source": [
        "my_set = {1,10,0,5,'b','c','a'} # definimos un set\n",
        "my_set  # lo invocamos, verificamos que el orden de los elementos es distinto al que hemos establecido"
      ],
      "execution_count": null,
      "outputs": [
        {
          "output_type": "execute_result",
          "data": {
            "text/plain": [
              "{0, 1, 10, 5, 'a', 'b', 'c'}"
            ]
          },
          "metadata": {
            "tags": []
          },
          "execution_count": 10
        }
      ]
    },
    {
      "cell_type": "code",
      "metadata": {
        "colab": {
          "base_uri": "https://localhost:8080/",
          "height": 164
        },
        "id": "J7LpqXEHxhHU",
        "outputId": "07af1b7e-8752-4d91-8f45-6a0245e8c932"
      },
      "source": [
        "# A continuación, verificamos que efectivamente un set no permite la indexación\n",
        "my_set[2] # esto dará error"
      ],
      "execution_count": null,
      "outputs": [
        {
          "output_type": "error",
          "ename": "TypeError",
          "evalue": "ignored",
          "traceback": [
            "\u001b[0;31m---------------------------------------------------------------------------\u001b[0m",
            "\u001b[0;31mTypeError\u001b[0m                                 Traceback (most recent call last)",
            "\u001b[0;32m<ipython-input-8-0d2f9e28ef76>\u001b[0m in \u001b[0;36m<module>\u001b[0;34m()\u001b[0m\n\u001b[0;32m----> 1\u001b[0;31m \u001b[0mmy_set\u001b[0m\u001b[0;34m[\u001b[0m\u001b[0;36m2\u001b[0m\u001b[0;34m]\u001b[0m\u001b[0;34m\u001b[0m\u001b[0;34m\u001b[0m\u001b[0m\n\u001b[0m",
            "\u001b[0;31mTypeError\u001b[0m: 'set' object does not support indexing"
          ]
        }
      ]
    },
    {
      "cell_type": "markdown",
      "metadata": {
        "id": "DWN9PifdxeHs"
      },
      "source": [
        "# OPERATORS\n",
        "---\n",
        "In programming, *operators* are symbols that perform specific mathematical, relational or logical operations. \n",
        "\n",
        "*   *Arithmetic Operators*: perform mathematical operations\n",
        "*   *Comparison Operators*: contrast objects and compare values, resulting in a boolean object (true/false)\n",
        "*   *Logic Operators*: used for performing logic tests, producing a boolean object (true/false) \n",
        "\n",
        "\n",
        "\n",
        "\n"
      ]
    },
    {
      "cell_type": "markdown",
      "metadata": {
        "id": "DHrISNSoxkNR"
      },
      "source": [
        "### Operadores aritméticos\n",
        "---\n",
        "\n",
        "\n",
        "| Operator \t|   Description  \t|\n",
        "|----------\t|:--------------:\t|\n",
        "| +        \t| addition       \t|\n",
        "| -        \t| subtraction    \t|\n",
        "| *        \t| multiplication \t|\n",
        "| /        \t| division       \t|\n",
        "| **  \t| exponentiation \t|"
      ]
    },
    {
      "cell_type": "code",
      "metadata": {
        "id": "PnBL6777yEzr"
      },
      "source": [
        "# Arithmetic operators\n",
        "## we define two numeric objects\n",
        "obj_1 = 10\n",
        "obj_2 = 5"
      ],
      "execution_count": null,
      "outputs": []
    },
    {
      "cell_type": "code",
      "metadata": {
        "colab": {
          "base_uri": "https://localhost:8080/"
        },
        "id": "A-n2tQVryE46",
        "outputId": "22de7905-f87a-4d7f-914c-af6d81d4f57b"
      },
      "source": [
        "# Test 1\n",
        "obj_1/obj_2"
      ],
      "execution_count": null,
      "outputs": [
        {
          "output_type": "execute_result",
          "data": {
            "text/plain": [
              "2.0"
            ]
          },
          "metadata": {
            "tags": []
          },
          "execution_count": 56
        }
      ]
    },
    {
      "cell_type": "code",
      "metadata": {
        "colab": {
          "base_uri": "https://localhost:8080/"
        },
        "id": "4ph8qWcYyKAJ",
        "outputId": "4977c6dc-1516-4d88-e042-0ef0e8df19fb"
      },
      "source": [
        "# Test 2\n",
        "obj_1-obj_2"
      ],
      "execution_count": null,
      "outputs": [
        {
          "output_type": "execute_result",
          "data": {
            "text/plain": [
              "5"
            ]
          },
          "metadata": {
            "tags": []
          },
          "execution_count": 57
        }
      ]
    },
    {
      "cell_type": "markdown",
      "metadata": {
        "id": "dYR-fXcrzNZv"
      },
      "source": [
        "### Operadores de comparación\n",
        "---\n",
        "\n",
        "| Operator  \t|        Description       \t|\n",
        "|-----------\t|:------------------------:\t|\n",
        "| <         \t| less than                \t|\n",
        "| <=        \t| less than or equal to    \t|\n",
        "| >         \t| greater than             \t|\n",
        "| >=        \t| greater than or equal to \t|\n",
        "| ==        \t| exactly equal to         \t|\n",
        "| !=        \t| not equal to             \t|\n"
      ]
    },
    {
      "cell_type": "code",
      "metadata": {
        "id": "8xkpEPI8yQJe"
      },
      "source": [
        "# Comparison objects\n",
        "## we define two numeric objects\n",
        "obj_1 = 10\n",
        "obj_2 = 5"
      ],
      "execution_count": null,
      "outputs": []
    },
    {
      "cell_type": "code",
      "metadata": {
        "colab": {
          "base_uri": "https://localhost:8080/"
        },
        "id": "XAYMAGrbyRKA",
        "outputId": "fda27b3d-1b24-4523-cd98-e734ea76b257"
      },
      "source": [
        "# Test 1\n",
        "## check if object 1 is greater than 8\n",
        "obj_1 > 8"
      ],
      "execution_count": null,
      "outputs": [
        {
          "output_type": "execute_result",
          "data": {
            "text/plain": [
              "True"
            ]
          },
          "metadata": {
            "tags": []
          },
          "execution_count": 59
        }
      ]
    },
    {
      "cell_type": "code",
      "metadata": {
        "colab": {
          "base_uri": "https://localhost:8080/"
        },
        "id": "RPuSGW7syVoV",
        "outputId": "2a7f7521-80b9-4c90-a072-ed570ebc3d08"
      },
      "source": [
        "# Test 2\n",
        "## check if object 1 is equal to object 2\n",
        "obj_1 == obj_2"
      ],
      "execution_count": null,
      "outputs": [
        {
          "output_type": "execute_result",
          "data": {
            "text/plain": [
              "False"
            ]
          },
          "metadata": {
            "tags": []
          },
          "execution_count": 60
        }
      ]
    },
    {
      "cell_type": "markdown",
      "metadata": {
        "id": "3QVwgwuIxnQl"
      },
      "source": [
        "### Operadores Lógicos\n",
        "---\n",
        "\n",
        "| Operator  \t|        Description       \t|\n",
        "|-----------\t|:------------------------:\t|\n",
        "| x and y    \t| se cumplen condiciones X e Y                    \t|\n",
        "| x or y    \t| se cumple  condiciones X o Y                   \t|\n",
        "| not x     \t| negamos la condición X   \t|\n"
      ]
    },
    {
      "cell_type": "code",
      "metadata": {
        "id": "7Ec848t62Cpl"
      },
      "source": [
        "## we define two numeric objects\n",
        "obj_1 = 10\n",
        "obj_2 = 5"
      ],
      "execution_count": null,
      "outputs": []
    },
    {
      "cell_type": "code",
      "metadata": {
        "colab": {
          "base_uri": "https://localhost:8080/"
        },
        "id": "aKXxM74fyVq6",
        "outputId": "4a2e10b6-5356-4212-b605-f5aa4683e551"
      },
      "source": [
        "# Test 1\n",
        "## test if at least one of the two conditions are fulfilled\n",
        "obj_1 > 8 or obj_2 > 8 # this reads: \"objet 1 is greater than 8 OR object 2 is greater than 8\""
      ],
      "execution_count": null,
      "outputs": [
        {
          "output_type": "execute_result",
          "data": {
            "text/plain": [
              "True"
            ]
          },
          "metadata": {
            "tags": []
          },
          "execution_count": 63
        }
      ]
    },
    {
      "cell_type": "code",
      "metadata": {
        "colab": {
          "base_uri": "https://localhost:8080/"
        },
        "id": "taDNi_c6yZGC",
        "outputId": "8b6e1a25-08f9-42da-80a4-8d891551dd6f"
      },
      "source": [
        "# Test 2\n",
        "## test if both conditions are met simultaneously\n",
        "obj_1 > 8 and obj_2 > 8 # this reads: \"objet 1 is greater than 8 AND object 2 is greater than 8\""
      ],
      "execution_count": null,
      "outputs": [
        {
          "output_type": "execute_result",
          "data": {
            "text/plain": [
              "False"
            ]
          },
          "metadata": {
            "tags": []
          },
          "execution_count": 64
        }
      ]
    },
    {
      "cell_type": "code",
      "metadata": {
        "colab": {
          "base_uri": "https://localhost:8080/"
        },
        "id": "dk_jLz7A2D5A",
        "outputId": "b4ec6df5-d05a-44a5-c009-f6580e4b6a55"
      },
      "source": [
        "# Test 3\n",
        "## negate a conditioon\n",
        "not obj_1 > 8 # this reads: \"objet 1 is NOT greater than 8\""
      ],
      "execution_count": null,
      "outputs": [
        {
          "output_type": "execute_result",
          "data": {
            "text/plain": [
              "False"
            ]
          },
          "metadata": {
            "tags": []
          },
          "execution_count": 66
        }
      ]
    },
    {
      "cell_type": "markdown",
      "metadata": {
        "id": "qdL_ZrwwxnYG"
      },
      "source": [
        "# (BONUS) PROGRAMMING BASICS\n",
        "---\n",
        "There are certain functionalities available in all programming languages. Their use is not strictly needed in Data Analysis, but they are particularly helpful for process automation,\n",
        "\n",
        "*   *Conditional Expressions*\n",
        "*   *Loops*"
      ]
    },
    {
      "cell_type": "markdown",
      "metadata": {
        "id": "qTRTsODkxyW6"
      },
      "source": [
        "### Conditional Expressions\n",
        "---\n",
        "A conditional expression performs a series of logic tests with pre-defined responses. They compose of at least one condition, but they could hold as many as needed.\n",
        "\n",
        "Basic syntaxis,\n",
        "```\n",
        "if (condition):\n",
        "  response if condition is met\n",
        "```\n",
        "\n",
        "Expanded syntaxis,\n",
        "```\n",
        "if (condition):\n",
        "  response if condition is met\n",
        "elif (second conditioon):\n",
        "  response if condition is met\n",
        "...\n",
        "else: \n",
        "  response if non of previous conditions are met\n",
        "```\n",
        "\n",
        "Note that in case of having multiple conditions, those will be tested in order; first condition met will trigger the response."
      ]
    },
    {
      "cell_type": "code",
      "metadata": {
        "colab": {
          "base_uri": "https://localhost:8080/"
        },
        "id": "VQ0ycmMP2hM8",
        "outputId": "ad0522df-513c-4c93-e6aa-73c58e45d06d"
      },
      "source": [
        "# Let us create an IF condition that checks if an object is positive (greater than 0)\n",
        "obj = 10 # create an object\n",
        "\n",
        "if obj > 0:                         # condition 1: test if object is positive\n",
        "  print(\"number is positive\")       # print() displays text as output\n",
        "\n",
        "## note that we have not established a response if condition is not met"
      ],
      "execution_count": 3,
      "outputs": [
        {
          "output_type": "stream",
          "text": [
            "number is positive\n"
          ],
          "name": "stdout"
        }
      ]
    },
    {
      "cell_type": "code",
      "metadata": {
        "colab": {
          "base_uri": "https://localhost:8080/"
        },
        "id": "zVXXc-M72hRm",
        "outputId": "71d6c6c8-5f9f-408f-a2c1-c70beb7fa3ef"
      },
      "source": [
        "# Let us now expand the previous expression to also test if number is 0 or negative\n",
        "obj = -10 # overwriting the object with a new number\n",
        "\n",
        "if obj > 0:                         # condition 1: test if object is positive\n",
        "  print(\"number is positive\")    \n",
        "elif obj == 0:                      # condition 2: test if object is 0\n",
        "  print(\"number is 0\")\n",
        "else:                               # condition 3: test if rest of conditions are not met\n",
        "  print(\"number is negative\")\n",
        "\n"
      ],
      "execution_count": 2,
      "outputs": [
        {
          "output_type": "stream",
          "text": [
            "number is negative\n"
          ],
          "name": "stdout"
        }
      ]
    },
    {
      "cell_type": "markdown",
      "metadata": {
        "id": "GoBUT6IFx1hF"
      },
      "source": [
        "### Loops\n",
        "---\n",
        "In a loop, we establish a response that will repeat multiple times, based on a given criteria.\n",
        "\n",
        "*   *For loop*: loop will repeat as many times as number of elements stored in a given list\n",
        "*   *Do while*: loop will repeat as long as a given condition is kept true\n",
        "\n",
        "One important point in loops is that we can assign object values dinamically; this means that its value may change on each repetition.\n",
        "\n",
        "Basic syntax,\n",
        "```\n",
        "vector = [x,y,z .. n]\n",
        "for i in vector:\n",
        "  print(i)\n",
        "```"
      ]
    },
    {
      "cell_type": "code",
      "metadata": {
        "colab": {
          "base_uri": "https://localhost:8080/"
        },
        "id": "lovI_K2P3y9o",
        "outputId": "794727f7-b884-4682-cf35-bebdb74edcf6"
      },
      "source": [
        "my_vector = [\"a\",\"b\",\"c\",\"d\",\"e\"] # we create a list\n",
        "for x in my_vector: # this reads: for each element (X) stored in object \"my_vector\"\n",
        "  print(x)\n",
        "\n",
        "# this loop has 5 repetitions, as there are 5 elements stored in list\n",
        "# x gets assigned value of each element on each repetition"
      ],
      "execution_count": 6,
      "outputs": [
        {
          "output_type": "stream",
          "text": [
            "a\n",
            "b\n",
            "c\n",
            "d\n",
            "e\n"
          ],
          "name": "stdout"
        }
      ]
    },
    {
      "cell_type": "markdown",
      "metadata": {
        "id": "-WziRggv31NC"
      },
      "source": [
        "In a *while loop* there is not a limited number of repetitions, but the loop will last as long as a given condition keeps true.\n",
        "\n",
        "```\n",
        "while (contition):\n",
        "  response\n",
        "```\n",
        "Note: we need to be careful to avoid infinite (endless) loops. In that case we would be forced to restart the environment.\n"
      ]
    },
    {
      "cell_type": "code",
      "metadata": {
        "colab": {
          "base_uri": "https://localhost:8080/"
        },
        "id": "mzaFicUbsqs5",
        "outputId": "217b2e3f-f2cd-4414-f539-b2fd730efeec"
      },
      "source": [
        "my_object = 10                # we create an object\n",
        "while my_object <= 25:        # we establish a condition\n",
        "  print(my_object)            # printing current value of object on each repetition\n",
        "  my_object = my_object + 1   # adding 1 to current object value\n"
      ],
      "execution_count": 7,
      "outputs": [
        {
          "output_type": "stream",
          "text": [
            "10\n",
            "11\n",
            "12\n",
            "13\n",
            "14\n",
            "15\n",
            "16\n",
            "17\n",
            "18\n",
            "19\n",
            "20\n",
            "21\n",
            "22\n",
            "23\n",
            "24\n",
            "25\n"
          ],
          "name": "stdout"
        }
      ]
    }
  ]
}